{
  "nbformat": 4,
  "nbformat_minor": 0,
  "metadata": {
    "colab": {
      "name": "Assignment 03.ipynb",
      "provenance": [],
      "collapsed_sections": [],
      "authorship_tag": "ABX9TyOZ5icwU8abGxPTSjZ2iokG",
      "include_colab_link": true
    },
    "kernelspec": {
      "name": "python3",
      "display_name": "Python 3"
    },
    "language_info": {
      "name": "python"
    }
  },
  "cells": [
    {
      "cell_type": "markdown",
      "metadata": {
        "id": "view-in-github",
        "colab_type": "text"
      },
      "source": [
        "<a href=\"https://colab.research.google.com/github/vishwanaik15/DM-ASSIGNMENT03/blob/main/Assignment_03.ipynb\" target=\"_parent\"><img src=\"https://colab.research.google.com/assets/colab-badge.svg\" alt=\"Open In Colab\"/></a>"
      ]
    },
    {
      "cell_type": "markdown",
      "metadata": {
        "id": "YJwfOIChVhHX"
      },
      "source": [
        "Name: Vishwa Chetankumar Naik</br>\n",
        "UTA ID:1001871311</br>\n",
        "Assignment - 03 </br>\n"
      ]
    },
    {
      "cell_type": "markdown",
      "metadata": {
        "id": "p8Np3u_nVo__"
      },
      "source": [
        "**Import Libraries**"
      ]
    },
    {
      "cell_type": "code",
      "metadata": {
        "id": "wR7vmGNtOarK"
      },
      "source": [
        "import os\n",
        "import glob\n",
        "import numpy as np\n",
        "import pandas as pd\n",
        "from pandas import Series\n",
        "import re\n",
        "from sys import path\n",
        "from collections import Counter\n",
        "import string\n",
        "import matplotlib.pyplot as plt\n",
        "import seaborn as sns \n",
        "%matplotlib inline\n",
        "import re\n"
      ],
      "execution_count": 949,
      "outputs": []
    },
    {
      "cell_type": "markdown",
      "metadata": {
        "id": "M8qGzDUmVqkT"
      },
      "source": [
        "**A)Divide the dataset as train and development.**</br>\n",
        "--Here I have used dataset from kaggle sentiment labelled sentences dataset.</br>\n",
        "--I have imported test data at the last of  assignment because in the last question it is required, so just to remove confusion.\n",
        "\n",
        "\n"
      ]
    },
    {
      "cell_type": "code",
      "metadata": {
        "colab": {
          "base_uri": "https://localhost:8080/"
        },
        "id": "CYeQWyY8OeAH",
        "outputId": "1cd351b4-524e-4065-d64c-bba5bcf49a6d"
      },
      "source": [
        "from google.colab import drive\n",
        "drive.mount('/content/gdrive')"
      ],
      "execution_count": 950,
      "outputs": [
        {
          "output_type": "stream",
          "text": [
            "Drive already mounted at /content/gdrive; to attempt to forcibly remount, call drive.mount(\"/content/gdrive\", force_remount=True).\n"
          ],
          "name": "stdout"
        }
      ]
    },
    {
      "cell_type": "code",
      "metadata": {
        "colab": {
          "base_uri": "https://localhost:8080/"
        },
        "id": "UYJwUJg-OgDY",
        "outputId": "2a647d2b-7e69-487d-c520-2683b7a18dbc"
      },
      "source": [
        "imdb_data = pd.read_csv('/content/gdrive/My Drive/data/imdb_labelled.txt', delimiter='\\t', header=None, names=['review', 'sentiment'])\n",
        "print(imdb_data.shape)"
      ],
      "execution_count": 951,
      "outputs": [
        {
          "output_type": "stream",
          "text": [
            "(748, 2)\n"
          ],
          "name": "stdout"
        }
      ]
    },
    {
      "cell_type": "markdown",
      "metadata": {
        "id": "IoMEOGpKVzzQ"
      },
      "source": [
        "#dataset understanding and preprocess"
      ]
    },
    {
      "cell_type": "code",
      "metadata": {
        "colab": {
          "base_uri": "https://localhost:8080/",
          "height": 204
        },
        "id": "kng4MNCcOnzq",
        "outputId": "2a1053d9-6d63-4eb4-ffc8-8dc9ad337c83"
      },
      "source": [
        "imdb_data.head()"
      ],
      "execution_count": 952,
      "outputs": [
        {
          "output_type": "execute_result",
          "data": {
            "text/html": [
              "<div>\n",
              "<style scoped>\n",
              "    .dataframe tbody tr th:only-of-type {\n",
              "        vertical-align: middle;\n",
              "    }\n",
              "\n",
              "    .dataframe tbody tr th {\n",
              "        vertical-align: top;\n",
              "    }\n",
              "\n",
              "    .dataframe thead th {\n",
              "        text-align: right;\n",
              "    }\n",
              "</style>\n",
              "<table border=\"1\" class=\"dataframe\">\n",
              "  <thead>\n",
              "    <tr style=\"text-align: right;\">\n",
              "      <th></th>\n",
              "      <th>review</th>\n",
              "      <th>sentiment</th>\n",
              "    </tr>\n",
              "  </thead>\n",
              "  <tbody>\n",
              "    <tr>\n",
              "      <th>0</th>\n",
              "      <td>A very, very, very slow-moving, aimless movie ...</td>\n",
              "      <td>0</td>\n",
              "    </tr>\n",
              "    <tr>\n",
              "      <th>1</th>\n",
              "      <td>Not sure who was more lost - the flat characte...</td>\n",
              "      <td>0</td>\n",
              "    </tr>\n",
              "    <tr>\n",
              "      <th>2</th>\n",
              "      <td>Attempting artiness with black &amp; white and cle...</td>\n",
              "      <td>0</td>\n",
              "    </tr>\n",
              "    <tr>\n",
              "      <th>3</th>\n",
              "      <td>Very little music or anything to speak of.</td>\n",
              "      <td>0</td>\n",
              "    </tr>\n",
              "    <tr>\n",
              "      <th>4</th>\n",
              "      <td>The best scene in the movie was when Gerardo i...</td>\n",
              "      <td>1</td>\n",
              "    </tr>\n",
              "  </tbody>\n",
              "</table>\n",
              "</div>"
            ],
            "text/plain": [
              "                                              review  sentiment\n",
              "0  A very, very, very slow-moving, aimless movie ...          0\n",
              "1  Not sure who was more lost - the flat characte...          0\n",
              "2  Attempting artiness with black & white and cle...          0\n",
              "3       Very little music or anything to speak of.            0\n",
              "4  The best scene in the movie was when Gerardo i...          1"
            ]
          },
          "metadata": {
            "tags": []
          },
          "execution_count": 952
        }
      ]
    },
    {
      "cell_type": "code",
      "metadata": {
        "colab": {
          "base_uri": "https://localhost:8080/"
        },
        "id": "kyKhRUFZOp3d",
        "outputId": "8eabf4a1-c4f9-4271-fb64-20583e838890"
      },
      "source": [
        "imdb_data.info()"
      ],
      "execution_count": 953,
      "outputs": [
        {
          "output_type": "stream",
          "text": [
            "<class 'pandas.core.frame.DataFrame'>\n",
            "RangeIndex: 748 entries, 0 to 747\n",
            "Data columns (total 2 columns):\n",
            " #   Column     Non-Null Count  Dtype \n",
            "---  ------     --------------  ----- \n",
            " 0   review     748 non-null    object\n",
            " 1   sentiment  748 non-null    int64 \n",
            "dtypes: int64(1), object(1)\n",
            "memory usage: 11.8+ KB\n"
          ],
          "name": "stdout"
        }
      ]
    },
    {
      "cell_type": "code",
      "metadata": {
        "colab": {
          "base_uri": "https://localhost:8080/"
        },
        "id": "rkildQYyOtgd",
        "outputId": "876d2d0a-6bdd-4636-8b85-f98a1127fb9a"
      },
      "source": [
        "imdb_data.isnull().sum()"
      ],
      "execution_count": 954,
      "outputs": [
        {
          "output_type": "execute_result",
          "data": {
            "text/plain": [
              "review       0\n",
              "sentiment    0\n",
              "dtype: int64"
            ]
          },
          "metadata": {
            "tags": []
          },
          "execution_count": 954
        }
      ]
    },
    {
      "cell_type": "code",
      "metadata": {
        "colab": {
          "base_uri": "https://localhost:8080/"
        },
        "id": "hadIllr1OwxK",
        "outputId": "1d263ba5-3405-43f3-8b7a-9b608e3e7087"
      },
      "source": [
        "imdb_data.sentiment.value_counts()"
      ],
      "execution_count": 955,
      "outputs": [
        {
          "output_type": "execute_result",
          "data": {
            "text/plain": [
              "1    386\n",
              "0    362\n",
              "Name: sentiment, dtype: int64"
            ]
          },
          "metadata": {
            "tags": []
          },
          "execution_count": 955
        }
      ]
    },
    {
      "cell_type": "code",
      "metadata": {
        "colab": {
          "base_uri": "https://localhost:8080/"
        },
        "id": "X0-QONuTOyhy",
        "outputId": "e2a0d93c-2756-4048-8717-ced5c5ef4e17"
      },
      "source": [
        "shuffle = imdb_data.sample(frac=1).to_numpy()\n",
        "#shuffling data using sample method to get random values in train and development set each time \n",
        "size = int(0.60*len(imdb_data))\n",
        "#i have taken 60% of data as training and rest of 40% data as development set \n",
        "train_set = shuffle[:size]\n",
        "development_set = shuffle[size:]\n",
        "print(\"Size of training set: \",len(train_set))\n",
        "print(\"Shape of training set:\",{train_set.shape})\n",
        "print(\"Size of develpment set: \",len(development_set))\n",
        "print(\"Shape of development set:\",{development_set.shape})\n"
      ],
      "execution_count": 956,
      "outputs": [
        {
          "output_type": "stream",
          "text": [
            "Size of training set:  448\n",
            "Shape of training set: {(448, 2)}\n",
            "Size of develpment set:  300\n",
            "Shape of development set: {(300, 2)}\n"
          ],
          "name": "stdout"
        }
      ]
    },
    {
      "cell_type": "code",
      "metadata": {
        "colab": {
          "base_uri": "https://localhost:8080/"
        },
        "id": "CvdogJadO1aC",
        "outputId": "0bc0b0fe-361d-4d4b-9c4e-2bc7b4b10996"
      },
      "source": [
        "train_set"
      ],
      "execution_count": 957,
      "outputs": [
        {
          "output_type": "execute_result",
          "data": {
            "text/plain": [
              "array([['My rating: just 3 out of 10.  ', 0],\n",
              "       ['The movie in movie situations in the beginning and through the game that is played with her by the \"acting coach\" are fascinating.  ',\n",
              "        1],\n",
              "       ['I rather enjoyed it.  ', 1],\n",
              "       [\"I'll put this gem up against any movie in terms of screenplay, cinematography, acting, post-production, editing, directing, or any other aspect of film-making.  \",\n",
              "        1],\n",
              "       [\"It's one of the movies I need to see whenever it comes on TV...never mind the fact that I already have it memorized!  \",\n",
              "        1],\n",
              "       ['Every element of this story was so over the top, excessively phony and contrived that it was painful to sit through.  ',\n",
              "        0],\n",
              "       ['Both do good jobs and are quite amusing.  ', 1],\n",
              "       [\"The film's dialogue is natural, real to life.  \", 1],\n",
              "       ['The aerial scenes were well-done.  ', 1],\n",
              "       ['It is just the sort of pap that is screened in the afternoon to punish the unemployed for not having jobs.  ',\n",
              "        0],\n",
              "       [\"You'd have to have the IQ of particularly stupid mollusk not to see that one coming.  \",\n",
              "        0],\n",
              "       ['They could be used as exemplars for any set designer.  ', 1],\n",
              "       ['How awful she is!  ', 0],\n",
              "       ['Considering the relations off screen between Taylor and Stanwyck, it was surprising how little chemistry there was on screen between the two of them.  ',\n",
              "        0],\n",
              "       ['Still, it was the SETS that got a big \"10\" on my \"oy-vey\" scale.  ',\n",
              "        1],\n",
              "       ['Rating: 0/10 (Grade: Z) Note: The Show Is So Bad That Even Mother Of The Cast Pull Her Daughter Out Of The Show.  ',\n",
              "        0],\n",
              "       ['I mean this in a terrible way.  ', 0],\n",
              "       ['It failed to convey the broad sweep of landscapes that were a great part of the original.  ',\n",
              "        0],\n",
              "       [\"If you haven't choked in your own vomit by the end (by all the cheap drama and worthless dialogue) you've must have bored yourself to death with this waste of time.  \",\n",
              "        0],\n",
              "       [\"However, this didn't make up for the fact that overall, this was a tremendously boring movie.  \",\n",
              "        0],\n",
              "       ['Utterly without merit on any level, this is akin to torture.  ',\n",
              "        0],\n",
              "       ['Bela Lugosi was totally extraneous, intoning odd lines.  ', 0],\n",
              "       ['Of course, the acting is blah.  ', 0],\n",
              "       ['The kids are annoying.  ', 0],\n",
              "       ['In short - this was a monumental waste of time and energy and I would not recommend anyone to EVER see this film.  ',\n",
              "        0],\n",
              "       [\"I couldn't take them seriously.  \", 0],\n",
              "       ['This is one of Peter Watkins most accessible films.  ', 1],\n",
              "       [\"I won't say any more - I don't like spoilers, so I don't want to be one, but I believe this film is worth your time.  \",\n",
              "        1],\n",
              "       ['The scenes are often funny and occasionally touching as the characters evaluate their lives and where they are going.  ',\n",
              "        1],\n",
              "       ['Director Paul Matthews, who also wrote/directed the weak 1995 monster movie \"Grim\", clearly doesn\\'t know how to pace his films.  ',\n",
              "        0],\n",
              "       ['Lifetime does not air it enough, so if anyone knows what store sells it let me know because this is a must-have.  ',\n",
              "        1],\n",
              "       [\"The plot doesn't hang together at all, and the acting is absolutely appalling.  \",\n",
              "        0],\n",
              "       ['It\\'s just adorable seeing Mickey playing \"Turkey in the Straw\" in a highly imaginative (if occasionally cruel) way.  ',\n",
              "        1],\n",
              "       ['It will drive you barking mad!  ', 0],\n",
              "       ['Wasted two hours.  ', 0],\n",
              "       ['The success of the film depends on the casting of Sydney Greenstreet as the Alexander Yardley character.  ',\n",
              "        1],\n",
              "       ['THERE IS NO PLOT OR STORYLINE!!  ', 0],\n",
              "       ['Is it possible for a movie to get any worse than this?  ', 0],\n",
              "       ['It is wonderful and inspiring to watch, and I hope that it gets released again on to video or DVD.  ',\n",
              "        1],\n",
              "       ['A very good film indeed, about great and unconditional love.  ',\n",
              "        1],\n",
              "       ['VERY funny!  ', 1],\n",
              "       ['The secondary plot line is incomprehensible and its relation to the primary plot line is mystifying.  ',\n",
              "        0],\n",
              "       [\"The new characters weren't all that memorable, and I found myself forgetting who was who.  \",\n",
              "        0],\n",
              "       ['I believe every one should see this movie as I think few people outside of South Africa understand its past and what is being attempted in the Truth and Reconciliation process.  ',\n",
              "        1],\n",
              "       ['Avoid, avoid, avoid!  ', 0],\n",
              "       [\"It's a shame to see good actors like Thomerson and James make a living in a mess like this.  \",\n",
              "        0],\n",
              "       [\"I like Armand Assante & my cable company's summary sounded interesting, so I watched it, twice already, and probably will again.  \",\n",
              "        1],\n",
              "       ['But the premise of the film was so ridiculous: that the President of the U.S.  ',\n",
              "        0],\n",
              "       ['There is a brilliant twist ending.  ', 1],\n",
              "       ['The Songs Were The Best And The Muppets Were So Hilarious.  ',\n",
              "        1],\n",
              "       ['You wont regret it!  ', 1],\n",
              "       ['I certainly do not mean this distinction in a good way.  ', 0],\n",
              "       [\"The plot is nonsense that doesn't interest in the slightest way or have any uniqueness to it.  \",\n",
              "        0],\n",
              "       [\"I'm terribly disappointed that this film would receive so many awards and accolades, especially when there are far more deserving works of film out there.  \",\n",
              "        0],\n",
              "       ['Definitely worth checking out.  ', 1],\n",
              "       ['A truly, truly bad film.  ', 0],\n",
              "       [\"It was a good thing that the tickets only cost five dollars because I would be mad if I'd have paid $7.50 to see this crap.  \",\n",
              "        0],\n",
              "       ['The acting by the whole cast could be put on a scale and balanced perfectly between overacting and underacting.  ',\n",
              "        0],\n",
              "       ['I felt as though her going to Ireland did absolutely nothing whatsoever.  ',\n",
              "        0],\n",
              "       ['If you see it, you should probably just leave it on the shelf.  ',\n",
              "        0],\n",
              "       ['The cast is good.  ', 1],\n",
              "       [\"Yes, it's that bad.  \", 0],\n",
              "       ['Full of unconvincing cardboard characters it is blandly written by Edward Chodorov, who also produced, and is surprisingly directed by Jean Negulesco from whom one would expect a great deal more.  ',\n",
              "        0],\n",
              "       [\"I don't think I've ever gone to a movie and disliked it as much.  \",\n",
              "        0],\n",
              "       ['If you have not seen this movie, I definitely recommend it!  ',\n",
              "        1],\n",
              "       ['Every time he opened his mouth you expect to hear, \"you see kids...\" Pulling the plug was a mercy killing for this horrible show.  ',\n",
              "        0],\n",
              "       [\"This convention never worked well in the past, and certainly doesn't work here.  \",\n",
              "        0],\n",
              "       ['The good cinematography also makes her and Monica Bellucci look very beautiful.  ',\n",
              "        1],\n",
              "       ['The plot was the same as pretty much every other cheap horror.  ',\n",
              "        0],\n",
              "       ['The Foreigner is not worth one second of your time.  ', 0],\n",
              "       [\"Excellently produced by one of Sci-fi's best producers Scot Vandiver !  \",\n",
              "        1],\n",
              "       ['Regardless, the film fails on most levels.  ', 0],\n",
              "       ['The fish is badly made and some of its underwater shots are repeated a thousand times in the film.  ',\n",
              "        0],\n",
              "       ['She carries the movie well.  ', 1],\n",
              "       ['I cannot believe that the actors agreed to do this \"film\".  ',\n",
              "        0],\n",
              "       ['These are the central themes of the film and they are handled ineptly, stereotypically and with no depth of imagination.  ',\n",
              "        0],\n",
              "       ['Lame would be the best way to describe it.  ', 0],\n",
              "       ['I really loved the story line and the poler bear was kinda cute.But if anyone has a question about Fort Steele, just ask away:)  ',\n",
              "        1],\n",
              "       ['I believe the screenwriter did a good job of tying up the loose ends.  ',\n",
              "        1],\n",
              "       [\"I'll give this film 10 out of 10!  \", 1],\n",
              "       [\"The movie is not completely perfect but 'Titta Di Girolamo' will stay with you for a long time after the vision of the movie.  \",\n",
              "        1],\n",
              "       ['I highly doubt that anyone could ever like this trash.  ', 0],\n",
              "       ['The rest of the cast also play well.  ', 1],\n",
              "       ['The movie seemed a little slow at first.  ', 0],\n",
              "       [\"It's a fresh, subtle, and rather sublime effect.  \", 1],\n",
              "       ['About ten minutes into this film I started having second thoughts.  ',\n",
              "        0],\n",
              "       ['There was NOTHING believable about it at all.  ', 0],\n",
              "       ['The script is bad, very bad \\x96 it contains both cheesiness and unethical joke that you normally see in rated R or NC-17 movie.  ',\n",
              "        0],\n",
              "       ['PS the only scene in the movie that was cool is when the central character finds her room blown up.  ',\n",
              "        1],\n",
              "       [\"There was a few pathetic attempts to give the characters some depth, but it didn't really work into the rest of the plot.  \",\n",
              "        0],\n",
              "       ['Not easy to watch.  ', 0],\n",
              "       ['The story is also both funny and poignant at times.  ', 1],\n",
              "       ['It never condescends, all the characters have good genuine hearts and believable problems.  ',\n",
              "        1],\n",
              "       [\"IMDB ratings only go as low 1 for awful, it's time to get some negative numbers in there for cases such as these.  \",\n",
              "        0],\n",
              "       [\"This film highlights the fundamental flaws of the legal process, that it's not about discovering guilt or innocence, but rather, is about who presents better in court.  \",\n",
              "        1],\n",
              "       ['It is a film about nothing, just a pretext to show ridiculous action scenes.  ',\n",
              "        0],\n",
              "       ['The lines, the cuts, the audio, everything is wrong.  ', 0],\n",
              "       ['Even when the women finally show up, there is no sign of improvement; the most expected things happen and by the time the film is over, you might be far asleep.  ',\n",
              "        0],\n",
              "       ['It presents a idyllic yet serious portrayal of the ups and downs of the characters lives.  ',\n",
              "        1],\n",
              "       ['Overall I rate this movie a 10 out of a 1-10 scale.  ', 1],\n",
              "       ['Horrible!  ', 0],\n",
              "       ['I particularly remember my senses being assaulted by strident cords of music that would blare out with very little warning, and even less meaning.  ',\n",
              "        0],\n",
              "       [\"The rest of the movie lacks art, charm, meaning... If it's about emptiness, it works I guess because it's empty.  \",\n",
              "        0],\n",
              "       ['Omit watching this.  ', 0],\n",
              "       [\"This is a witty and delightful adaptation of the Dr Seuss book, brilliantly animated by UPA's finest and thoroughly deserving of its Academy Award.  \",\n",
              "        1],\n",
              "       [\"This movie contained an all-star cast, and what I loved the most was that it opened my eyes to see other actors who I haven't seen before.  \",\n",
              "        1],\n",
              "       ['The incredible soundtrack truly captures the essence of the film.  ',\n",
              "        1],\n",
              "       ['The art style has the appearance of crayon/pencil drawings and is wonderfully colorful and fanciful.  ',\n",
              "        1],\n",
              "       ['The movie is terribly boring in places.  ', 0],\n",
              "       ['The death row scenes were entirely unmoving.  ', 0],\n",
              "       ['The directing seems too pretentious.  ', 0],\n",
              "       ['An instant classic, with a great soundtrack and a catchy song during the ending credits.  ',\n",
              "        1],\n",
              "       ['And it was boring.  ', 0],\n",
              "       ['This is definitely a cult classic well worth viewing and sharing with others.  ',\n",
              "        1],\n",
              "       ['I was very uneasy with how bad this movie was, but not scared at all.  ',\n",
              "        0],\n",
              "       [\"Also, it's a real treat to see Anthony Quinn playing Crazy Horse.  \",\n",
              "        1],\n",
              "       ['An hour and a half I wish I could bring back.  ', 0],\n",
              "       ['Not recommended.  ', 0],\n",
              "       ['I really hope the team behind this movie makes more movies, and that they will continue to do so in their own, some kinda weird style.  ',\n",
              "        1],\n",
              "       ['For people who are first timers in film making, I think they did an excellent job!!  ',\n",
              "        1],\n",
              "       ['In conclusion, I will not bother with this movie because a volcano in Los Angeles is nothing but nonsense.  ',\n",
              "        0],\n",
              "       [\"Emily Watson's character is very strong, and she has only to give a quick glance and you understand everything.  \",\n",
              "        1],\n",
              "       ['but the movie makes a lot of serious mistakes.  ', 0],\n",
              "       ['In fact, this stinker smells like a direct-to-video release.  ',\n",
              "        0],\n",
              "       ['Even allowing for poor production values for the time (1971) and the format (some kind of mini-series), this is baaaaaad.  ',\n",
              "        0],\n",
              "       [\"You can't relate with them, hell you barely can understand them.  \",\n",
              "        0],\n",
              "       [\"It's too bad that everyone else involved didn't share Crowe's level of dedication to quality, for if they did, we'd have a far better film on our hands than this sub-par mess.  \",\n",
              "        0],\n",
              "       ['This film (and I use that word loosely) is an insult to the movie-going public.  ',\n",
              "        0],\n",
              "       [\"The only thing worse than Taylor's acting was Stanwyck's singing.  \",\n",
              "        0],\n",
              "       ['The lighting is awful.  ', 0],\n",
              "       ['Every single character was hilarious and deserved to be called a lead.  ',\n",
              "        1],\n",
              "       ['DELETE this film from your mind!  ', 0],\n",
              "       ['Instead, we got a bore fest about a whiny, spoiled brat babysitting.  ',\n",
              "        0],\n",
              "       ['Mark my words, this is one of those cult films like Evil Dead 2 or Phantasm that people will still be discovering and falling in love with 20, 30, 40 years down the line.  ',\n",
              "        1],\n",
              "       [\"It was a riot to see Hugo Weaving play a sex-obsessed gay real estate salesman who uses his clients' houses for his trysts with the flaming Darren (Tom Hollander).  \",\n",
              "        1],\n",
              "       ['Even the squibs look awful.  ', 0],\n",
              "       ['Not much dialogue, not much music, the whole film was shot as elaborately and aesthetically like a sculpture.  ',\n",
              "        1],\n",
              "       [\"The CG opening sequence in space looked like it could have been created on Microsoft Slideshow for God's sake!  \",\n",
              "        0],\n",
              "       [\"Tom Wilkinson broke my heart at the end... and everyone else's judging by the amount of fumbling for hankies and hands going up to faces among males and females alike.  \",\n",
              "        1],\n",
              "       [\"It didn't make me scared, horrified, or make me sympathetic towards the characters; it was simply annoying.  \",\n",
              "        0],\n",
              "       ['About half way through this film I started to dislike it.  ', 0],\n",
              "       ['A great film by a great director.  ', 1],\n",
              "       ['But this understated film leaves a lasting impression.  ', 1],\n",
              "       ['This is not movie-making.  ', 0],\n",
              "       [\"This is a masterful piece of film-making, with many themes simmering and occasionally boiling over in this warts and all study of the poet's bohemian, self-indulgent wartime years that span the aerial bombardments of London and the outward tranquillity of a Welsh coastal retreat - the borderlines between friendship, lust and love, dedication to art and experience versus practical concerns, jealousy, rivalry, cowardice and egotism versus heroism and self-sacrifice and more.  \",\n",
              "        1],\n",
              "       [' I love it.  \\t1\\nThe ending is so, SO perfect... you\\'ll shed a tear.  \\t1\\nI am so thrilled after seeing a movie like this.  \\t1\\nI will never forget it now.  \\t1\\nIt is not just a cult... it is a cult CLASSIC.  \\t1\\nWhich has more depth and character than the man underneath it.  \\t0\\nThe Malta settings are as dry and as barren as the dialogue.  \\t0\\nThis movie is terrible.  \\t0\\nThe hockey scenes are terrible, defensemen playing like they\\'re 5 years old, goalies diving at shots that are 10 feet wide of the net, etc.  \\t0\\nFor those that haven\\'t seen it, don\\'t waste your time!  \\t0\\nTo call this movie a drama is ridiculous!  \\t0\\nStarted watching this but didn\\'t believe in any of the characters.  \\t0\\nIn particular the relationship between the bakery assistant and the waitress just didn\\'t work for me at all.  \\t0\\nIt was a very superficial movie and it gave me the feeling that I was watching play rather than a film.  \\t0\\nThe characters were very \\'stagey\\' and the storyline was a lot like a stage farce.  \\t0\\nBy the time the pyromaniac waylaid the assistant I was bored and didn\\'t care what happened next and so I switched off.  \\t0\\nGlad I didn\\'t pay to see it.  \\t0\\nDidn\\'t laugh or even smile once.  \\t0\\nBut it wasn\\'t anything at all just one big yawn...  \\t0\\nIt is a really good show to watch.  \\t1\\nIt is very educational for children 1 to 8 years old.  \\t1\\nBarney is definitely super DE duper.  \\t1\\nis pretty funny.  \\t1\\nBabie Bop is very cute.  \\t1\\nThe kids are very cool too.  \\t1\\n But \"Storm Trooper\" is not even bad enough to make it to the list of wonderfully terrible movies.  ',\n",
              "        0],\n",
              "       ['Speaking of the music, it is unbearably predictably and kitchy.  ',\n",
              "        0],\n",
              "       [\"It's a feel-good film and that's how I felt when I came out of the cinema!  \",\n",
              "        1],\n",
              "       ['The script looks as if only a rough draft was written and shooting began before a finished script was completed.  ',\n",
              "        0],\n",
              "       ['One of the most disappointing aspects is the lack of notable gore.  ',\n",
              "        0],\n",
              "       ['This movie now joins Revenge of the Boogeyman and Zombiez as part of the hellish trinity of horror films.  ',\n",
              "        0],\n",
              "       [\"Feelings, thoughts...Gabriel's discomfort during the dance...all these intangibles leap to life and come within the viewer's grasp in Huston's portrayal.  \",\n",
              "        1],\n",
              "       [\"There's barely a boring moment in the film and there are plenty of humorous parts.  \",\n",
              "        1],\n",
              "       [\"I'm still trying to get over how bad it was.  \", 0],\n",
              "       ['Simply beautiful.  ', 1],\n",
              "       ['But it is entertaining, nonetheless.  ', 1],\n",
              "       [\"When a song could explain the emotions of the subjects better, such as when Jay Adams' unfortunate life was a subject of talk, the song Old Man by Neil Young was played, which evokes many emotions.  \",\n",
              "        1],\n",
              "       ['I believe that Pitch Black was done well.  ', 1],\n",
              "       ['This film offers many delights and surprises.  ', 1],\n",
              "       ['An Italian reviewer called this \"a small, great film,\" and that\\'s right.  ',\n",
              "        1],\n",
              "       ['John Garfield, Ann revere, Lilli Plmer, William Conrad, Canada Lee...and filmed by one of the greatest cinematographers to ever grace the screen..James Wong Howe.  ',\n",
              "        1],\n",
              "       ['A Lassie movie which should have been \"put to sleep\".... FOREVER.  ',\n",
              "        0],\n",
              "       ['But this movie really got to me.  ', 1],\n",
              "       [\"Nevertheless yet another wonderful film from the great master's stable.  \",\n",
              "        1],\n",
              "       ['Much more interesting, more action, more suspense, and less of the unneeded controversy.  ',\n",
              "        1],\n",
              "       [\"Garbo, who showed right off the bat that her talents could carry over from the silent era (I wanted to see some of her silent work, but Netflix doesn't seem to be stocking them.  \",\n",
              "        1],\n",
              "       [\"I don't understand how this garbage got on the shelves of the movie store, it's not even a real movie!  \",\n",
              "        0],\n",
              "       ['Loved the casting of Jimmy Buffet as the science teacher.  ', 1],\n",
              "       [\"But the convoluted plot just didn't convince me, and much of the film was watched with a weird, questioning glance.  \",\n",
              "        0],\n",
              "       [\"How this piece of trash was ever released is beyond me: the acting, the story, the characters, the supposedly special effects, etc...it's ALL wrong.  \",\n",
              "        0],\n",
              "       [\"Still it's quite interesting and entertaining to follow.  \", 1],\n",
              "       ['Director Neil LaBute uses brutal violence to seperate dreams from reality, and along with the touching drama, and hilarious comedy, you can never tell what is going to happen next.  ',\n",
              "        1],\n",
              "       [\"It's just lame.  \", 0],\n",
              "       ['This early film from future goremeister Lucio Fulci is a very good addition to the giallo sub-genre.  ',\n",
              "        1],\n",
              "       [\"It's still wild stuff though and is highly recommended to fans of giallo cinema.  \",\n",
              "        1],\n",
              "       ['Yeah, the movie pretty much sucked.  ', 0],\n",
              "       [\"All in all its an insult to one's intelligence and a huge waste of money.  \",\n",
              "        0],\n",
              "       ['Special mention should be made of the superb music score and sound effects, which are an integral element in helping to make this such a memorable and enjoyable cartoon.  ',\n",
              "        1],\n",
              "       [\"Being a 90's child, I truly enjoyed this show and I can proudly say that I enjoyed it big time and even more than the classical WB cartoons.  \",\n",
              "        1],\n",
              "       ['This is actually a very smart movie.  ', 1],\n",
              "       ['The acting is fantastic, the stories are seamlessly woven together, and the dogs are splendid............. A must rent, view, or see.  ',\n",
              "        1],\n",
              "       [\"An interesting premise, and Billy Drago is always good as a dangerous nut-bag (side note: I'd love to see Drago, Stephen McHattie and Lance Hendrikson in a flick together; talk about raging cheekbones!).  \",\n",
              "        1],\n",
              "       ['Oh yeah, and the storyline was pathetic too.  ', 0],\n",
              "       ['Their on-screen chemistry, critical to the entire film, is genuine.  ',\n",
              "        1],\n",
              "       ['It Was So Cool.  ', 1],\n",
              "       [\"Also notable is John Bailey's fine crisp beautifully colored cinematography and the great production design & costumes by Eiko Ishioka who went on to do the memorable costumes for Coppola's Dracula for which she received a well deserved Oscar.  \",\n",
              "        1],\n",
              "       ['I was particularly pleased with the acting ability of Dwight Schultz.  ',\n",
              "        1],\n",
              "       ['This may be the only bad film he ever made.  ', 0],\n",
              "       ['What on earth is Irons doing in this film?  ', 0],\n",
              "       ['After watching this film, I wanted to learn more about the works of this artist.  ',\n",
              "        1],\n",
              "       ['It rocked my world and is certainly a must see for anyone with no social or physical outlets.  ',\n",
              "        1],\n",
              "       [\"I wasn't expecting Oscar material, but this?  \", 0],\n",
              "       ['Beware: this is not a trashy cult movie, this is trash -period!  ',\n",
              "        0],\n",
              "       ['MANNA FROM HEAVEN is a terrific film that is both predictable and unpredictable at the same time.  ',\n",
              "        1],\n",
              "       [' With great sound effects, and impressive special effects, I can\\'t recommend this movie enough.  \\t1\\nCall me a nut, but I think this is one of the best movies ever.  \\t1\\nGreat character actors Telly Savalas and Peter Boyle.  \\t1\\n1 hour 54 minutes of sheer tedium, melodrama and horrible acting, a mess of a script, and a sinking feeling of GOOD LORD, WHAT WERE THEY THINKING?  \\t0\\nLots of holes in the script.  \\t0\\nIt\\'s like a bad two hour TV movie.  \\t0\\nNow imagine that every single one of those decisions was made wrong.  \\t0\\nThe dialogue is atrocious.  \\t0\\nThe acting is beyond abysmal.  \\t0\\nEverything stinks.  \\t0\\nTrouble is, the writing and directing make it impossible to establish those things that make a movie watchable, like character, story, theme and so on.  \\t0\\nWorse, there\\'s an incredibly weak sub-plot thrown in that follows a little band of latter-day Mansonites as they go after a reporter who\\'s working on a story on the anniversary of the killings.  \\t0\\nIt\\'s dumb and pointless, and a complete waste of time.  \\t0\\nIn short, don\\'t bother with this movie.  \\t0\\nI won\\'t spoil it, but the ending in pretty amazing.  \\t1\\nThe best scene in the movie is at the end, but I won\\'t spoil it.  \\t1\\nIf there was ever an indication of a writer and a director\\'s ability to meld two highly volatile temperaments into a seamless union of creativity, then this is it!  \\t1\\nThe result is a powerhouse achievement, made more timely now perhaps because of our culture\\'s disturbing fascination with celebrity, and it\\'s distorted interpretations of fame.  \\t1\\nA film not easily forgotten.  \\t1\\nBut, Kevin Spacey is an excellent, verbal tsunami as Buddy Ackerman \\x96 and totally believable because he is a great actor.  \\t1\\nThe scripting of the subtle comedy is unmatched by any movie in recent years.  \\t1\\nThe characters are interesting, even if a bit predictable.  \\t1\\nHighly recommended for all ages, although the younger set will probably not appreciate some of the more subtle references, they will certainly appreciate one galley scene in particular!  \\t1\\nGreat movie!  \\t1\\nAlso the story and acting were weak.  \\t0\\nAt around 4 pm I bought it, at around 8pm I started to watch, at around 8.15pm I fast forwarded the remaining film to see if there was anything left watchable for a human being with a brain... but there wasn\\'t.  \\t0\\nEither way, it sucks.  \\t0\\nThe script is horrendously stupid.  \\t0\\nThe story starts too fast with absolutely no suspense or build-up in the slightest.  \\t0\\nEverything Captain Howdy says is either laughable or just plain stupid.  \\t0\\nWhat the hell kind of crap is that?!  \\t0\\nThen, there\\'s the plot holes.  \\t0\\nYou could drive a semi truck into these holes!  \\t0\\nLinda Cardellini is the only thing good in this film.  \\t1\\nShe\\'s poised and amazing.  \\t1\\nDee Snider just plain sucks.  \\t0\\nHe can\\'t act (one of the least scary villains I have ever seen), he can\\'t write (did he write this damn movie in his sleep?  \\t0\\nI was bored throughout the whole damn thing.  \\t0\\nThe acting sucks, the music sucks, the script sucks, the pacing sucks, the special FX suck, the directing sucks... basically, this movie sucks.  \\t0\\nThis film tries to be a serious and sophisticated thriller/horror flick and it fails miserably.  \\t0\\nThis is probably one of the least effective and utterly unoriginal films I have ever seen in my entire life.  \\t0\\nA piece of cinematic garbage captured on celluloid.  \\t0\\nAvoid at any and all costs.  \\t0\\nAt any rate this film stinks, its not funny, and Fulci should have stayed with giallo and supernatural zombie movies.  \\t0\\nAvoid this film at all costs.  \\t0\\nI don\\'t know what happened in Season Five, what a mess.  \\t0\\nThe only consistent thread holding the series together were the amazing performances of Leni Parker and Anita LaSelva as the two Taelons in quiet idealogical conflict.  \\t0\\nNow this is a movie I really dislike.  \\t0\\nIt\\'s one of the most boring Horror movies from the 90\\'s mainly because it starts slow and centers in a boring atmosphere.  \\t0\\nThe puppets look really cheesy , not in a good way like in the Puppet Master 80\\'s flicks.  \\t0\\nThe story is lame, not interesting and NEVER really explains the sinister origins of the puppets.  \\t0\\nThere aren\\'t death scenes like in previous movies and the f/x are terrible.  \\t0\\nI felt asleep the first time I watched it, so I can recommend it for insomniacs.  \\t0\\nThe fact is, this film is a wonderful, heartwarming tale about two people chasing their dreams.  \\t1\\nThe best part about Nurse Betty\" is it\\'s unpredictability.  ',\n",
              "        1],\n",
              "       [\"I loved this movie it was a great portrayal of a family who had it's share of ups and down, but in the end they knew that special love they had for each other.  \",\n",
              "        1],\n",
              "       ['So I am here to warn you--DO NOT RENT THIS MOVIE, it is the dumbest thing you have never seen!  ',\n",
              "        0],\n",
              "       ['None of them are engaging or exciting.  ', 0],\n",
              "       ['This scene is very strong and unpleasant.  ', 0],\n",
              "       [';) Recommend with confidence!  ', 1],\n",
              "       ['The film lacks any real scares or tension & some of the medical terminology used throughout is a bit iffy to say the least & I say that as an insulin dependant diabetic myself.  ',\n",
              "        0],\n",
              "       ['This was a poor remake of \"My Best Friends Wedding\".  ', 0],\n",
              "       ['This is one of the worst Sandra Bullock movie since Speed 2 But not quite that bad.  ',\n",
              "        0],\n",
              "       [\"I was left shattered from the experience of watching this 'film' and I took a good two hours to fully recover.  \",\n",
              "        0],\n",
              "       ['To be honest with you, this is unbelievable nonsense and very foolish.  ',\n",
              "        0],\n",
              "       ['Even worse than Ticker!  ', 0],\n",
              "       ['I saw this movie and I thought this is a stupid movie.  ', 0],\n",
              "       ['i wouldnt see this movie again for free.  ', 0],\n",
              "       ['It was clear that she had the range and ability to pull off this part.  ',\n",
              "        1],\n",
              "       ['I loved it, it was really scary.  ', 1],\n",
              "       [\"If this premise sound stupid, that's because it is.  \", 0],\n",
              "       [\"It's a campy sort of film that's a joy to watch.  \", 1],\n",
              "       [\"I understand that it's supposed to be a cheap popcorn comedy, but that doesn't mean that it has to completely insult our intelligence, and have writing so incredibly hackneyed that it borders on offensive.  \",\n",
              "        0],\n",
              "       ['And the accents are absolutely abysmal!  ', 0],\n",
              "       [':) Anyway, the plot flowed smoothly and the male-bonding scenes were a hoot.  ',\n",
              "        1],\n",
              "       ['I would have casted her in that role after ready the script.  ',\n",
              "        1],\n",
              "       ['10 out of 10 stars.  ', 1],\n",
              "       ['Perabo has a nice energy level and is obviously very comfortable in front of a camera.  ',\n",
              "        1],\n",
              "       ['This is truly an art movie--it actually has a lot of art in it.  ',\n",
              "        1],\n",
              "       ['It came free with a DVD player I bought but I still turned the thing off halfway through because I was embarrassed for Howell.  ',\n",
              "        0],\n",
              "       [\"Tom Wilkinson's character is a man who is not prepared for the ordeal that is about to begin, but he takes the matter in hand as the story progresses, and this great actor gives a performance that makes you feel the character's anguish and suffering.  \",\n",
              "        1],\n",
              "       ['A bit predictable.  ', 0],\n",
              "       ['I never walked out of a movie faster.  ', 0],\n",
              "       ['This movie suffered because of the writing, it needed more suspense.  ',\n",
              "        0],\n",
              "       ['A very charming film with wonderful sentiment and heart.  ', 1],\n",
              "       ['Plus, it was well-paced and suited its relatively short run time.  ',\n",
              "        1],\n",
              "       [\"This gets a 1 out of 10, simply because there's nothing lower.  \",\n",
              "        0],\n",
              "       ['Not a pleasant voyage of self-discovery.  ', 0],\n",
              "       ['Despite the pans of reviewers, I liked this movie.  ', 1],\n",
              "       ['Worst hour and a half of my life!Oh my gosh!  ', 0],\n",
              "       ['Definitely worth checking out.  ', 1],\n",
              "       ['Not too screamy not to masculine but just right.  ', 1],\n",
              "       ['You\\'ll love it!  \\t1\\nThis movie is BAD.  \\t0\\nSo bad.  \\t0\\nThe film is way too long.  \\t0\\nThis is definitely one of the bad ones.  \\t0\\nThe movie I received was a great quality film for it\\'s age.  \\t1\\nJohn Wayne did an incredible job for being so young in the movie industry.  \\t1\\nHis on screen presence shined thought even though there were other senior actors on the screen with him.  \\t1\\nI think that it is a must see older John Wayne film.  \\t1\\nI really don\\'t see how anyone could enjoy this movie.  \\t0\\nI don\\'t think I\\'ve ever seen a movie half as boring as this self-indulgent piece of junk.  \\t0\\nIt probably would have been better if the director hadn\\'t spent most of the movie showcasing his own art work, which really isn\\'t that noteworthy.  \\t0\\nAnother thing I didn\\'t really like is when a character got punched in the face, a gallon of blood would spew forth soon after.  \\t0\\nJamie Foxx absolutely IS Ray Charles.  \\t1\\nHis performance is simply genius.  \\t1\\nHe owns the film, just as Spacek owned Coal Miner\\'s Daughter\" and Quaid owned \"Great Balls of Fire.  ',\n",
              "        1],\n",
              "       [\"At a time when it seems that film animation has been dominated by Disney/Pixar's CGI masterpieces, it is both refreshing and comforting to know that Miyazaki is still relying on traditional hand-drawn animation to tell his charming and enchanting stories.  \",\n",
              "        1],\n",
              "       ['there is no real plot.  ', 0],\n",
              "       [\"The soundtrack wasn't terrible, either.  \", 1],\n",
              "       ['You will leave the theater wanting to go out and dance under the stars.  ',\n",
              "        1],\n",
              "       [\"Stanwyck and Morgan are perfectly cast in what is, in many ways, a modern equivalent of Dickens' Christmas Carol in its sensibility.  \",\n",
              "        1],\n",
              "       ['It is a true classic.  ', 1],\n",
              "       ['This movie is so awesome!  ', 1],\n",
              "       ['The casting is also horrible, cause all you see is a really really BAD Actors, period.  ',\n",
              "        0],\n",
              "       ['The visual effects were AWFUL.  ', 0],\n",
              "       ['The story unfolds in 18th century Jutland and the use of period music played on period instruments is just one more fine touch.  ',\n",
              "        1],\n",
              "       [\"It's a mediocre, miserable, hollow, laughable and predictable piece of garbage.  \",\n",
              "        0],\n",
              "       ['The script is a big flawed mess.  ', 0],\n",
              "       ['I totally and absolutely recommend this movie to anyone who likes good wholesome family movies because that is exactly what this is.  ',\n",
              "        1],\n",
              "       ['I just saw this film and I recommend it.  ', 1],\n",
              "       ['I thought it was bad.  ', 0],\n",
              "       [\"I am not a filmmaker nor am I a director but I would hide my head in the sand if I'd spent whatever amount of money and time on this movie.  \",\n",
              "        0],\n",
              "       ['Go watch it!  ', 1],\n",
              "       [\"The characters are interesting and you want to find out more about them the longer the movie goes on, and I think people will be surprised by who does and doesn't make it.  \",\n",
              "        1],\n",
              "       ['What this film lacks is a convincing script.  ', 0],\n",
              "       ['The dialogue is composed of things that make little sense.  ',\n",
              "        0],\n",
              "       ['This movie is possibly one of the most creative works of horror ever.  ',\n",
              "        1],\n",
              "       [\"You share General Loewenhielm's exquisite joy in his partaking of the Cailles en Sarcophage even though you are just watching a movie - but you do wish for just a small sample to savor.  \",\n",
              "        1],\n",
              "       ['Personally, I think it shows that people should learn to find a compromise them self without involving other people into issue.  ',\n",
              "        1],\n",
              "       ['The use of slow-motion needlessly repeats itself throughout the movie but is well backed up by bad acting (and bad is a kind word here), no continuity, scenes that are thrown in for no reason whatsoever, vehicles that looked like they were made from a Corn Flakes box and a directorial style that bordered on stupidity.  ',\n",
              "        0],\n",
              "       ['I left the theater with a lilt in my step, joy in my heart and hope for the human race.  ',\n",
              "        1],\n",
              "       ['Star Trek V The final Frontier is the worst in the series.  ',\n",
              "        0],\n",
              "       ['Now we were chosen to be tortured with this disgusting piece of blatant American propaganda.  ',\n",
              "        0],\n",
              "       ['This movie is a good and humorous comment on life in 2006.  ',\n",
              "        1],\n",
              "       [\"Watching washing machine twirling around wouldn't hurt your eyes as much as this show.  \",\n",
              "        0],\n",
              "       ['This movie is well-balanced with comedy and drama and I thoroughly enjoyed myself.  ',\n",
              "        1],\n",
              "       ['Well... Just if you keep thinking how bad it is.  ', 0],\n",
              "       [\"Funny, clever, hip - just like Pray's previous film, Hype!  \",\n",
              "        1],\n",
              "       ['God, and I can never get that 90 minutes back!  ', 0],\n",
              "       ['The football scenes at the end were perplexing.  ', 0],\n",
              "       ['This mostly routine fact-based TV drama gets a boost from the fine performance by Cole.  ',\n",
              "        1],\n",
              "       ['His losing his marbles so early in the proceedings is totally implausible and unconvincing.  ',\n",
              "        0],\n",
              "       ['Almost everyone involved must be return to school, acting is utterly predictable and bad, script is pile of garbage all round.  ',\n",
              "        0],\n",
              "       ['This movie has a cutting edge to it.  ', 1],\n",
              "       ['Cinematography noteworthy including fine views of Barcelona and its famed Gaudi towers.  ',\n",
              "        1],\n",
              "       ['Elias Koteas,Jack Palance play good roles Angelina is hot and gets naked.Billy Drago appears in this and is cool as usual + a cameo by Sven ole Thorsen helps make this a very enjoyable movie with good acting and a decent budget.  ',\n",
              "        1],\n",
              "       ['I had always known that Errol Flynn was a brilliant actor as he was my dads favourite actor, and I grew up watching his films as a child.  ',\n",
              "        1],\n",
              "       ['Hackneyed writing, certainly, but made even worse by the bad directing.  ',\n",
              "        0],\n",
              "       ['Cinematography: The film was shot in an interesting way.  ', 1],\n",
              "       ['It is not good.  ', 0],\n",
              "       [\"I didn't realize how wonderful the short really is until the last two scenes.  \",\n",
              "        1],\n",
              "       ['This is a stunning movie.  ', 1],\n",
              "       ['Later I found myself lost in the power of the film.  ', 1],\n",
              "       ['I gave it a 10  ', 1],\n",
              "       ['However, here there was no decent acting, action or location work to balance things up.  ',\n",
              "        0],\n",
              "       ['With the originality and freshness of the first movie now spent, this remake had little else to offer.  ',\n",
              "        0],\n",
              "       ['This is probably the most irritating show I have ever seen in my entire life.  ',\n",
              "        0],\n",
              "       [\"Don't miss it.  \", 1],\n",
              "       ['The characters were all funny and had the peculiarity of not having a true lead character.  ',\n",
              "        1],\n",
              "       ['Everything is appalling.  ', 0],\n",
              "       [\"The acting, as you'd expect from this cast, is top notch.  \", 1],\n",
              "       ['The original Body and Soul (1947) is a masterpiece.  ', 1],\n",
              "       ['Then scene where they debated whether or not to sack the trumpeter (who falsely was accused for the murder) is pure horror, really stupid.  ',\n",
              "        0],\n",
              "       ['Nine out of ten for a truly lovely film.  ', 1],\n",
              "       ['This is an excellent film.  ', 1],\n",
              "       [\"End of Days is one of the worst big-budget action movies I've ever seen.  \",\n",
              "        0],\n",
              "       ['Whatever prompted such a documentary is beyond me!  ', 0],\n",
              "       ['The opening sequence of this gem is a classic, and the cat n mouse games that follow are a delight to watch.  ',\n",
              "        1],\n",
              "       ['It features an outlandish array of memorable, psychotic but lovable nuts.  ',\n",
              "        1],\n",
              "       ['I love the Scream movies and all horror movies and this one ranks way up there.  ',\n",
              "        1],\n",
              "       ['The point is the journey, a journey that touches every member of the family.  ',\n",
              "        1],\n",
              "       ['Editing: The editing of this film was phenomenal in my opinion.  ',\n",
              "        1],\n",
              "       ['It just blew.  ', 0],\n",
              "       [\"He surely doesn't know how to make a coherent action movie from the screenwriter of Air Force One who was only obliged to write the script just for a big sum of money.  \",\n",
              "        0],\n",
              "       ['One of the worst shows of all time.  ', 0],\n",
              "       ['I have seen many movies starring Jaclyn Smith, but my god this was one of her best, though it came out 12 years ago.  ',\n",
              "        1],\n",
              "       ['The movie is full of wonderful dancing (hence the title!  ', 1],\n",
              "       ['The awful dialogue and hopeless overacting by everyone who gets shot top off a real waste of space and time.  ',\n",
              "        0],\n",
              "       ['But she is still a bad actress, repeating her robotic face moves in each of her pictures.  ',\n",
              "        0],\n",
              "       ['All the characters in this film are tremendously well played.  ',\n",
              "        1],\n",
              "       [\"Jimmy Stewart is as ever a great hero for Hitchcock, the story rips along to its cool climax at an embassy function, but it lacks the brooding menace of Hitchcock's black and white, low-budget original.  \",\n",
              "        1],\n",
              "       [\"It's a long time since I was so entertained by a movie.  \", 1],\n",
              "       [\"I can't see how this movie can be an inspiration to anyone to come out or overcome fear and rejection.  \",\n",
              "        0],\n",
              "       ['Also great directing and photography.  ', 1],\n",
              "       ['If you love death and decay, and Shakespears lyrics... this is the one.  ',\n",
              "        1],\n",
              "       ['It is an hour and half waste of time, following a bunch of very pretty high schoolers whine and cry about life.  ',\n",
              "        0],\n",
              "       ['The transfers are very good.  ', 1],\n",
              "       [\"There was NO chemistry between Ben Affleck and Sandra Bullock in this film, and I couldn't understand why he would consider even leaving his wife-to-be for this chick that he supposedly was knocked out by.  \",\n",
              "        0],\n",
              "       ['It was so BORING!  ', 0],\n",
              "       ['The acting from all involved and that includes those like Shatner and Nimoy is bad and washed out and making them seem as old as they look in real life, the special effects are tacky like when Spock has to rescue Kirk on a jet pack when he falls down from a mountain.  ',\n",
              "        0],\n",
              "       [\"It's an empty, hollow shell of a movie.  \", 0],\n",
              "       ['The movie had you on the edge of your seat and made you somewhat afraid to go to your car at the end of the night.  ',\n",
              "        1],\n",
              "       ['Damian is so talented and versatile in so many ways of writing and portraying different Characters on screen.  ',\n",
              "        1],\n",
              "       ['The characters are fleshed out surprisingly well, particularly Grimes and Blake, and all the actors deliver their sharply scripted lines with just the right amount of deadpan tongue in cheek to make the dialogue both hilarious and realistic.  ',\n",
              "        1],\n",
              "       ['Very nice and relaxing late night viewing.  ', 1],\n",
              "       ['Nothing short of magnificent photography/cinematography in this film.  ',\n",
              "        1],\n",
              "       ['But the acting--even that of such professionals as Drago and Debbie Rochon--was terrible, the directing worse (perhaps contributory to the former), the dialog chimp-like, and the camera work, barely tolerable.  ',\n",
              "        0],\n",
              "       [\"It's also great to see that renowned silent screenwriter Frances Marion hasn't missed a step going from silent to sound.  \",\n",
              "        1],\n",
              "       ['Which is precisely why I am giving it such a bad review!  ', 0],\n",
              "       ['I had to walk out of the theatre for a few minutes just to get some relief!  ',\n",
              "        0],\n",
              "       [\"putting the race card aside, lets look at the major flaw in the film: they destroy latifa's character.  \",\n",
              "        0],\n",
              "       ['Kris Kristoffersen is good in this movie and really makes a difference.  ',\n",
              "        1],\n",
              "       ['Give this one a look.  ', 1],\n",
              "       ['This review is long overdue, since I consider A Tale of Two Sisters to be the single greatest film ever made.  ',\n",
              "        1],\n",
              "       [\"Okay, I like to consider myself a fair critic, so I'll give credit where credit's due--the creature effects were actually pretty cool.  \",\n",
              "        1],\n",
              "       [\"It is rare when a film-maker takes the time to tell a worthy moral tale with care and love that doesn't fall into the trap of being overly syrupy or over indulgent.  \",\n",
              "        1],\n",
              "       ['Highly unrecommended.  ', 0],\n",
              "       ['Both films are terrible, but to the credit of the 1986 version, it was watchable.  ',\n",
              "        0],\n",
              "       ['This is a very \"right on case\" movie that delivers everything almost right in your face.  ',\n",
              "        1],\n",
              "       [\"You won't forget this movie!  \", 1],\n",
              "       ['Aailiyah was pretty good as Akasha, in places compelling (her first entrance and mini dance scene).  ',\n",
              "        1],\n",
              "       ['I was deeply impressed with the character he played.  ', 1],\n",
              "       ['The story line is just awful!  ', 0],\n",
              "       ['I agree with Jessica, this movie is pretty bad.  ', 0],\n",
              "       ['I let my girlfriend talk me into seeing this - bad idea, we both hated it.  ',\n",
              "        0],\n",
              "       ['I think it was Robert Ryans best film, because he portrayed someone like my father, and he was a schizophrenic in real life,(my father) although he never murdered anyone but was affected more so during the second world war which made him worse.  ',\n",
              "        1],\n",
              "       ['The sets (especially designed to work with the camera) are amazing....stylized, beautiful and effective.  ',\n",
              "        1],\n",
              "       ['Everything about this movie is stupid.  ', 0],\n",
              "       ['Everything about it is just bad.  ', 0],\n",
              "       ['The stories were powerful explorations of the nature of man and of art.  ',\n",
              "        1],\n",
              "       [\"It's the one movie that never ceases to interest me, simply because it keeps me alert, as I try to attempt to decipher it's meanings.  \",\n",
              "        1],\n",
              "       ['The movie has almost no action scenes in it and very little comedy.  ',\n",
              "        0],\n",
              "       ['It is a very well acted and done TV Movie.  ', 1],\n",
              "       ['The only possible way this movie could be redeemed would be as MST3K fodder.  ',\n",
              "        0],\n",
              "       ['And I really did find them funny.  ', 1],\n",
              "       ['Not recommended.  ', 0],\n",
              "       ['Enough can not be said of the remarkable animation in this film.  ',\n",
              "        1],\n",
              "       ['Kathy Bates is wonderful in her characters subtle desperation and escapism; a variation on her character in \"At Play In The Fields Of The Lord\".  ',\n",
              "        1],\n",
              "       ['Helen Baxendale is a very credible lady Macbeth who can be very cheerfull at times and sometimes she just looks like a naughty girl, but deadly in her taste for blood and evil.  ',\n",
              "        1],\n",
              "       ['Artless camera-work endlessly presents us with the ugliest setting imaginable, i.e.  ',\n",
              "        0],\n",
              "       ['Trumbull on I LOVE LUCY).  ', 1],\n",
              "       ['Punishment Park is a brilliant piece of cinema.  ', 1],\n",
              "       [\"It's pretty surprising that this wonderful film was made in 1949, as Hollywood generally had its collective heads in the sand concerning black and white issues at that time.  \",\n",
              "        1],\n",
              "       [\"The best example of how dumb the writing is when it's established that you can turn the zombie-students back into humans by removing a necklace containing a piece of the meteorite.  \",\n",
              "        0],\n",
              "       [\"The acting is like watching wooden puppets moving around and reading from a book, that's how bad it is.  \",\n",
              "        0],\n",
              "       ['Things happen, characters personalities change, plot twists occur for no real reason other than that script calls for it.  ',\n",
              "        0],\n",
              "       ['The acting is terrible, and the writing is worse.  ', 0],\n",
              "       [\"Lewis Black's considerable talent is wasted here too, as he is at his most incendiary when he is unrestrained, which the PG-13 rating certainly won't allow.  \",\n",
              "        0],\n",
              "       ['This movie is a pure disaster, the story is stupid and the editing is the worst I have seen, it confuses you incredibly.  ',\n",
              "        0],\n",
              "       ['The interplay between Martin and Emilio contains the same wonderful chemistry we saw in Wall Street with Martin and Charlie.  ',\n",
              "        1],\n",
              "       ['), and sometimes it was so embarrassing that I had to look away.  ',\n",
              "        0],\n",
              "       ['The plot, such as it is, is so derivative and predictable that the ending is like a mercy killing.  ',\n",
              "        0],\n",
              "       [\"He's a national treasure.  \", 1],\n",
              "       [\"It felt like a very gripping, intelligent stage play (but without the overly theatrical feeling one actually gets from watching people on a stage) which plays on everyone's terror of a white lie escalating to monstrous consequences.  \",\n",
              "        1],\n",
              "       [\"This is one of the best Italian thrillers of the early 70's.  \",\n",
              "        1],\n",
              "       [\"It's a gloriously fun, fast paced and fairly accurate portrayal of the night of a raver.  \",\n",
              "        1],\n",
              "       ['But it picked up speed and got right to the point.  ', 1],\n",
              "       [\"Unfortunately, any virtue in this film's production work was lost on a regrettable script.  \",\n",
              "        0],\n",
              "       ['One of the most boring,pointless movies I have ever seen.  ', 0],\n",
              "       ['I guess I liked the details of his dysfunction--he was believable.  ',\n",
              "        1],\n",
              "       ['To sum the film up, \"Breeders\" is a terrible, cheaply made horror movie that should be avoided like the Ebola virus.  ',\n",
              "        0],\n",
              "       [\"The attempts at humor were pitiful and story is so awful it dosen't bear thinking about which basically involves a Vulcan stealing the Enterprise to find god (seriously) I just didn't care about any of this film and oh not to mention Uhura does a belly dance to distract male guards.  \",\n",
              "        0],\n",
              "       ['By the time the film ended, I not only disliked it, I despised it.  ',\n",
              "        0],\n",
              "       ['Some applause should be given to the \"prelude\" however.  ', 1],\n",
              "       [\"This movie is so mind-bendingly awful, it couldn't have even been created.  \",\n",
              "        0],\n",
              "       ['The cast is always entertaining as usual.  ', 1],\n",
              "       ['This movie is a solid example of a bad plot and a very, very bad idea all the way.  ',\n",
              "        0],\n",
              "       ['No plot whatsoever!  ', 0],\n",
              "       ['Though The Wind and the Lion is told largely through the eyes of the son, every member of the family can identify with one of the characters, whether it be Sean Connery\\'s noble brigand, Candace Bergen\\'s feisty heroine, John Huston\\'s wily John Hay or Steve Kanaly\\'s spiffy, radiant, ruthless can-do lieutenant, Roosevelt\\'s \"Big Stick\".  ',\n",
              "        1],\n",
              "       ['The music in the film is really nice too.  ', 1],\n",
              "       ['Final Word: This Show is a real torture!!  ', 0],\n",
              "       ['Highly recommended A+  ', 1],\n",
              "       ['I could not understand, what kind of idiot would produce this mess in the first place not to mention several season.  ',\n",
              "        0],\n",
              "       ['All of the main players are mesmerising.  ', 1],\n",
              "       ['the movie is littered with overt racial slurs towards the black cast members and in return the whites are depicted as morons and boobs.  ',\n",
              "        0],\n",
              "       ['Easily, none other cartoon made me laugh in a tender way (before getting into dark sitcoms oriented for teenagers).  ',\n",
              "        1],\n",
              "       ['Overall, the film is interesting and thought-provoking.  ', 1],\n",
              "       ['I would give this television series a 10 plus if i could.  ', 1],\n",
              "       ['I liked this movie way too much.  ', 1],\n",
              "       ['Brilliance indeed.  ', 1],\n",
              "       ['Saw the movie today and thought it was a good effort, good messages for kids.  ',\n",
              "        1],\n",
              "       [\"Definitely worth seeing\\x85 it's the sort of thought provoking film that forces you to question your own threshold of loneliness.  \",\n",
              "        1],\n",
              "       [\"Here, in The Wind and the Lion, we see a wonderful rendering of America's own Imperial age.  \",\n",
              "        1],\n",
              "       ['Just whatever you do, avoid \"Groove\" as its the antithesis of all that is good about Human Traffic.  ',\n",
              "        0],\n",
              "       ['Never heard of any of them except Cole who was totally unbelievable in the part.  ',\n",
              "        0],\n",
              "       ['The acting was decidely wooden, though no worse than a period Universal B movie.  ',\n",
              "        0],\n",
              "       ['I highly recommend this movie for anyone interested in art, poetry, theater, politics, or Japanese history.  ',\n",
              "        1],\n",
              "       ['From here on the Widmark character turns unintentionally comical!  ',\n",
              "        0],\n",
              "       [\"I do not know if this was Emilio Estevez's directorial debut, but the pacing, the interplay and development of the characters as well as some clever camera work surrounding the character Estevez plays all suggest a natural eye.  \",\n",
              "        1],\n",
              "       [\"The sets are so bad, they wouldn't look out of place on a Thunderbirds episode.  \",\n",
              "        0],\n",
              "       [\"Don't be afraid of subtitles........ its worth a little aversion therapy 10/10  \",\n",
              "        1],\n",
              "       ['I have to say that this film was excellently produced and tops the ratings as a typical sci fi film!  ',\n",
              "        1],\n",
              "       ['The show would begin with smart ass ed comments to each other that would be totally off the wall and uncalled for.  ',\n",
              "        0],\n",
              "       ['The memories are murky but I can only say that I enjoyed every single episode and product related to the show.  ',\n",
              "        1],\n",
              "       ['Highly entertaining at all angles.  ', 1],\n",
              "       ['This movie does an excellent job of revealing the complexity of the task and the incredible challenges facing South Africa.  ',\n",
              "        1],\n",
              "       ['Vivian Schilling did an excellent job with the script.  ', 1],\n",
              "       [\"And I forgot: The Casting here i superb, with Trond Fausa Aurvåg being perfect in the role as the Bothersome Man, who doesn't understand where he is, what he is doing and why.  \",\n",
              "        1],\n",
              "       [\"NOBODY identifies with these characters because they're all cardboard cutouts and stereotypes (or predictably reverse-stereotypes).  \",\n",
              "        0],\n",
              "       [\"It's as continuously beautiful to look at as a Bertolucci, but the relationships here are more convincing and the narrative more engaging than some of that master's work.  \",\n",
              "        1],\n",
              "       ['Her role was played well.  ', 1],\n",
              "       ['1/10 - and only because there is no setting for 0/10.  ', 0],\n",
              "       ['GO AND SEE IT!  ', 1],\n",
              "       ['This totally UNfunny movie is so over the top and pathetic and unrealistic that throughout the whole 90 minutes of utter torture I probably looked at my watch about 70000 times!  ',\n",
              "        0],\n",
              "       [\"If you do watch it, however, there are small consolations: The actresses playing Anne's sisters each do a wonderful job with their roles.  \",\n",
              "        1],\n",
              "       ['Avoid at all costs.  ', 0],\n",
              "       ['I liked it.  ', 1],\n",
              "       ['It really created a unique feeling though.  ', 1],\n",
              "       ['Not even good for camp value!  ', 0],\n",
              "       ['The characters are interesting and you really care for them.  ',\n",
              "        1],\n",
              "       ['Then I watched it again two Sundays ago (March 20th, 2005) and I began to really enjoy it and this time I taped the entire thing.  ',\n",
              "        1],\n",
              "       ['It handles some tough issues with dignity and grace, and, of course, has (shocking spoiler here!  ',\n",
              "        1],\n",
              "       [\"I don't think there are any redeeming qualities in this remake.  \",\n",
              "        0],\n",
              "       ['I rate this movie 9/10.  ', 1],\n",
              "       ['The \"explosion\" of the Gas tanks at the end was just as awful.  ',\n",
              "        0],\n",
              "       ['the cast was great.  ', 1],\n",
              "       ['But \"Tiny Toons\" kept the 90\\'s vibe and delivered one of the most popular, funny, and underrated cartoons ever created.  ',\n",
              "        1],\n",
              "       ['This is such a fun and funny movie.  ', 1],\n",
              "       ['first of all, there are enough racial stereotypes and racial jokes to offend everyone.  ',\n",
              "        0],\n",
              "       ['Raw and sublimely moving.  ', 1],\n",
              "       ['Not frightening in the least, and barely comprehensible.  ', 0],\n",
              "       ['Paolo Sorrentino has written a wonderful story about loneliness and Tony has built one of the most unforgettable characters seen in movies in recent years.  ',\n",
              "        1],\n",
              "       ['His acting alongside Olivia De Havilland was brilliant and the ending was fantastic!  ',\n",
              "        1],\n",
              "       ['It was very popular when I was in the cinema, a good house and very good reactions and plenty of laughs.  ',\n",
              "        1],\n",
              "       ['If you are looking for a movie with a terrific cast, some good music(including a Shirley Jones rendition of \"The Way You Look Tonight\"), and an uplifting ending, give this one a try.  ',\n",
              "        1],\n",
              "       [' In fact, it\\'s hard to remember that the part of Ray Charles is being acted, and not played by the man himself.  \\t1\\nRay Charles is legendary.  \\t1\\nRay Charles\\' life provided excellent biographical material for the film, which goes well beyond being just another movie about a musician.  \\t1\\nHitchcock is a great director.  \\t1\\nIronically I mostly find his films a total waste of time to watch.  \\t0\\nSecondly, Hitchcock pretty much perfected the thriller and chase movie.  \\t1\\nIt\\'s this pandering to the audience that sabotages most of his films.  \\t0\\nHence the whole story lacks a certain energy.  \\t0\\nThe plot simply rumbles on like a machine, desperately depending on the addition of new scenes.  \\t0\\nThere are the usual Hitchcock logic flaws.  \\t0\\nMishima is extremely uninteresting.  \\t0\\nThis is a chilly, unremarkable movie about an author living/working in a chilly abstruse culture.  \\t0\\nThe flat reenactments don\\'t hold your attention because they are emotionally adrift and stagy.  \\t0\\nAnd the rest of it just sits there being awful... with soldiers singing songs about the masculinity they pledge themselves to, hairsplitting about purity, the admiration of swords, etc.  \\t0\\nHe can bore you to pieces, and kill the momentum of a movie, quicker than anyone else.  \\t0\\nSchrader has made a resume full of lousy, amateurish films.  \\t0\\nWhen I first watched this movie, in the 80s, I loved it.  \\t1\\nI was totally fascinated by the music, the dancing... everything.  \\t1\\nHowever, I recently watched the whole thing again on DVD, and I was completely struck by how extremely stupid the storyline was - how it contained holes, inconsistencies and - frankly - a whole lot of crap - and how horrid the dancing was.  \\t0\\nI mean, in a realistic world, she would NEVER have gotten into that ballet repertory... The whole thing was quite pathetic.  \\t0\\nThe character developments also lacked in depth.  \\t0\\nWoa, talk about awful.  \\t0\\nDo not waste your time.  \\t0\\nIt was just too horrible.  \\t0\\nThe worst, sappiest dialogue... I could go on and on.  \\t0\\nBut what really made it unwatchable was the direction.  \\t0\\nThe poor actors.  \\t0\\nYou can\\'t even tell if they have any talent because they not only have pathetic lines to speak but the director gave them no action.  \\t0\\nIf you check the director\\'s filmography on this site you will see why this film didn\\'t have a chance.  \\t0\\nThis would not even be good as a made for TV flick.  \\t0\\nIf good intentions made a film great, then this film might be one of the greatest films ever made.  \\t1\\nThe film has great actors, a master director, a significant theme--at least a would-be significant theme, undertone of fifties existential world-weariness, aerial scenes that ought to have thrilled both senses and imagination, and characters about which one might deeply care.  \\t1\\nRegrettably, the film fails.  \\t0\\nThe movie lacks visual interest, drama, expression of feeling, and celebration of the very patriotism that underlines the narrative.  \\t0\\nNo actress has been worse used that June Allison in this movie.  \\t0\\nYet, I enjoy watching it.  \\t1\\nUnfortunately, this is a bad movie that is just plain bad.  \\t0\\nBad script, bad direction and horrible acting make this one plain bad!  \\t0\\nThe dialogue sucked.  \\t0\\nThe cinematography-if it can be called that-sucked.  \\t0\\nThe soundtrack sucked.  \\t0\\nThe acting sucked.  \\t0\\nThe concert sequences just sucked.  \\t0\\nThat was nice.  \\t1\\nThat was funny.  \\t1\\nIt was so funny.  \\t1\\nOverall, this movie was cheap trash.  \\t0\\nBut this movie is not funny, considering the ridiculousness of it.  \\t0\\nI came out of it feeling angry.  \\t0\\n***SPOILERS*** Whatever else can (or can\\'t) be said about it, SURFACE is superbly crafted.  \\t1\\nThe cinematography is simply stunning (to say the least) and the fx are nothing if not state-of-the-art.  \\t1\\nConceptually, the show offers a little bit of everything- and for just about everybody (parents, kids, fantasy and/or fx fans).  \\t1\\nAnd there wasn\\'t a single sour note struck acting-wise, either; some surprisingly solid casting, here.  \\t1\\nAll things considered, a job very well done.  \\t1\\nThanks good a movie like this was done and released.  \\t1\\nOne of the best mexican movies ever!, and one of the less understood, even by mexican themselves, no matter how identified the should have felt with it.  \\t1\\nIt ranks highly as a great noir-crime-drama, incredible performances by Belmondo and Lino Ventura.  \\t1\\nThe attention given to every character, and complex psychological portrayals, detailing loyalty, treachery, love, and hope, are tremendous.  \\t1\\nIt is an excellent drama, an excellent thriller, and an excellent film.  \\t1\\nUp there with the best of Melville.  \\t1\\nEverything about this film is simply incredible.  \\t1\\nYou truly take this journey through the eyes and soul of a child.  \\t1\\nBLACK WATER is a thriller that manages to completely transcend it\\'s limitations (it\\'s an indie flick) by continually subverting expectations to emerge as an intense experience.  \\t1\\nThe performances are real and gripping, the crocdodile is extremely well done, indeed if the Black Water website is to be believed that\\'s because they used real crocs and the swamp location is fabulous.  \\t1\\nI thoroughly enjoyed it when Christopher Eccleston took control of the TARDIS and the continuation of the series.  \\t1\\nI\\'m not sure what he was trying to do with this film.  \\t0\\nIf it was to turn my good day feeling into a night of disturbing memories than I guess he succeeded.  \\t0\\nThere is a lot of beautiful places.  \\t1\\nIt was forced, like everything in this movie.  \\t0\\nAgain, lame.  \\t0\\nHere\\'s where the movie really pi**ed me off.  \\t0\\nAnd don\\'t even get me started on the jerky camerawork.  \\t0\\nWhen I saw it in the theater I thought I was going to be sick.  \\t0\\nSummary: The witticisms weren\\'t witty.  \\t0\\nThe plot - well, I said I\\'d let that one go.  \\t0\\nThe acting was bad.  \\t0\\nReally bad.  \\t0\\nEven Billy Bob couldn\\'t rise above the script, which was worse.  \\t0\\nCamerawork - again, bad.  \\t0\\nRating: 1 out of 10.  \\t0\\nAn AMAZING finale to possibly the BEST trilogy of all time!  \\t1\\nKieslowski never ceases to amaze me.  \\t1\\nHe is one of my favourite directors, and one of the most talented directors in the history of cinema.  \\t1\\nHis use of the colours of the French flag in the three films was nothing short of incredible, every shot, every scene was like a work of art.  \\t1\\nThree of the most visually appealing movies i\\'ve ever seen.  \\t1\\nAnd his subtle connections between the three films are awesome.  \\t1\\nI have to mention this and it is a huge SPOILER, i loved the ending, how all the characters of the three films were the remaining survivors of the ferry disaster, with Valentine and the young judge together, and the old man watching it on her TV, solidifying his happiness over the suffering which he dealt with for those many years.  \\t1\\nI couldn\\'t think of a better way to end the film, but a smile on my face, great way to wrap up an amazing film and trilogy!  \\t1\\nI recommend this for EVERYONE who loves film, movies, anything...A Work of Art!  \\t1\\n10 out of 10 for both the movie and trilogy.  \\t1\\nI literally vomited while watching this film.  \\t0\\nI think i was one of the people who found this another one of roth\\'s pearls.  \\t1\\nhis performance, as awarded, was stunning.  \\t1\\nthe story which was told so eloquently by Francis ford Coppola 25 years earlier, really unfolds gradually and leaves room for the characters to develop.  \\t1\\nIn a most wonderful location lies a story of contrast.  \\t1\\nAll in all a beautiful directed film from Nicola\\'s roeg wih a sublime cast.  \\t1\\nI\\'m translating movies for a living and this is the first movie in my 5-year working experience that I found offensive to my intelligence.  \\t0\\nBut when someone strives for greatness and poetry, but delivers a muddled (and often ridiculous) story, a bunch of disparate scenes, pretentious dialogue... Then you get the worst kind of a movie that some other reviewer very accurately defined as pretentious crap\".  ',\n",
              "        0],\n",
              "       [\"That's how I'd describe this painfully dreary time-waster of a film.  \",\n",
              "        0],\n",
              "       ['The acting helps the writing along very well (maybe the idiot-savant sister could have been played better), and it is a real joy to watch.  ',\n",
              "        1],\n",
              "       ['add betty white and jean smart and you have a great cast - everyone played their parts really well.  ',\n",
              "        1],\n",
              "       ['The least said about the acting the better.  ', 0],\n",
              "       ['Your brain will attempt to shut-down as part of a primal impulse of self-preservation.  ',\n",
              "        0]], dtype=object)"
            ]
          },
          "metadata": {
            "tags": []
          },
          "execution_count": 957
        }
      ]
    },
    {
      "cell_type": "code",
      "metadata": {
        "colab": {
          "base_uri": "https://localhost:8080/"
        },
        "id": "joQaIHO_O35O",
        "outputId": "a88c864e-2b7a-494c-8e08-6abe426117f9"
      },
      "source": [
        "development_set"
      ],
      "execution_count": 958,
      "outputs": [
        {
          "output_type": "execute_result",
          "data": {
            "text/plain": [
              "array([['Too politically correct.  ', 0],\n",
              "       [\"I've seen soap operas more intelligent than this movie.  \", 0],\n",
              "       ['I knew when I saw the film that more great things were to come from this gifted actor.  ',\n",
              "        1],\n",
              "       ['This is one I did not have, but I watched it recently on Fox Movie Channel, and was very disappointed.  ',\n",
              "        0],\n",
              "       ['It was horrendous.  ', 0],\n",
              "       ['The telephone repair man was really funny and his reactions to the nuts and bitchy boss were truly genuine.  ',\n",
              "        1],\n",
              "       ['Again, no plot at all.  ', 0],\n",
              "       ['The film gives meaning to the phrase, \"Never in the history of human conflict has so much been owed by so many to so few.  ',\n",
              "        1],\n",
              "       ['Maybe there would be a reasonable explanation for this atrocity.  ',\n",
              "        0],\n",
              "       [\"Clever and a real crowd-pleaser--this film still ranks among Mickey's best films even after 80 wonderful years.  \",\n",
              "        1],\n",
              "       [\"This is a bad film, with bad writing, and good actors....an ugly cartoon crafted by Paul Haggis for people who can't handle anything but the bold strokes in storytelling....a picture painted with crayons.  \",\n",
              "        0],\n",
              "       [\"Very true to Shakespear, and a 'must' for all Shakespear fans.  \",\n",
              "        1],\n",
              "       ['Really awful.  ', 0],\n",
              "       ['I must say I have taped most of the episodes and i find myself watching them over and over again.  ',\n",
              "        1],\n",
              "       ['But this movie is definitely a below average rent.  ', 0],\n",
              "       ['I enjoyed it.  ', 1],\n",
              "       ['I saw it as a child on TV back in 1973, when it was \"The Stranger\" and I loved it.  ',\n",
              "        1],\n",
              "       ['This movie creates its own universe, and is fascinating in every way.  ',\n",
              "        1],\n",
              "       ['Initially the local sites in the film, which was filmed here in Buffalo, intrigued me.  ',\n",
              "        1],\n",
              "       [\"Ursula Burton's portrayal of the nun is both touching and funny at the same time with out making fun of nuns or the church.  \",\n",
              "        1],\n",
              "       [\"Also the music by Mark Snow is possibly the best score I've ever heard.  \",\n",
              "        1],\n",
              "       ['Excellent short film.  ', 1],\n",
              "       ['It had some average acting from the main person, and it was a low budget as you clearly can see.  ',\n",
              "        0],\n",
              "       [\"Let's start with all the problems\\x97the acting, especially from the lead professor, was very, very bad.  \",\n",
              "        0],\n",
              "       [\"This if the first movie I've given a 10 to in years.  \", 1],\n",
              "       ['I wish I could enter negative values, admins?  ', 0],\n",
              "       ['I paid too much.  ', 0],\n",
              "       ['The things that the four kids get themselves into is absolutely hilarious to watch.  ',\n",
              "        1],\n",
              "       ['A good film by a great director!  ', 1],\n",
              "       ['I think the most wonderful parts (literally, full of \"wonder\") are the excerpts from his works.  ',\n",
              "        1],\n",
              "       ['Still, it makes up for all of this with a super ending that depicts a great sea vessel being taken out by the mighty frost.  ',\n",
              "        1],\n",
              "       [\"The film is well paced, understated and one of the best courtroom documentaries I've seen.  \",\n",
              "        1],\n",
              "       ['A very, very, very slow-moving, aimless movie about a distressed, drifting young man.  ',\n",
              "        0],\n",
              "       ['If there was ever a movie that needed word-of-mouth to promote, this is it.  ',\n",
              "        1],\n",
              "       [') a happy, wonderful, feel good ending!  ', 1],\n",
              "       ['Having to humour him just to get by and get through the day was so apt.  ',\n",
              "        1],\n",
              "       [\"There were several moments in the movie that just didn't need to be there and were excruciatingly slow moving.  \",\n",
              "        0],\n",
              "       ['Non-linear narration thus many flashbacks and every part are articulated quite well.  ',\n",
              "        1],\n",
              "       [\"Top line: Don't waste your time and money on this one, its as bad as it comes.  \",\n",
              "        0],\n",
              "       ['You learn a lot about the real inside emotions of people in this movie, and a lot about the movie business itself.  ',\n",
              "        1],\n",
              "       [\"I can't believe there's even a sequel to this!  \", 0],\n",
              "       ['The stories were as unbelievable as the actors.  ', 0],\n",
              "       [\"I hate writing bad reviews about films - especially those in which I really like the star - but this film is so bad I don't believe for one second that anyone could have been proud of it.  \",\n",
              "        0],\n",
              "       ['Unless you\\'re just out to visually \"collect\" all extant films of Austen\\'s work, you can skip this one.  ',\n",
              "        0],\n",
              "       ['Juano Hernandez (an exceptional actor who played supporting roles in many films of the era) is a proud black man who is accused of murdering a white man in the South.  ',\n",
              "        1],\n",
              "       ['All the actors give a wonderful performance, especially Jennifer Rubin as Jamie Harris, who changes from the nervous starlet in the beginning through the strange events she is part of to the cool star.  ',\n",
              "        1],\n",
              "       ['This was such an awesome movie that i bought it off of Ebay.  ',\n",
              "        1],\n",
              "       ['STEAMBOAT WILLIE is an amazingly important film to our cinema history.  ',\n",
              "        1],\n",
              "       ['It has northern humour and positive about the community it represents.  ',\n",
              "        1],\n",
              "       [\"Unfortunately, 'Cover Girl' is an example of how Hollywood used to exploit women for financial gain.  \",\n",
              "        0],\n",
              "       ['Crash is a depressing little nothing, that provokes emotion, but teaches you nothing if you already know racism and prejudice are bad things.  ',\n",
              "        0],\n",
              "       ['It is indescribably the most annoying and idiotic show I have ever seen.  ',\n",
              "        0],\n",
              "       [\"I know that Jim O'Connor was very energetic and that nobody could be as much as him, but George was well dull.  \",\n",
              "        0],\n",
              "       ['Nothing at all to recommend.  ', 0],\n",
              "       [\"I love Lane, but I've never seen her in a movie this lousy.  \",\n",
              "        0],\n",
              "       ['Then the film just dropped the ball.  ', 0],\n",
              "       ['The only place good for this film is in the garbage.  ', 0],\n",
              "       [\"The film's sole bright spot was Jonah Hill (who will look almost unrecognizable to fans of the recent Superbad due to the amount of weight he lost in the interim).  \",\n",
              "        1],\n",
              "       ['This movie is also revealing.  ', 1],\n",
              "       [\"The movie showed a lot of Florida at it's best, made it look very appealing.  \",\n",
              "        1],\n",
              "       ['I saw this film over Christmas, and what a great film it was!  ',\n",
              "        1],\n",
              "       ['There is, however, some pretty good acting (at least, for this type of film).  ',\n",
              "        1],\n",
              "       ['Everything from acting to cinematography was solid.  ', 1],\n",
              "       ['It is shameful.  ', 0],\n",
              "       ['Nothing new there.  ', 0],\n",
              "       ['The warmth it generates is in contrast to its austere backdrop.  ',\n",
              "        1],\n",
              "       ['This movie was kind of long in length, but I enjoyed every minute of it.  ',\n",
              "        1],\n",
              "       ['Hated it.  ', 0],\n",
              "       ['Brilliant!  ', 1],\n",
              "       [\"Don't waste your time watching this rubbish non-researched film.  \",\n",
              "        0],\n",
              "       ['The script is\\x85was there a script?  ', 0],\n",
              "       ['Each track commands sentiment, actually contributing to the scenes and characters.  ',\n",
              "        1],\n",
              "       [\"It's just painful!  \", 0],\n",
              "       [\"For readers who have already seen one of Miyazaki's films: he is still in top form and made another worthwhile experience.  \",\n",
              "        1],\n",
              "       [\"Still, I do like this movie for it's empowerment of women; there's not enough movies out there like this one.  \",\n",
              "        1],\n",
              "       ['At no point in the proceedings does it look remotely like America.  ',\n",
              "        0],\n",
              "       ['Think of the film being like a dream.  ', 1],\n",
              "       [\"Aside from it's terrible lead, this film has loads of other debits.  \",\n",
              "        0],\n",
              "       ['See both films if you can.  ', 1],\n",
              "       ['Filmiing was less expansive.  ', 0],\n",
              "       [\"20th Century Fox's ROAD HOUSE 1948) is not only quite a silly noir but is an implausible unmitigated bore of a movie.  \",\n",
              "        0],\n",
              "       ['I have recommended it to friends.  ', 1],\n",
              "       [\"It was a long time that i didn't see a so charismatic actor on screen.  \",\n",
              "        1],\n",
              "       ['It was that year, however, that reminded us that Huston was still at the top of his game as evinced by his faithful adaptation of James Joyce\\'s acclaimed novella \"The Dead.  ',\n",
              "        1],\n",
              "       ['The fat computer geek was unbelievable, the bible thumper, the bad-ass girl, who are these actors???  ',\n",
              "        0],\n",
              "       ['Bad characters, bad story and bad acting.  ', 0],\n",
              "       ['Her lines seem to have been WRITTEN by a fifteen year old, though they are trying oh so, so hard to sound like how a fifteen year old would really, um, you know, well... talk.  ',\n",
              "        0],\n",
              "       [\"For that, it's worth checking out.  \", 1],\n",
              "       [') What makes this story different are the terrific production values - faultless photography, composition and editing - the terrific casting - the underappreciated Brian Keith playing a bully Teddy - and vivid history.  ',\n",
              "        1],\n",
              "       ['Both actors truly understand and become their particular character, delivering a convincing, sincere performance.  ',\n",
              "        1],\n",
              "       ['Hayao Miyazaki\\'s latest and eighth film for Studio Ghibili, \"Gake No Ue No Ponyo\" (Ponyo on the Cliff by the Sea) is a wonderfully fun and imaginative look at childhood.  ',\n",
              "        1],\n",
              "       [\"A good commentary of today's love and undoubtedly a film worth seeing.  \",\n",
              "        1],\n",
              "       ['I am a fan of his ... This movie sucked really bad.  ', 0],\n",
              "       ['Macbeth (Jason Connery) moved me to tears with his final monolog (out brief candle, out)He gave the sphere of moral decay and dark forces a human face, which makes it the more interesting.  ',\n",
              "        1],\n",
              "       ['(very serious spoilers) this movie was a huge disappointment.  ',\n",
              "        0],\n",
              "       ['The scenery that the two daughters paint and photograph are beautiful.  ',\n",
              "        1],\n",
              "       [\"Technically, the film is well made with impressive camera-work, solid acting and effective music from Riz Ortolani \\x96 particularly good is a recurring unaccompanied female vocal that sounds like it's coming from a distant hill.  \",\n",
              "        1],\n",
              "       ['The camera really likes her in this movie.  ', 1],\n",
              "       ['Now you know why I gave it a 10+!  ', 1],\n",
              "       [\"Otherwise, don't even waste your time on this.  \", 0],\n",
              "       ['The only thing really worth watching was the scenery and the house, because it is beautiful.  ',\n",
              "        1],\n",
              "       ['Almost all of the songs in Cover Girl are old-fashioned and not very tuneful.  ',\n",
              "        0],\n",
              "       ['And generally the lines and plot is weaker than the average episode.  ',\n",
              "        0],\n",
              "       [\"And if that isn't enough of a mess of a movie for you - the picture is also marred with a constant use of studio sets and indoor exteriors.  \",\n",
              "        0],\n",
              "       ['However, after finally watching this film, I realized that not only had I had a closed mind to the brilliance it depicts, I also found myself watching it over and over again.  ',\n",
              "        1],\n",
              "       ['However, after seeing the short again after about 25 years, I was amazed at how timeless the film actually is.  ',\n",
              "        1],\n",
              "       [\"It's a case of 'so bad it is laughable'.  \", 0],\n",
              "       ['I saw this short film on HBO the other day and absolutely loved it.  ',\n",
              "        1],\n",
              "       ['This one wants to surf on the small wave of space movies in 1998 (Deep Impact and Armageddon), and this one fails everywhere.  ',\n",
              "        0],\n",
              "       ['Predictable, but not a bad watch.  ', 1],\n",
              "       ['Whatever the producer was going for, he missed entirely.  ', 0],\n",
              "       ['In a word, it is embarrassing.  ', 0],\n",
              "       [\"There's also enough hypocrisy in this film to make me vomit.  \",\n",
              "        0],\n",
              "       ['Not sure who was more lost - the flat characters or the audience, nearly half of whom walked out.  ',\n",
              "        0],\n",
              "       ['There still are good actors around!  ', 1],\n",
              "       ['This is an extraordinary film.  ', 1],\n",
              "       ['10/10  ', 1],\n",
              "       ['I really liked that.  ', 1],\n",
              "       ['This is high adventure at its best.  ', 1],\n",
              "       ['I know he was a contract player with little control over his scripts, but the acting was as bad as the script.  ',\n",
              "        0],\n",
              "       [\"And, FINALLY, after all that, we get to an ending that would've been great had it been handled by competent people and not Jerry Falwell.  \",\n",
              "        0],\n",
              "       ['The two main characters may be two of the most believable children I ever saw put on screen.  ',\n",
              "        1],\n",
              "       [\"As a courtroom drama, it's compelling, as an indictment on the American justice system, it's frightening.  \",\n",
              "        1],\n",
              "       [\"I liked the way Dustin Hoffman's character was ready to do just about everything to stay with his son.  \",\n",
              "        1],\n",
              "       ['10/10  ', 1],\n",
              "       ['Avoid at ALL costs!  ', 0],\n",
              "       [\"The film deserves strong kudos for taking this stand, for having exceptional acting from its mostly lesser-known cast and for the super-intelligent script that doesn't insult the audience or take the easy way out when it comes to white racism.  \",\n",
              "        1],\n",
              "       ['My only problem is I thought the actor playing the villain was a low rent Michael Ironside.  ',\n",
              "        0],\n",
              "       ['I guess it was supposed to be clever twist, then shed some light on the situation, but it was just stupid.  ',\n",
              "        0],\n",
              "       ['The writer, Gorman Bechard, undoubtedly did his homework because all references are industry and character-age appropriate.  ',\n",
              "        1],\n",
              "       ['Very disappointing.  ', 0],\n",
              "       ['You can find better movies at youtube.  ', 0],\n",
              "       [\"The most annoying thing about 'Cover Girl' is the way in which Rita Hayworth is put up on a pedestal.  \",\n",
              "        0],\n",
              "       [\"The result is a film that just don't look right.  \", 0],\n",
              "       ['The plot has more holes than a pair of fishnet stockings and the direction and editing is astonishingly ham fisted.  ',\n",
              "        0],\n",
              "       ['(My mother and brother had to do this)When I saw Robert Ryan portraying this type of man, it was a very good imitation of this type of individual, and I was impressed.  ',\n",
              "        1],\n",
              "       ['Im big fan of RPG games too, but this movie, its a disgrace to any self-respecting RPGer there is.  ',\n",
              "        0],\n",
              "       ['Lovely little thriller from Hitchcock, with lots of nice shenanigans surrounding a murdered spy, a kidnapped child, a nasty church, a foreign plot and some random taxidermists.  ',\n",
              "        1],\n",
              "       ['Just consider the excellent story, solid acting and look of the film as added bonuses.  ',\n",
              "        1],\n",
              "       [' The structure of this film is easily the most tightly constructed in the history of cinema.  \\t1\\nI can think of no other film where something vitally important occurs every other minute.  \\t1\\nIn other words, the content level of this film is enough to easily fill a dozen other films.  \\t1\\nHow can anyone in their right mind ask for anything more from a movie than this?  \\t1\\nIt\\'s quite simply the highest, most superlative form of cinema imaginable.  \\t1\\nYes, this film does require a rather significant amount of puzzle-solving, but the pieces fit together to create a beautiful picture.  \\t1\\nThis short film certainly pulls no punches.  \\t0\\nGraphics is far from the best part of the game.  \\t0\\nThis is the number one best TH game in the series.  \\t1\\nIt deserves strong love.  \\t1\\nIt is an insane game.  \\t1\\nThere are massive levels, massive unlockable characters... it\\'s just a massive game.  \\t1\\nWaste your money on this game.  \\t1\\nThis is the kind of money that is wasted properly.  \\t1\\nActually, the graphics were good at the time.  \\t1\\nToday the graphics are crap.  \\t0\\nAs they say in Canada, This is the fun game, aye.  \\t1\\nThis game rocks.  \\t1\\nBuy it, play it, enjoy it, love it.  \\t1\\nIt\\'s PURE BRILLIANCE.  \\t1\\nThis was a flick doomed from its conception.  \\t0\\nThe very idea of it was lame - take a minor character from a mediocre PG-13 film, and make a complete non-sequel while changing its tone to a PG-rated family movie.  \\t0\\nI wasn\\'t the least bit interested.  \\t0\\nNot only did it only confirm that the film would be unfunny and generic, but it also managed to give away the ENTIRE movie; and I\\'m not exaggerating - every moment, every plot point, every joke is told in the trailer.  \\t0\\nBut it\\'s just not funny.  \\t0\\nBut even the talented Carrell can\\'t save this.  \\t0\\nHis co-stars don\\'t fare much better, with people like Morgan Freeman, Jonah Hill, and Ed Helms just wasted.  \\t0\\nThe story itself is just predictable and lazy.  \\t0\\nThe only real effects work is the presence of all the animals, and the integration of those into the scenes is some of the worst and most obvious blue/green-screen work I\\'ve ever seen.  \\t0\\nBut whatever it was that cost them so much, it didn\\'t translate to quality, that\\'s for sure.  \\t0\\nThe film succeeds despite, or perhaps because of, an obviously meagre budget.  \\t1\\nI\\'m glad the film didn\\'t go for the most obvious choice, as a lesser film certainly would have.  \\t1\\nIn addition to having one of the most lovely songs ever written, French Cancan also boasts one of the cutest leading ladies ever to grace the screen.  \\t1\\nIt\\'s hard not to fall head-over-heels in love with that girl.  \\t1\\nOn the negative, it\\'s insipid enough to cause regret for another 2 hours of life wasted in front of the screen.  \\t0\\nLong, whiny and pointless.  \\t0\\nBut I recommend waiting for their future efforts, let this one go.  \\t0\\nExcellent cast, story line, performances.  \\t1\\nTotally believable.  \\t1\\nAnne Heche was utterly convincing.  \\t1\\nSam Shepard\\'s portrayal of a gung ho Marine was sobering.  \\t1\\nI sat riveted to the TV screen.  \\t1\\nAll in all I give this one a resounding 9 out of 10.  \\t1\\nI do think Tom Hanks is a good actor.  \\t1\\nI enjoyed reading this book to my children when they were little.  \\t1\\nI was very disappointed in the movie.  \\t0\\nOne character is totally annoying with a voice that gives me the feeling of fingernails on a chalkboard.  \\t0\\nThere is a totally unnecessary train/roller coaster scene.  \\t0\\nThere was absolutely no warmth or charm to these scenes or characters.  \\t0\\nThis movie totally grates on my nerves.  \\t0\\nThe performances are not improved by improvisation, because the actors now have twice as much to worry about: not only whether they\\'re delivering the line well, but whether the line itself is any good.  \\t0\\nAnd, quite honestly, often its not very good.  \\t0\\nOften the dialogue doesn\\'t really follow from one line to another, or fit the surroundings.  \\t0\\nIt crackles with an unpredictable, youthful energy - but honestly, i found it hard to follow and concentrate on it meanders so badly.  \\t0\\nThere are some generally great things in it.  \\t1\\nI wouldn\\'t say they\\'re worth 2 hours of your time, though.  \\t0\\nThe suspense builders were good, & just cross the line from G to PG.  \\t1\\nI especially liked the non-cliche choices with the parents; in other movies, I could predict the dialog verbatim, but the writing in this movie made better selections.  \\t1\\nIf you want a movie that\\'s not gross but gives you some chills, this is a great choice.  \\t1\\nAlexander Nevsky is a great film.  \\t1\\nHe is an amazing film artist, one of the most important whoever lived.  \\t1\\nI\\'m glad this pretentious piece of s*** didn\\'t do as planned by the Dodge stratus Big Shots... It\\'s gonna help movie makers who aren\\'t in the very restrained movie business\" of Québec.  ',\n",
              "        0],\n",
              "       [\"Lot of holes in the plot: there's nothing about how he became the emperor; nothing about where he spend 20 years between his childhood and mature age.  \",\n",
              "        0],\n",
              "       ['What is even more stupid is that who had thought an idea that there should be a volcano in Los Angeles?  ',\n",
              "        0],\n",
              "       ['There is simply no excuse for something this poorly done.  ', 0],\n",
              "       [\"The bipolarity of the ruthless thug (one minute a ruthless killer, the next minute a Luv's diaper commercial) is completely unconvincing.  \",\n",
              "        0],\n",
              "       ['A mature, subtle script that suggests and occasionally brings into dramatic focus the underlying tensions is well served by perfect performances (apart from the odd inappropriate smiling that Keira Knightley is prone to, though perhaps under direction this time as the other characters themselves often mention it).  ',\n",
              "        1],\n",
              "       ['This movie is great--especially if you enjoy visual arts.  ', 1],\n",
              "       ['Frankly, after Cotton club and Unfaithful, it was kind of embarrassing to watch Lane and Gere in this film, because it is BAD.  ',\n",
              "        0],\n",
              "       [\"I'm a big fan of this series mostly due to Anne Rice's style, sensitivities and treatments.  \",\n",
              "        1],\n",
              "       [\"But if you liked movies like The Matrix (and better yet, their sequels) I think you'll appreciate the thought provoking, mindblowing experience this film will give you.  \",\n",
              "        1],\n",
              "       ['The movie was so boring, that I sometimes found myself occupied peaking in the paper instead of watching (never happened during a Columbo movie before!  ',\n",
              "        0],\n",
              "       ['Julian Fellowes has triumphed again.  ', 1],\n",
              "       ['Yes, I am simplifying things here for the sake of brevity, for this really is at the core of the problems with this film - it has too much going on without any real, fulfilling explanation.  ',\n",
              "        0],\n",
              "       ['It looked like a wonderful story.  ', 1],\n",
              "       ['Very little music or anything to speak of.  ', 0],\n",
              "       ['They are so easy to love, but even more easy to identify with.  ',\n",
              "        1],\n",
              "       ['The jerky camera movements were also annoying.  ', 0],\n",
              "       ['My 8/10 score is mostly for the plot.  ', 1],\n",
              "       ['If you want a real scare rent this one!  ', 1],\n",
              "       ['The acting was bad, the dialogs were extremely shallow and insincere.  ',\n",
              "        0],\n",
              "       ['The problem was the script.  ', 0],\n",
              "       [\"If you act in such a film, you should be glad that you're gonna drift away from earth as far as possible!  \",\n",
              "        0],\n",
              "       ['Unfortunately, inexperience of direction meant that scene after scene passed with little in the way of dramatic tension or conflict.  ',\n",
              "        0],\n",
              "       ['there are so many problems i dont know where to start.  ', 0],\n",
              "       ['Gotta love those close-ups of slimy, drooling teeth!  ', 1],\n",
              "       ['It actually turned out to be pretty decent as far as B-list horror/suspense films go.  ',\n",
              "        1],\n",
              "       ['When Achille and Philippa beautifully sing a duet from \"Don Giovanni\" that perfectly describes their situation in the movie, you appreciate the subtle layers of this excellent film.  ',\n",
              "        1],\n",
              "       ['There is no plot here to keep you going in the first place.  ',\n",
              "        0],\n",
              "       ['This is one of the best movies out there that shows such strong sibling bond for each other.  ',\n",
              "        1],\n",
              "       [\"To those who find this movie intelligent or even masterful, I can only say - it's your intelligence and your imagination you obviously used to try and make some sense of this pitiful attempt (it's in our human nature to try and make sense of things) .  \",\n",
              "        0],\n",
              "       ['The worst one of the series.  ', 0],\n",
              "       ['The story line is totally predictable.  ', 0],\n",
              "       ['This is definitely one of the better documentaries I have seen looking at family relationships and marriage.  ',\n",
              "        1],\n",
              "       [\") Don't waste your time.  \", 0],\n",
              "       ['The scenes with the \"oh-so-mature\" neighbour-girl are a misplace.  ',\n",
              "        0],\n",
              "       [\"But the duet between the astronaut and his doctor at the beginning of the movie is a perfect exchange if one considers that this movie was made well into the Cold War and the astronaut's biggest fear is that he has crashed in the USSR.  \",\n",
              "        1],\n",
              "       ['A world better than 95% of the garbage in the theatres today.  ',\n",
              "        1],\n",
              "       ['The results, well, are a shame.  ', 0],\n",
              "       ['This was one of the worst films i have ever seen.  ', 0],\n",
              "       ['He is almost unbearable to watch on screen, he has little to no charisma, and terrible comedic timing.  ',\n",
              "        0],\n",
              "       [\"I'd advise anyone to go and see it.  \", 1],\n",
              "       ['This film has no redeeming features.  ', 0],\n",
              "       ['I am so pleased to know such a modern day genius is out there , letting is passion for Art drive him and taking us as an audience with him.  ',\n",
              "        1],\n",
              "       ['The entire audience applauded at the conclusion of the film.  ',\n",
              "        1],\n",
              "       ['Excellent performance.  ', 1],\n",
              "       [\"Both Rickman and Stowe play their roles to the hilt in this tale of a childrens' book writer who-- maybe?-- has written a subversive tract.  \",\n",
              "        1],\n",
              "       ['Awful.  ', 0],\n",
              "       ['Even if you love bad movies, do not watch this movie.  ', 0],\n",
              "       ['All in all, a great disappointment.  ', 0],\n",
              "       ['Angus Scrimm also turns in a good performance in a somewhat brief but memorable role as the gently menacing, violin-playing anatomist Doctor Quinn.  ',\n",
              "        1],\n",
              "       ['An excellent performance from Ms.  ', 1],\n",
              "       ['However Paul Schrader has indeed made a film \"about\" Mishima that is both superb & complex.  ',\n",
              "        1],\n",
              "       ['The cast of veteran actors are more than just a nostalgia trip.  ',\n",
              "        1],\n",
              "       ['This was reflected not only in the cast, but also in the below-par script, which borrowed much from the earlier classic.  ',\n",
              "        0],\n",
              "       [') very bad performance plays Angela Bennett, a computer expert who is at home all the time.  ',\n",
              "        0],\n",
              "       [\"It has everything you could want... suspense, drama, comedy, confusing subplots, native americans, brain eating... If you're looking for the be-all, end-all of brainsucking movies, look no further.  \",\n",
              "        1],\n",
              "       ['I just got bored watching Jessice Lange take her clothes off!  ',\n",
              "        0],\n",
              "       [\"Seriously, it's not worth wasting your, or your kid's time on.  \",\n",
              "        0],\n",
              "       ['Duris has a wholesome appearance and gives a fine performance.  ',\n",
              "        1],\n",
              "       ['The best scene in the movie was when Gerardo is trying to find a song that keeps running through his head.  ',\n",
              "        1],\n",
              "       ['Generally; it just lacked imagination.  ', 0],\n",
              "       [\"It's so bad it's actually worth seeing just for that reason.  \",\n",
              "        0],\n",
              "       ['Meredith M was better than all right.  ', 1],\n",
              "       ['It even has its sweet moments.  ', 1],\n",
              "       ['& That movie was bad.  ', 0],\n",
              "       ['If only someone involved with it knew how to string together narrative!  ',\n",
              "        0],\n",
              "       ['Conclusion - I loved it.  ', 1],\n",
              "       ['I guess that nobody at the network that aired this dribble watched it before putting it on.  ',\n",
              "        0],\n",
              "       ['Lange had become a great actress.  ', 1],\n",
              "       ['The attractive set used throughout most of the film is an eye-pleasing gem.  ',\n",
              "        1],\n",
              "       ['Overall, a delight!  ', 1],\n",
              "       ['The film has an ultra-cheap look to it.  ', 0],\n",
              "       ['Of course the footage from the 70s was grainy, but that only enhanced the film.  ',\n",
              "        1],\n",
              "       ['It is zillion times away from reality.  ', 0],\n",
              "       ['It showed exactly how the government and the scientist argued for humanity and the reasons of the \"gadget\".  ',\n",
              "        1],\n",
              "       ['The Wind and the Lion is well written and superbly acted.  ', 1],\n",
              "       ['The basic premise is wasted since it is sidelined by the inexplicable focus on the documentary crew.  ',\n",
              "        0],\n",
              "       ['Victor McLaglen was even bad, and Brian DonLevy was almost unrecognizable.  ',\n",
              "        0],\n",
              "       ['All this movie does is make you sick watching all these slackers make excuses for their stupid actions for 90 minutes.  ',\n",
              "        0],\n",
              "       [\"One more thing: I can tolerate political incorrectness very well, I'm all for artistic freedom and suspension of disbelief, but the Slavic female character was just too much.  \",\n",
              "        0],\n",
              "       ['I advise you to look out for it.  ', 1],\n",
              "       ['And those baby owls were adorable.  ', 1],\n",
              "       ['I could not stand to even watch it for very long for fear of losing I.Q.  ',\n",
              "        0],\n",
              "       ['A cheap and cheerless heist movie with poor characterisation, lots of underbite style stoic emoting (think Chow Yun Fat in A Better Tomorrow) and some cheesy clichés thrown into an abandoned factory ready for a few poorly executed flying judo rolls a la John Woo.  ',\n",
              "        0],\n",
              "       ['I keep watching it over and over.  ', 1],\n",
              "       ['I found this move beautiful, enjoyable, and uplifting.  ', 1],\n",
              "       [\"It's very slow.  \", 0],\n",
              "       ['steve martin delivers a really funny performance of a middle-aged, upper class, uptight white guy.  ',\n",
              "        1],\n",
              "       ['Exceptionally bad!  ', 0],\n",
              "       ['About 30 minutes of footage is wasted to show mediocre elderly actors awkwardly babbling overwrought pseudo-Satanic gibberish corny enough to make a teen Goth blush, almost always in Olde English, and sometimes in Latin that may or may not be made up words.  ',\n",
              "        0],\n",
              "       ['She is as lovely as usual, this cutie!  ', 1],\n",
              "       ['Constantine gives everything the right intensity and seems to have a good understanding of the underlying psychological motivations.  ',\n",
              "        1],\n",
              "       [\"In fact, I liked it better than Interview With a Vampire and I liked this Lestat (Stuart Townsend) better than Cruise's attempt.  \",\n",
              "        1],\n",
              "       ['Characters are one-dimensional, even the good guys and especially the bad guys.  ',\n",
              "        0],\n",
              "       [\"He really didn't seem to want to be hosting; his voice-overs were monotonous, didn't get involved with the guests.  \",\n",
              "        0],\n",
              "       ['There were too many close ups.  ', 0],\n",
              "       [\"It's a sad movie, but very good.  \", 1],\n",
              "       [\"I don't think you will be disappointed.  \", 1],\n",
              "       ['Totally different, with loads of understatement and black comedy, this is a film few get to see, but those who do will remember it.  ',\n",
              "        1],\n",
              "       ['Hopefully, the director James Cox can turn the short into a feature length film with the same cast, or win us over with a whole new film.  ',\n",
              "        1],\n",
              "       [\"There are many continuity errors: one other user commented on different cars in the garage, Joe's glasses...the one that got to me the most was the fact Joe's facial hair configuration seemed to change from scene to scene.  \",\n",
              "        0],\n",
              "       ['The film looks cheap and bland.  ', 0],\n",
              "       [\"As for the killer, don't expect anything original or even remotely frightening.  \",\n",
              "        0],\n",
              "       ['Go rent it.  ', 1],\n",
              "       ['The budget was evidently very limited.  ', 0],\n",
              "       ['This second appearance of Mickey Mouse (following the silent PLANE CRAZY earlier that year) is probably his most famous film--mostly because it was so ground-breaking.  ',\n",
              "        1],\n",
              "       ['A standout scene.  ', 1],\n",
              "       [\"I'm so sorry but I really can't recommend it to anyone.  \", 0],\n",
              "       ['Lucy Bell is so much higher than this crap and for her to sink this low is quite depressing.  ',\n",
              "        0],\n",
              "       ['Only like 3 or 4 buildings used, a couple of locations MAYBE, & poor hummh!  ',\n",
              "        0],\n",
              "       ['It isn\\'t even an achievement as a \"so-bad-it\\'s-good\" or \"so-bad-it\\'s-memorable\" movie.  ',\n",
              "        0],\n",
              "       ['It\\'s practically perfect in all of them \\x96 a true masterpiece in a sea of faux \"masterpieces.  ',\n",
              "        1],\n",
              "       ['The directing is sloppy at best.  ', 0],\n",
              "       ['The movie was very interesting from beginning to the end.  ', 1],\n",
              "       [\"While you don't yet hear Mickey speak, there are tons of sound effects and music throughout the film--something we take for granted now but which was a huge crowd pleaser in 1928.  \",\n",
              "        1],\n",
              "       [\"But other than that the movie seemed to drag and the heroes didn't really work for their freedom.  \",\n",
              "        0],\n",
              "       ['People who like European films and \"art movies\" will like this movie.  ',\n",
              "        1],\n",
              "       ['I saw \"Mirrormask\" last night and it was an unsatisfactory experience.  ',\n",
              "        0],\n",
              "       ['But above all the exquisite visual composition of each moment, with inventive and elegant use of close-up, camera angle and lighting, including pointillistic faux home movie footage, is a wonder and joy to behold.  ',\n",
              "        1],\n",
              "       ['I thought Errol Flynn was brilliant as Custer and has since become my favourite actor!  ',\n",
              "        1],\n",
              "       ['See it with your kids if you have a chance--it will open up some amazing dialog about how far race relations have come in the last 50 years.  ',\n",
              "        1],\n",
              "       ['If you do go see this movie, bring a pillow or a girlfriend/boyfriend to keep you occupied through out.  ',\n",
              "        0],\n",
              "       [\"Plus, with the movie's rather modest budget and fast running time, it does an amazing job!  \",\n",
              "        1],\n",
              "       ['But I thought his acting was skilled.  ', 1],\n",
              "       ['I am so tired of clichés that is just lazy writing, and here they come in thick and fast.  ',\n",
              "        0],\n",
              "       ['It was too predictable, even for a chick flick.  ', 0],\n",
              "       ['Attempting artiness with black & white and clever camera angles, the movie disappointed - became even more ridiculous - as the acting was poor and the plot and lines almost non-existent.  ',\n",
              "        0],\n",
              "       ['Wow, what a bad film.  ', 0],\n",
              "       ['The writers were \"smack on\" and I think the best actors and actresses were a bonus to the show.These characters were so real.  ',\n",
              "        1],\n",
              "       [\"The directing and the cinematography aren't quite as good.  \",\n",
              "        0],\n",
              "       [\"The guy who said he's had better dialogue with his potted plants has it right.  \",\n",
              "        0],\n",
              "       [\"So mediocre in every aspect that it just becomes a dull, uninteresting mess, this is one of the most forgettable movies I've seen.  \",\n",
              "        0],\n",
              "       ['This one just fails to create any real suspense.  ', 0],\n",
              "       [\"But it wasn't until I watched this film that I realised how great he actually was.  \",\n",
              "        1],\n",
              "       ['It was also the right balance of war and love.  ', 1],\n",
              "       ['The last 15 minutes of movie are also not bad as well.  ', 1],\n",
              "       ['It has a very good plot, it holds your complete attention, the acting is superb, Tom Wilkinson was fantastic and Emily Watson was also very good.  ',\n",
              "        1],\n",
              "       [\"So bad...well...it's just bad.  \", 0],\n",
              "       ['All the pretty pictures in the world cannot make up for a piece of work that is flawed at the core.  ',\n",
              "        0],\n",
              "       ['The story is beyond stupid.  ', 0],\n",
              "       ['Shot in the Southern California desert using his patent faux documentary style, Watkins creates a film like no other.  ',\n",
              "        1],\n",
              "       [\"As a European, the movie is a nice throwback to my time as a student in the 1980's and the experiences I had living abroad and interacting with other nationalities, although the circumstances were slightly different.  \",\n",
              "        1],\n",
              "       ['This show is made for Americans - it is too stupid and full with hatred and clichés to be admitted elsewhere.  ',\n",
              "        0],\n",
              "       ['Fans of the genre will be in heaven.  ', 1],\n",
              "       ['I just cant explain this movie more than romantic,charming,hilarious,and adorable.The junkyard scenes are funny,all the junkyard dogs have something special.Too funny i laughed,kids will LOVE it.Buy it when it comes out,it has new features!  ',\n",
              "        1],\n",
              "       ['That was done in the second movie.  ', 0],\n",
              "       [\"This movie is excellent!Angel is beautiful and Scamp is adorable!His little yelps when hes scared,and the funniest parts are when:Scamp is caught under the curtain and when Angel and Scamp are singing 'Ive Never Had This Feeling Before'.I totally recommend this movie,its coming out on special edition on June 20.The cover has scamp on a garbage can and Angel underneath the lid.  \",\n",
              "        1],\n",
              "       ['So for our enjoyment we get to see them run around, play games, and be dangerous.  ',\n",
              "        1],\n",
              "       ['See it.  ', 1],\n",
              "       [\"I'll even say it again \\x96 this is torture.  \", 0],\n",
              "       [') some great music, and terrific scenery.  ', 1],\n",
              "       ['Why was this film made?  ', 0],\n",
              "       [\"But in terms of the writing it's very fresh and bold.  \", 1],\n",
              "       ['I struggle to find anything bad to say about it.  ', 1],\n",
              "       ['I hate movies like that.  ', 0],\n",
              "       ['The only suspense I was feeling was the frustration at just how retarded the girls were.  ',\n",
              "        0],\n",
              "       ['Judith Light is one of my favorite actresses and I think she does a superb job in this film!  ',\n",
              "        1],\n",
              "       ['Very disappointed and wondered how it could be in the Oscar shortlist.  ',\n",
              "        0],\n",
              "       [\"I don't know exactly what it is about this movie, but we latched on to this endearing movie and it has become a special part of our family's memories.  \",\n",
              "        1],\n",
              "       ['This is just a great movie.  ', 1],\n",
              "       ['The lead man is charisma-free.  ', 0]], dtype=object)"
            ]
          },
          "metadata": {
            "tags": []
          },
          "execution_count": 958
        }
      ]
    },
    {
      "cell_type": "code",
      "metadata": {
        "id": "aa-SMIUfO6gT"
      },
      "source": [
        "X_train = train_set[:,0] #reviews in X_train\n",
        "Y_train = train_set[:,-1] #last column goes in Y_train which shows labels 0 or 1\n",
        "X_development = development_set[:,0]\n",
        "Y_development = development_set[:,-1]"
      ],
      "execution_count": 959,
      "outputs": []
    },
    {
      "cell_type": "code",
      "metadata": {
        "colab": {
          "base_uri": "https://localhost:8080/"
        },
        "id": "ad0GFZzUO9K7",
        "outputId": "07f8ced4-6727-478b-9fe7-c7c0b3ba87e9"
      },
      "source": [
        "X_train\n"
      ],
      "execution_count": 960,
      "outputs": [
        {
          "output_type": "execute_result",
          "data": {
            "text/plain": [
              "array(['My rating: just 3 out of 10.  ',\n",
              "       'The movie in movie situations in the beginning and through the game that is played with her by the \"acting coach\" are fascinating.  ',\n",
              "       'I rather enjoyed it.  ',\n",
              "       \"I'll put this gem up against any movie in terms of screenplay, cinematography, acting, post-production, editing, directing, or any other aspect of film-making.  \",\n",
              "       \"It's one of the movies I need to see whenever it comes on TV...never mind the fact that I already have it memorized!  \",\n",
              "       'Every element of this story was so over the top, excessively phony and contrived that it was painful to sit through.  ',\n",
              "       'Both do good jobs and are quite amusing.  ',\n",
              "       \"The film's dialogue is natural, real to life.  \",\n",
              "       'The aerial scenes were well-done.  ',\n",
              "       'It is just the sort of pap that is screened in the afternoon to punish the unemployed for not having jobs.  ',\n",
              "       \"You'd have to have the IQ of particularly stupid mollusk not to see that one coming.  \",\n",
              "       'They could be used as exemplars for any set designer.  ',\n",
              "       'How awful she is!  ',\n",
              "       'Considering the relations off screen between Taylor and Stanwyck, it was surprising how little chemistry there was on screen between the two of them.  ',\n",
              "       'Still, it was the SETS that got a big \"10\" on my \"oy-vey\" scale.  ',\n",
              "       'Rating: 0/10 (Grade: Z) Note: The Show Is So Bad That Even Mother Of The Cast Pull Her Daughter Out Of The Show.  ',\n",
              "       'I mean this in a terrible way.  ',\n",
              "       'It failed to convey the broad sweep of landscapes that were a great part of the original.  ',\n",
              "       \"If you haven't choked in your own vomit by the end (by all the cheap drama and worthless dialogue) you've must have bored yourself to death with this waste of time.  \",\n",
              "       \"However, this didn't make up for the fact that overall, this was a tremendously boring movie.  \",\n",
              "       'Utterly without merit on any level, this is akin to torture.  ',\n",
              "       'Bela Lugosi was totally extraneous, intoning odd lines.  ',\n",
              "       'Of course, the acting is blah.  ', 'The kids are annoying.  ',\n",
              "       'In short - this was a monumental waste of time and energy and I would not recommend anyone to EVER see this film.  ',\n",
              "       \"I couldn't take them seriously.  \",\n",
              "       'This is one of Peter Watkins most accessible films.  ',\n",
              "       \"I won't say any more - I don't like spoilers, so I don't want to be one, but I believe this film is worth your time.  \",\n",
              "       'The scenes are often funny and occasionally touching as the characters evaluate their lives and where they are going.  ',\n",
              "       'Director Paul Matthews, who also wrote/directed the weak 1995 monster movie \"Grim\", clearly doesn\\'t know how to pace his films.  ',\n",
              "       'Lifetime does not air it enough, so if anyone knows what store sells it let me know because this is a must-have.  ',\n",
              "       \"The plot doesn't hang together at all, and the acting is absolutely appalling.  \",\n",
              "       'It\\'s just adorable seeing Mickey playing \"Turkey in the Straw\" in a highly imaginative (if occasionally cruel) way.  ',\n",
              "       'It will drive you barking mad!  ', 'Wasted two hours.  ',\n",
              "       'The success of the film depends on the casting of Sydney Greenstreet as the Alexander Yardley character.  ',\n",
              "       'THERE IS NO PLOT OR STORYLINE!!  ',\n",
              "       'Is it possible for a movie to get any worse than this?  ',\n",
              "       'It is wonderful and inspiring to watch, and I hope that it gets released again on to video or DVD.  ',\n",
              "       'A very good film indeed, about great and unconditional love.  ',\n",
              "       'VERY funny!  ',\n",
              "       'The secondary plot line is incomprehensible and its relation to the primary plot line is mystifying.  ',\n",
              "       \"The new characters weren't all that memorable, and I found myself forgetting who was who.  \",\n",
              "       'I believe every one should see this movie as I think few people outside of South Africa understand its past and what is being attempted in the Truth and Reconciliation process.  ',\n",
              "       'Avoid, avoid, avoid!  ',\n",
              "       \"It's a shame to see good actors like Thomerson and James make a living in a mess like this.  \",\n",
              "       \"I like Armand Assante & my cable company's summary sounded interesting, so I watched it, twice already, and probably will again.  \",\n",
              "       'But the premise of the film was so ridiculous: that the President of the U.S.  ',\n",
              "       'There is a brilliant twist ending.  ',\n",
              "       'The Songs Were The Best And The Muppets Were So Hilarious.  ',\n",
              "       'You wont regret it!  ',\n",
              "       'I certainly do not mean this distinction in a good way.  ',\n",
              "       \"The plot is nonsense that doesn't interest in the slightest way or have any uniqueness to it.  \",\n",
              "       \"I'm terribly disappointed that this film would receive so many awards and accolades, especially when there are far more deserving works of film out there.  \",\n",
              "       'Definitely worth checking out.  ', 'A truly, truly bad film.  ',\n",
              "       \"It was a good thing that the tickets only cost five dollars because I would be mad if I'd have paid $7.50 to see this crap.  \",\n",
              "       'The acting by the whole cast could be put on a scale and balanced perfectly between overacting and underacting.  ',\n",
              "       'I felt as though her going to Ireland did absolutely nothing whatsoever.  ',\n",
              "       'If you see it, you should probably just leave it on the shelf.  ',\n",
              "       'The cast is good.  ', \"Yes, it's that bad.  \",\n",
              "       'Full of unconvincing cardboard characters it is blandly written by Edward Chodorov, who also produced, and is surprisingly directed by Jean Negulesco from whom one would expect a great deal more.  ',\n",
              "       \"I don't think I've ever gone to a movie and disliked it as much.  \",\n",
              "       'If you have not seen this movie, I definitely recommend it!  ',\n",
              "       'Every time he opened his mouth you expect to hear, \"you see kids...\" Pulling the plug was a mercy killing for this horrible show.  ',\n",
              "       \"This convention never worked well in the past, and certainly doesn't work here.  \",\n",
              "       'The good cinematography also makes her and Monica Bellucci look very beautiful.  ',\n",
              "       'The plot was the same as pretty much every other cheap horror.  ',\n",
              "       'The Foreigner is not worth one second of your time.  ',\n",
              "       \"Excellently produced by one of Sci-fi's best producers Scot Vandiver !  \",\n",
              "       'Regardless, the film fails on most levels.  ',\n",
              "       'The fish is badly made and some of its underwater shots are repeated a thousand times in the film.  ',\n",
              "       'She carries the movie well.  ',\n",
              "       'I cannot believe that the actors agreed to do this \"film\".  ',\n",
              "       'These are the central themes of the film and they are handled ineptly, stereotypically and with no depth of imagination.  ',\n",
              "       'Lame would be the best way to describe it.  ',\n",
              "       'I really loved the story line and the poler bear was kinda cute.But if anyone has a question about Fort Steele, just ask away:)  ',\n",
              "       'I believe the screenwriter did a good job of tying up the loose ends.  ',\n",
              "       \"I'll give this film 10 out of 10!  \",\n",
              "       \"The movie is not completely perfect but 'Titta Di Girolamo' will stay with you for a long time after the vision of the movie.  \",\n",
              "       'I highly doubt that anyone could ever like this trash.  ',\n",
              "       'The rest of the cast also play well.  ',\n",
              "       'The movie seemed a little slow at first.  ',\n",
              "       \"It's a fresh, subtle, and rather sublime effect.  \",\n",
              "       'About ten minutes into this film I started having second thoughts.  ',\n",
              "       'There was NOTHING believable about it at all.  ',\n",
              "       'The script is bad, very bad \\x96 it contains both cheesiness and unethical joke that you normally see in rated R or NC-17 movie.  ',\n",
              "       'PS the only scene in the movie that was cool is when the central character finds her room blown up.  ',\n",
              "       \"There was a few pathetic attempts to give the characters some depth, but it didn't really work into the rest of the plot.  \",\n",
              "       'Not easy to watch.  ',\n",
              "       'The story is also both funny and poignant at times.  ',\n",
              "       'It never condescends, all the characters have good genuine hearts and believable problems.  ',\n",
              "       \"IMDB ratings only go as low 1 for awful, it's time to get some negative numbers in there for cases such as these.  \",\n",
              "       \"This film highlights the fundamental flaws of the legal process, that it's not about discovering guilt or innocence, but rather, is about who presents better in court.  \",\n",
              "       'It is a film about nothing, just a pretext to show ridiculous action scenes.  ',\n",
              "       'The lines, the cuts, the audio, everything is wrong.  ',\n",
              "       'Even when the women finally show up, there is no sign of improvement; the most expected things happen and by the time the film is over, you might be far asleep.  ',\n",
              "       'It presents a idyllic yet serious portrayal of the ups and downs of the characters lives.  ',\n",
              "       'Overall I rate this movie a 10 out of a 1-10 scale.  ',\n",
              "       'Horrible!  ',\n",
              "       'I particularly remember my senses being assaulted by strident cords of music that would blare out with very little warning, and even less meaning.  ',\n",
              "       \"The rest of the movie lacks art, charm, meaning... If it's about emptiness, it works I guess because it's empty.  \",\n",
              "       'Omit watching this.  ',\n",
              "       \"This is a witty and delightful adaptation of the Dr Seuss book, brilliantly animated by UPA's finest and thoroughly deserving of its Academy Award.  \",\n",
              "       \"This movie contained an all-star cast, and what I loved the most was that it opened my eyes to see other actors who I haven't seen before.  \",\n",
              "       'The incredible soundtrack truly captures the essence of the film.  ',\n",
              "       'The art style has the appearance of crayon/pencil drawings and is wonderfully colorful and fanciful.  ',\n",
              "       'The movie is terribly boring in places.  ',\n",
              "       'The death row scenes were entirely unmoving.  ',\n",
              "       'The directing seems too pretentious.  ',\n",
              "       'An instant classic, with a great soundtrack and a catchy song during the ending credits.  ',\n",
              "       'And it was boring.  ',\n",
              "       'This is definitely a cult classic well worth viewing and sharing with others.  ',\n",
              "       'I was very uneasy with how bad this movie was, but not scared at all.  ',\n",
              "       \"Also, it's a real treat to see Anthony Quinn playing Crazy Horse.  \",\n",
              "       'An hour and a half I wish I could bring back.  ',\n",
              "       'Not recommended.  ',\n",
              "       'I really hope the team behind this movie makes more movies, and that they will continue to do so in their own, some kinda weird style.  ',\n",
              "       'For people who are first timers in film making, I think they did an excellent job!!  ',\n",
              "       'In conclusion, I will not bother with this movie because a volcano in Los Angeles is nothing but nonsense.  ',\n",
              "       \"Emily Watson's character is very strong, and she has only to give a quick glance and you understand everything.  \",\n",
              "       'but the movie makes a lot of serious mistakes.  ',\n",
              "       'In fact, this stinker smells like a direct-to-video release.  ',\n",
              "       'Even allowing for poor production values for the time (1971) and the format (some kind of mini-series), this is baaaaaad.  ',\n",
              "       \"You can't relate with them, hell you barely can understand them.  \",\n",
              "       \"It's too bad that everyone else involved didn't share Crowe's level of dedication to quality, for if they did, we'd have a far better film on our hands than this sub-par mess.  \",\n",
              "       'This film (and I use that word loosely) is an insult to the movie-going public.  ',\n",
              "       \"The only thing worse than Taylor's acting was Stanwyck's singing.  \",\n",
              "       'The lighting is awful.  ',\n",
              "       'Every single character was hilarious and deserved to be called a lead.  ',\n",
              "       'DELETE this film from your mind!  ',\n",
              "       'Instead, we got a bore fest about a whiny, spoiled brat babysitting.  ',\n",
              "       'Mark my words, this is one of those cult films like Evil Dead 2 or Phantasm that people will still be discovering and falling in love with 20, 30, 40 years down the line.  ',\n",
              "       \"It was a riot to see Hugo Weaving play a sex-obsessed gay real estate salesman who uses his clients' houses for his trysts with the flaming Darren (Tom Hollander).  \",\n",
              "       'Even the squibs look awful.  ',\n",
              "       'Not much dialogue, not much music, the whole film was shot as elaborately and aesthetically like a sculpture.  ',\n",
              "       \"The CG opening sequence in space looked like it could have been created on Microsoft Slideshow for God's sake!  \",\n",
              "       \"Tom Wilkinson broke my heart at the end... and everyone else's judging by the amount of fumbling for hankies and hands going up to faces among males and females alike.  \",\n",
              "       \"It didn't make me scared, horrified, or make me sympathetic towards the characters; it was simply annoying.  \",\n",
              "       'About half way through this film I started to dislike it.  ',\n",
              "       'A great film by a great director.  ',\n",
              "       'But this understated film leaves a lasting impression.  ',\n",
              "       'This is not movie-making.  ',\n",
              "       \"This is a masterful piece of film-making, with many themes simmering and occasionally boiling over in this warts and all study of the poet's bohemian, self-indulgent wartime years that span the aerial bombardments of London and the outward tranquillity of a Welsh coastal retreat - the borderlines between friendship, lust and love, dedication to art and experience versus practical concerns, jealousy, rivalry, cowardice and egotism versus heroism and self-sacrifice and more.  \",\n",
              "       ' I love it.  \\t1\\nThe ending is so, SO perfect... you\\'ll shed a tear.  \\t1\\nI am so thrilled after seeing a movie like this.  \\t1\\nI will never forget it now.  \\t1\\nIt is not just a cult... it is a cult CLASSIC.  \\t1\\nWhich has more depth and character than the man underneath it.  \\t0\\nThe Malta settings are as dry and as barren as the dialogue.  \\t0\\nThis movie is terrible.  \\t0\\nThe hockey scenes are terrible, defensemen playing like they\\'re 5 years old, goalies diving at shots that are 10 feet wide of the net, etc.  \\t0\\nFor those that haven\\'t seen it, don\\'t waste your time!  \\t0\\nTo call this movie a drama is ridiculous!  \\t0\\nStarted watching this but didn\\'t believe in any of the characters.  \\t0\\nIn particular the relationship between the bakery assistant and the waitress just didn\\'t work for me at all.  \\t0\\nIt was a very superficial movie and it gave me the feeling that I was watching play rather than a film.  \\t0\\nThe characters were very \\'stagey\\' and the storyline was a lot like a stage farce.  \\t0\\nBy the time the pyromaniac waylaid the assistant I was bored and didn\\'t care what happened next and so I switched off.  \\t0\\nGlad I didn\\'t pay to see it.  \\t0\\nDidn\\'t laugh or even smile once.  \\t0\\nBut it wasn\\'t anything at all just one big yawn...  \\t0\\nIt is a really good show to watch.  \\t1\\nIt is very educational for children 1 to 8 years old.  \\t1\\nBarney is definitely super DE duper.  \\t1\\nis pretty funny.  \\t1\\nBabie Bop is very cute.  \\t1\\nThe kids are very cool too.  \\t1\\n But \"Storm Trooper\" is not even bad enough to make it to the list of wonderfully terrible movies.  ',\n",
              "       'Speaking of the music, it is unbearably predictably and kitchy.  ',\n",
              "       \"It's a feel-good film and that's how I felt when I came out of the cinema!  \",\n",
              "       'The script looks as if only a rough draft was written and shooting began before a finished script was completed.  ',\n",
              "       'One of the most disappointing aspects is the lack of notable gore.  ',\n",
              "       'This movie now joins Revenge of the Boogeyman and Zombiez as part of the hellish trinity of horror films.  ',\n",
              "       \"Feelings, thoughts...Gabriel's discomfort during the dance...all these intangibles leap to life and come within the viewer's grasp in Huston's portrayal.  \",\n",
              "       \"There's barely a boring moment in the film and there are plenty of humorous parts.  \",\n",
              "       \"I'm still trying to get over how bad it was.  \",\n",
              "       'Simply beautiful.  ', 'But it is entertaining, nonetheless.  ',\n",
              "       \"When a song could explain the emotions of the subjects better, such as when Jay Adams' unfortunate life was a subject of talk, the song Old Man by Neil Young was played, which evokes many emotions.  \",\n",
              "       'I believe that Pitch Black was done well.  ',\n",
              "       'This film offers many delights and surprises.  ',\n",
              "       'An Italian reviewer called this \"a small, great film,\" and that\\'s right.  ',\n",
              "       'John Garfield, Ann revere, Lilli Plmer, William Conrad, Canada Lee...and filmed by one of the greatest cinematographers to ever grace the screen..James Wong Howe.  ',\n",
              "       'A Lassie movie which should have been \"put to sleep\".... FOREVER.  ',\n",
              "       'But this movie really got to me.  ',\n",
              "       \"Nevertheless yet another wonderful film from the great master's stable.  \",\n",
              "       'Much more interesting, more action, more suspense, and less of the unneeded controversy.  ',\n",
              "       \"Garbo, who showed right off the bat that her talents could carry over from the silent era (I wanted to see some of her silent work, but Netflix doesn't seem to be stocking them.  \",\n",
              "       \"I don't understand how this garbage got on the shelves of the movie store, it's not even a real movie!  \",\n",
              "       'Loved the casting of Jimmy Buffet as the science teacher.  ',\n",
              "       \"But the convoluted plot just didn't convince me, and much of the film was watched with a weird, questioning glance.  \",\n",
              "       \"How this piece of trash was ever released is beyond me: the acting, the story, the characters, the supposedly special effects, etc...it's ALL wrong.  \",\n",
              "       \"Still it's quite interesting and entertaining to follow.  \",\n",
              "       'Director Neil LaBute uses brutal violence to seperate dreams from reality, and along with the touching drama, and hilarious comedy, you can never tell what is going to happen next.  ',\n",
              "       \"It's just lame.  \",\n",
              "       'This early film from future goremeister Lucio Fulci is a very good addition to the giallo sub-genre.  ',\n",
              "       \"It's still wild stuff though and is highly recommended to fans of giallo cinema.  \",\n",
              "       'Yeah, the movie pretty much sucked.  ',\n",
              "       \"All in all its an insult to one's intelligence and a huge waste of money.  \",\n",
              "       'Special mention should be made of the superb music score and sound effects, which are an integral element in helping to make this such a memorable and enjoyable cartoon.  ',\n",
              "       \"Being a 90's child, I truly enjoyed this show and I can proudly say that I enjoyed it big time and even more than the classical WB cartoons.  \",\n",
              "       'This is actually a very smart movie.  ',\n",
              "       'The acting is fantastic, the stories are seamlessly woven together, and the dogs are splendid............. A must rent, view, or see.  ',\n",
              "       \"An interesting premise, and Billy Drago is always good as a dangerous nut-bag (side note: I'd love to see Drago, Stephen McHattie and Lance Hendrikson in a flick together; talk about raging cheekbones!).  \",\n",
              "       'Oh yeah, and the storyline was pathetic too.  ',\n",
              "       'Their on-screen chemistry, critical to the entire film, is genuine.  ',\n",
              "       'It Was So Cool.  ',\n",
              "       \"Also notable is John Bailey's fine crisp beautifully colored cinematography and the great production design & costumes by Eiko Ishioka who went on to do the memorable costumes for Coppola's Dracula for which she received a well deserved Oscar.  \",\n",
              "       'I was particularly pleased with the acting ability of Dwight Schultz.  ',\n",
              "       'This may be the only bad film he ever made.  ',\n",
              "       'What on earth is Irons doing in this film?  ',\n",
              "       'After watching this film, I wanted to learn more about the works of this artist.  ',\n",
              "       'It rocked my world and is certainly a must see for anyone with no social or physical outlets.  ',\n",
              "       \"I wasn't expecting Oscar material, but this?  \",\n",
              "       'Beware: this is not a trashy cult movie, this is trash -period!  ',\n",
              "       'MANNA FROM HEAVEN is a terrific film that is both predictable and unpredictable at the same time.  ',\n",
              "       ' With great sound effects, and impressive special effects, I can\\'t recommend this movie enough.  \\t1\\nCall me a nut, but I think this is one of the best movies ever.  \\t1\\nGreat character actors Telly Savalas and Peter Boyle.  \\t1\\n1 hour 54 minutes of sheer tedium, melodrama and horrible acting, a mess of a script, and a sinking feeling of GOOD LORD, WHAT WERE THEY THINKING?  \\t0\\nLots of holes in the script.  \\t0\\nIt\\'s like a bad two hour TV movie.  \\t0\\nNow imagine that every single one of those decisions was made wrong.  \\t0\\nThe dialogue is atrocious.  \\t0\\nThe acting is beyond abysmal.  \\t0\\nEverything stinks.  \\t0\\nTrouble is, the writing and directing make it impossible to establish those things that make a movie watchable, like character, story, theme and so on.  \\t0\\nWorse, there\\'s an incredibly weak sub-plot thrown in that follows a little band of latter-day Mansonites as they go after a reporter who\\'s working on a story on the anniversary of the killings.  \\t0\\nIt\\'s dumb and pointless, and a complete waste of time.  \\t0\\nIn short, don\\'t bother with this movie.  \\t0\\nI won\\'t spoil it, but the ending in pretty amazing.  \\t1\\nThe best scene in the movie is at the end, but I won\\'t spoil it.  \\t1\\nIf there was ever an indication of a writer and a director\\'s ability to meld two highly volatile temperaments into a seamless union of creativity, then this is it!  \\t1\\nThe result is a powerhouse achievement, made more timely now perhaps because of our culture\\'s disturbing fascination with celebrity, and it\\'s distorted interpretations of fame.  \\t1\\nA film not easily forgotten.  \\t1\\nBut, Kevin Spacey is an excellent, verbal tsunami as Buddy Ackerman \\x96 and totally believable because he is a great actor.  \\t1\\nThe scripting of the subtle comedy is unmatched by any movie in recent years.  \\t1\\nThe characters are interesting, even if a bit predictable.  \\t1\\nHighly recommended for all ages, although the younger set will probably not appreciate some of the more subtle references, they will certainly appreciate one galley scene in particular!  \\t1\\nGreat movie!  \\t1\\nAlso the story and acting were weak.  \\t0\\nAt around 4 pm I bought it, at around 8pm I started to watch, at around 8.15pm I fast forwarded the remaining film to see if there was anything left watchable for a human being with a brain... but there wasn\\'t.  \\t0\\nEither way, it sucks.  \\t0\\nThe script is horrendously stupid.  \\t0\\nThe story starts too fast with absolutely no suspense or build-up in the slightest.  \\t0\\nEverything Captain Howdy says is either laughable or just plain stupid.  \\t0\\nWhat the hell kind of crap is that?!  \\t0\\nThen, there\\'s the plot holes.  \\t0\\nYou could drive a semi truck into these holes!  \\t0\\nLinda Cardellini is the only thing good in this film.  \\t1\\nShe\\'s poised and amazing.  \\t1\\nDee Snider just plain sucks.  \\t0\\nHe can\\'t act (one of the least scary villains I have ever seen), he can\\'t write (did he write this damn movie in his sleep?  \\t0\\nI was bored throughout the whole damn thing.  \\t0\\nThe acting sucks, the music sucks, the script sucks, the pacing sucks, the special FX suck, the directing sucks... basically, this movie sucks.  \\t0\\nThis film tries to be a serious and sophisticated thriller/horror flick and it fails miserably.  \\t0\\nThis is probably one of the least effective and utterly unoriginal films I have ever seen in my entire life.  \\t0\\nA piece of cinematic garbage captured on celluloid.  \\t0\\nAvoid at any and all costs.  \\t0\\nAt any rate this film stinks, its not funny, and Fulci should have stayed with giallo and supernatural zombie movies.  \\t0\\nAvoid this film at all costs.  \\t0\\nI don\\'t know what happened in Season Five, what a mess.  \\t0\\nThe only consistent thread holding the series together were the amazing performances of Leni Parker and Anita LaSelva as the two Taelons in quiet idealogical conflict.  \\t0\\nNow this is a movie I really dislike.  \\t0\\nIt\\'s one of the most boring Horror movies from the 90\\'s mainly because it starts slow and centers in a boring atmosphere.  \\t0\\nThe puppets look really cheesy , not in a good way like in the Puppet Master 80\\'s flicks.  \\t0\\nThe story is lame, not interesting and NEVER really explains the sinister origins of the puppets.  \\t0\\nThere aren\\'t death scenes like in previous movies and the f/x are terrible.  \\t0\\nI felt asleep the first time I watched it, so I can recommend it for insomniacs.  \\t0\\nThe fact is, this film is a wonderful, heartwarming tale about two people chasing their dreams.  \\t1\\nThe best part about Nurse Betty\" is it\\'s unpredictability.  ',\n",
              "       \"I loved this movie it was a great portrayal of a family who had it's share of ups and down, but in the end they knew that special love they had for each other.  \",\n",
              "       'So I am here to warn you--DO NOT RENT THIS MOVIE, it is the dumbest thing you have never seen!  ',\n",
              "       'None of them are engaging or exciting.  ',\n",
              "       'This scene is very strong and unpleasant.  ',\n",
              "       ';) Recommend with confidence!  ',\n",
              "       'The film lacks any real scares or tension & some of the medical terminology used throughout is a bit iffy to say the least & I say that as an insulin dependant diabetic myself.  ',\n",
              "       'This was a poor remake of \"My Best Friends Wedding\".  ',\n",
              "       'This is one of the worst Sandra Bullock movie since Speed 2 But not quite that bad.  ',\n",
              "       \"I was left shattered from the experience of watching this 'film' and I took a good two hours to fully recover.  \",\n",
              "       'To be honest with you, this is unbelievable nonsense and very foolish.  ',\n",
              "       'Even worse than Ticker!  ',\n",
              "       'I saw this movie and I thought this is a stupid movie.  ',\n",
              "       'i wouldnt see this movie again for free.  ',\n",
              "       'It was clear that she had the range and ability to pull off this part.  ',\n",
              "       'I loved it, it was really scary.  ',\n",
              "       \"If this premise sound stupid, that's because it is.  \",\n",
              "       \"It's a campy sort of film that's a joy to watch.  \",\n",
              "       \"I understand that it's supposed to be a cheap popcorn comedy, but that doesn't mean that it has to completely insult our intelligence, and have writing so incredibly hackneyed that it borders on offensive.  \",\n",
              "       'And the accents are absolutely abysmal!  ',\n",
              "       ':) Anyway, the plot flowed smoothly and the male-bonding scenes were a hoot.  ',\n",
              "       'I would have casted her in that role after ready the script.  ',\n",
              "       '10 out of 10 stars.  ',\n",
              "       'Perabo has a nice energy level and is obviously very comfortable in front of a camera.  ',\n",
              "       'This is truly an art movie--it actually has a lot of art in it.  ',\n",
              "       'It came free with a DVD player I bought but I still turned the thing off halfway through because I was embarrassed for Howell.  ',\n",
              "       \"Tom Wilkinson's character is a man who is not prepared for the ordeal that is about to begin, but he takes the matter in hand as the story progresses, and this great actor gives a performance that makes you feel the character's anguish and suffering.  \",\n",
              "       'A bit predictable.  ', 'I never walked out of a movie faster.  ',\n",
              "       'This movie suffered because of the writing, it needed more suspense.  ',\n",
              "       'A very charming film with wonderful sentiment and heart.  ',\n",
              "       'Plus, it was well-paced and suited its relatively short run time.  ',\n",
              "       \"This gets a 1 out of 10, simply because there's nothing lower.  \",\n",
              "       'Not a pleasant voyage of self-discovery.  ',\n",
              "       'Despite the pans of reviewers, I liked this movie.  ',\n",
              "       'Worst hour and a half of my life!Oh my gosh!  ',\n",
              "       'Definitely worth checking out.  ',\n",
              "       'Not too screamy not to masculine but just right.  ',\n",
              "       'You\\'ll love it!  \\t1\\nThis movie is BAD.  \\t0\\nSo bad.  \\t0\\nThe film is way too long.  \\t0\\nThis is definitely one of the bad ones.  \\t0\\nThe movie I received was a great quality film for it\\'s age.  \\t1\\nJohn Wayne did an incredible job for being so young in the movie industry.  \\t1\\nHis on screen presence shined thought even though there were other senior actors on the screen with him.  \\t1\\nI think that it is a must see older John Wayne film.  \\t1\\nI really don\\'t see how anyone could enjoy this movie.  \\t0\\nI don\\'t think I\\'ve ever seen a movie half as boring as this self-indulgent piece of junk.  \\t0\\nIt probably would have been better if the director hadn\\'t spent most of the movie showcasing his own art work, which really isn\\'t that noteworthy.  \\t0\\nAnother thing I didn\\'t really like is when a character got punched in the face, a gallon of blood would spew forth soon after.  \\t0\\nJamie Foxx absolutely IS Ray Charles.  \\t1\\nHis performance is simply genius.  \\t1\\nHe owns the film, just as Spacek owned Coal Miner\\'s Daughter\" and Quaid owned \"Great Balls of Fire.  ',\n",
              "       \"At a time when it seems that film animation has been dominated by Disney/Pixar's CGI masterpieces, it is both refreshing and comforting to know that Miyazaki is still relying on traditional hand-drawn animation to tell his charming and enchanting stories.  \",\n",
              "       'there is no real plot.  ',\n",
              "       \"The soundtrack wasn't terrible, either.  \",\n",
              "       'You will leave the theater wanting to go out and dance under the stars.  ',\n",
              "       \"Stanwyck and Morgan are perfectly cast in what is, in many ways, a modern equivalent of Dickens' Christmas Carol in its sensibility.  \",\n",
              "       'It is a true classic.  ', 'This movie is so awesome!  ',\n",
              "       'The casting is also horrible, cause all you see is a really really BAD Actors, period.  ',\n",
              "       'The visual effects were AWFUL.  ',\n",
              "       'The story unfolds in 18th century Jutland and the use of period music played on period instruments is just one more fine touch.  ',\n",
              "       \"It's a mediocre, miserable, hollow, laughable and predictable piece of garbage.  \",\n",
              "       'The script is a big flawed mess.  ',\n",
              "       'I totally and absolutely recommend this movie to anyone who likes good wholesome family movies because that is exactly what this is.  ',\n",
              "       'I just saw this film and I recommend it.  ',\n",
              "       'I thought it was bad.  ',\n",
              "       \"I am not a filmmaker nor am I a director but I would hide my head in the sand if I'd spent whatever amount of money and time on this movie.  \",\n",
              "       'Go watch it!  ',\n",
              "       \"The characters are interesting and you want to find out more about them the longer the movie goes on, and I think people will be surprised by who does and doesn't make it.  \",\n",
              "       'What this film lacks is a convincing script.  ',\n",
              "       'The dialogue is composed of things that make little sense.  ',\n",
              "       'This movie is possibly one of the most creative works of horror ever.  ',\n",
              "       \"You share General Loewenhielm's exquisite joy in his partaking of the Cailles en Sarcophage even though you are just watching a movie - but you do wish for just a small sample to savor.  \",\n",
              "       'Personally, I think it shows that people should learn to find a compromise them self without involving other people into issue.  ',\n",
              "       'The use of slow-motion needlessly repeats itself throughout the movie but is well backed up by bad acting (and bad is a kind word here), no continuity, scenes that are thrown in for no reason whatsoever, vehicles that looked like they were made from a Corn Flakes box and a directorial style that bordered on stupidity.  ',\n",
              "       'I left the theater with a lilt in my step, joy in my heart and hope for the human race.  ',\n",
              "       'Star Trek V The final Frontier is the worst in the series.  ',\n",
              "       'Now we were chosen to be tortured with this disgusting piece of blatant American propaganda.  ',\n",
              "       'This movie is a good and humorous comment on life in 2006.  ',\n",
              "       \"Watching washing machine twirling around wouldn't hurt your eyes as much as this show.  \",\n",
              "       'This movie is well-balanced with comedy and drama and I thoroughly enjoyed myself.  ',\n",
              "       'Well... Just if you keep thinking how bad it is.  ',\n",
              "       \"Funny, clever, hip - just like Pray's previous film, Hype!  \",\n",
              "       'God, and I can never get that 90 minutes back!  ',\n",
              "       'The football scenes at the end were perplexing.  ',\n",
              "       'This mostly routine fact-based TV drama gets a boost from the fine performance by Cole.  ',\n",
              "       'His losing his marbles so early in the proceedings is totally implausible and unconvincing.  ',\n",
              "       'Almost everyone involved must be return to school, acting is utterly predictable and bad, script is pile of garbage all round.  ',\n",
              "       'This movie has a cutting edge to it.  ',\n",
              "       'Cinematography noteworthy including fine views of Barcelona and its famed Gaudi towers.  ',\n",
              "       'Elias Koteas,Jack Palance play good roles Angelina is hot and gets naked.Billy Drago appears in this and is cool as usual + a cameo by Sven ole Thorsen helps make this a very enjoyable movie with good acting and a decent budget.  ',\n",
              "       'I had always known that Errol Flynn was a brilliant actor as he was my dads favourite actor, and I grew up watching his films as a child.  ',\n",
              "       'Hackneyed writing, certainly, but made even worse by the bad directing.  ',\n",
              "       'Cinematography: The film was shot in an interesting way.  ',\n",
              "       'It is not good.  ',\n",
              "       \"I didn't realize how wonderful the short really is until the last two scenes.  \",\n",
              "       'This is a stunning movie.  ',\n",
              "       'Later I found myself lost in the power of the film.  ',\n",
              "       'I gave it a 10  ',\n",
              "       'However, here there was no decent acting, action or location work to balance things up.  ',\n",
              "       'With the originality and freshness of the first movie now spent, this remake had little else to offer.  ',\n",
              "       'This is probably the most irritating show I have ever seen in my entire life.  ',\n",
              "       \"Don't miss it.  \",\n",
              "       'The characters were all funny and had the peculiarity of not having a true lead character.  ',\n",
              "       'Everything is appalling.  ',\n",
              "       \"The acting, as you'd expect from this cast, is top notch.  \",\n",
              "       'The original Body and Soul (1947) is a masterpiece.  ',\n",
              "       'Then scene where they debated whether or not to sack the trumpeter (who falsely was accused for the murder) is pure horror, really stupid.  ',\n",
              "       'Nine out of ten for a truly lovely film.  ',\n",
              "       'This is an excellent film.  ',\n",
              "       \"End of Days is one of the worst big-budget action movies I've ever seen.  \",\n",
              "       'Whatever prompted such a documentary is beyond me!  ',\n",
              "       'The opening sequence of this gem is a classic, and the cat n mouse games that follow are a delight to watch.  ',\n",
              "       'It features an outlandish array of memorable, psychotic but lovable nuts.  ',\n",
              "       'I love the Scream movies and all horror movies and this one ranks way up there.  ',\n",
              "       'The point is the journey, a journey that touches every member of the family.  ',\n",
              "       'Editing: The editing of this film was phenomenal in my opinion.  ',\n",
              "       'It just blew.  ',\n",
              "       \"He surely doesn't know how to make a coherent action movie from the screenwriter of Air Force One who was only obliged to write the script just for a big sum of money.  \",\n",
              "       'One of the worst shows of all time.  ',\n",
              "       'I have seen many movies starring Jaclyn Smith, but my god this was one of her best, though it came out 12 years ago.  ',\n",
              "       'The movie is full of wonderful dancing (hence the title!  ',\n",
              "       'The awful dialogue and hopeless overacting by everyone who gets shot top off a real waste of space and time.  ',\n",
              "       'But she is still a bad actress, repeating her robotic face moves in each of her pictures.  ',\n",
              "       'All the characters in this film are tremendously well played.  ',\n",
              "       \"Jimmy Stewart is as ever a great hero for Hitchcock, the story rips along to its cool climax at an embassy function, but it lacks the brooding menace of Hitchcock's black and white, low-budget original.  \",\n",
              "       \"It's a long time since I was so entertained by a movie.  \",\n",
              "       \"I can't see how this movie can be an inspiration to anyone to come out or overcome fear and rejection.  \",\n",
              "       'Also great directing and photography.  ',\n",
              "       'If you love death and decay, and Shakespears lyrics... this is the one.  ',\n",
              "       'It is an hour and half waste of time, following a bunch of very pretty high schoolers whine and cry about life.  ',\n",
              "       'The transfers are very good.  ',\n",
              "       \"There was NO chemistry between Ben Affleck and Sandra Bullock in this film, and I couldn't understand why he would consider even leaving his wife-to-be for this chick that he supposedly was knocked out by.  \",\n",
              "       'It was so BORING!  ',\n",
              "       'The acting from all involved and that includes those like Shatner and Nimoy is bad and washed out and making them seem as old as they look in real life, the special effects are tacky like when Spock has to rescue Kirk on a jet pack when he falls down from a mountain.  ',\n",
              "       \"It's an empty, hollow shell of a movie.  \",\n",
              "       'The movie had you on the edge of your seat and made you somewhat afraid to go to your car at the end of the night.  ',\n",
              "       'Damian is so talented and versatile in so many ways of writing and portraying different Characters on screen.  ',\n",
              "       'The characters are fleshed out surprisingly well, particularly Grimes and Blake, and all the actors deliver their sharply scripted lines with just the right amount of deadpan tongue in cheek to make the dialogue both hilarious and realistic.  ',\n",
              "       'Very nice and relaxing late night viewing.  ',\n",
              "       'Nothing short of magnificent photography/cinematography in this film.  ',\n",
              "       'But the acting--even that of such professionals as Drago and Debbie Rochon--was terrible, the directing worse (perhaps contributory to the former), the dialog chimp-like, and the camera work, barely tolerable.  ',\n",
              "       \"It's also great to see that renowned silent screenwriter Frances Marion hasn't missed a step going from silent to sound.  \",\n",
              "       'Which is precisely why I am giving it such a bad review!  ',\n",
              "       'I had to walk out of the theatre for a few minutes just to get some relief!  ',\n",
              "       \"putting the race card aside, lets look at the major flaw in the film: they destroy latifa's character.  \",\n",
              "       'Kris Kristoffersen is good in this movie and really makes a difference.  ',\n",
              "       'Give this one a look.  ',\n",
              "       'This review is long overdue, since I consider A Tale of Two Sisters to be the single greatest film ever made.  ',\n",
              "       \"Okay, I like to consider myself a fair critic, so I'll give credit where credit's due--the creature effects were actually pretty cool.  \",\n",
              "       \"It is rare when a film-maker takes the time to tell a worthy moral tale with care and love that doesn't fall into the trap of being overly syrupy or over indulgent.  \",\n",
              "       'Highly unrecommended.  ',\n",
              "       'Both films are terrible, but to the credit of the 1986 version, it was watchable.  ',\n",
              "       'This is a very \"right on case\" movie that delivers everything almost right in your face.  ',\n",
              "       \"You won't forget this movie!  \",\n",
              "       'Aailiyah was pretty good as Akasha, in places compelling (her first entrance and mini dance scene).  ',\n",
              "       'I was deeply impressed with the character he played.  ',\n",
              "       'The story line is just awful!  ',\n",
              "       'I agree with Jessica, this movie is pretty bad.  ',\n",
              "       'I let my girlfriend talk me into seeing this - bad idea, we both hated it.  ',\n",
              "       'I think it was Robert Ryans best film, because he portrayed someone like my father, and he was a schizophrenic in real life,(my father) although he never murdered anyone but was affected more so during the second world war which made him worse.  ',\n",
              "       'The sets (especially designed to work with the camera) are amazing....stylized, beautiful and effective.  ',\n",
              "       'Everything about this movie is stupid.  ',\n",
              "       'Everything about it is just bad.  ',\n",
              "       'The stories were powerful explorations of the nature of man and of art.  ',\n",
              "       \"It's the one movie that never ceases to interest me, simply because it keeps me alert, as I try to attempt to decipher it's meanings.  \",\n",
              "       'The movie has almost no action scenes in it and very little comedy.  ',\n",
              "       'It is a very well acted and done TV Movie.  ',\n",
              "       'The only possible way this movie could be redeemed would be as MST3K fodder.  ',\n",
              "       'And I really did find them funny.  ', 'Not recommended.  ',\n",
              "       'Enough can not be said of the remarkable animation in this film.  ',\n",
              "       'Kathy Bates is wonderful in her characters subtle desperation and escapism; a variation on her character in \"At Play In The Fields Of The Lord\".  ',\n",
              "       'Helen Baxendale is a very credible lady Macbeth who can be very cheerfull at times and sometimes she just looks like a naughty girl, but deadly in her taste for blood and evil.  ',\n",
              "       'Artless camera-work endlessly presents us with the ugliest setting imaginable, i.e.  ',\n",
              "       'Trumbull on I LOVE LUCY).  ',\n",
              "       'Punishment Park is a brilliant piece of cinema.  ',\n",
              "       \"It's pretty surprising that this wonderful film was made in 1949, as Hollywood generally had its collective heads in the sand concerning black and white issues at that time.  \",\n",
              "       \"The best example of how dumb the writing is when it's established that you can turn the zombie-students back into humans by removing a necklace containing a piece of the meteorite.  \",\n",
              "       \"The acting is like watching wooden puppets moving around and reading from a book, that's how bad it is.  \",\n",
              "       'Things happen, characters personalities change, plot twists occur for no real reason other than that script calls for it.  ',\n",
              "       'The acting is terrible, and the writing is worse.  ',\n",
              "       \"Lewis Black's considerable talent is wasted here too, as he is at his most incendiary when he is unrestrained, which the PG-13 rating certainly won't allow.  \",\n",
              "       'This movie is a pure disaster, the story is stupid and the editing is the worst I have seen, it confuses you incredibly.  ',\n",
              "       'The interplay between Martin and Emilio contains the same wonderful chemistry we saw in Wall Street with Martin and Charlie.  ',\n",
              "       '), and sometimes it was so embarrassing that I had to look away.  ',\n",
              "       'The plot, such as it is, is so derivative and predictable that the ending is like a mercy killing.  ',\n",
              "       \"He's a national treasure.  \",\n",
              "       \"It felt like a very gripping, intelligent stage play (but without the overly theatrical feeling one actually gets from watching people on a stage) which plays on everyone's terror of a white lie escalating to monstrous consequences.  \",\n",
              "       \"This is one of the best Italian thrillers of the early 70's.  \",\n",
              "       \"It's a gloriously fun, fast paced and fairly accurate portrayal of the night of a raver.  \",\n",
              "       'But it picked up speed and got right to the point.  ',\n",
              "       \"Unfortunately, any virtue in this film's production work was lost on a regrettable script.  \",\n",
              "       'One of the most boring,pointless movies I have ever seen.  ',\n",
              "       'I guess I liked the details of his dysfunction--he was believable.  ',\n",
              "       'To sum the film up, \"Breeders\" is a terrible, cheaply made horror movie that should be avoided like the Ebola virus.  ',\n",
              "       \"The attempts at humor were pitiful and story is so awful it dosen't bear thinking about which basically involves a Vulcan stealing the Enterprise to find god (seriously) I just didn't care about any of this film and oh not to mention Uhura does a belly dance to distract male guards.  \",\n",
              "       'By the time the film ended, I not only disliked it, I despised it.  ',\n",
              "       'Some applause should be given to the \"prelude\" however.  ',\n",
              "       \"This movie is so mind-bendingly awful, it couldn't have even been created.  \",\n",
              "       'The cast is always entertaining as usual.  ',\n",
              "       'This movie is a solid example of a bad plot and a very, very bad idea all the way.  ',\n",
              "       'No plot whatsoever!  ',\n",
              "       'Though The Wind and the Lion is told largely through the eyes of the son, every member of the family can identify with one of the characters, whether it be Sean Connery\\'s noble brigand, Candace Bergen\\'s feisty heroine, John Huston\\'s wily John Hay or Steve Kanaly\\'s spiffy, radiant, ruthless can-do lieutenant, Roosevelt\\'s \"Big Stick\".  ',\n",
              "       'The music in the film is really nice too.  ',\n",
              "       'Final Word: This Show is a real torture!!  ',\n",
              "       'Highly recommended A+  ',\n",
              "       'I could not understand, what kind of idiot would produce this mess in the first place not to mention several season.  ',\n",
              "       'All of the main players are mesmerising.  ',\n",
              "       'the movie is littered with overt racial slurs towards the black cast members and in return the whites are depicted as morons and boobs.  ',\n",
              "       'Easily, none other cartoon made me laugh in a tender way (before getting into dark sitcoms oriented for teenagers).  ',\n",
              "       'Overall, the film is interesting and thought-provoking.  ',\n",
              "       'I would give this television series a 10 plus if i could.  ',\n",
              "       'I liked this movie way too much.  ', 'Brilliance indeed.  ',\n",
              "       'Saw the movie today and thought it was a good effort, good messages for kids.  ',\n",
              "       \"Definitely worth seeing\\x85 it's the sort of thought provoking film that forces you to question your own threshold of loneliness.  \",\n",
              "       \"Here, in The Wind and the Lion, we see a wonderful rendering of America's own Imperial age.  \",\n",
              "       'Just whatever you do, avoid \"Groove\" as its the antithesis of all that is good about Human Traffic.  ',\n",
              "       'Never heard of any of them except Cole who was totally unbelievable in the part.  ',\n",
              "       'The acting was decidely wooden, though no worse than a period Universal B movie.  ',\n",
              "       'I highly recommend this movie for anyone interested in art, poetry, theater, politics, or Japanese history.  ',\n",
              "       'From here on the Widmark character turns unintentionally comical!  ',\n",
              "       \"I do not know if this was Emilio Estevez's directorial debut, but the pacing, the interplay and development of the characters as well as some clever camera work surrounding the character Estevez plays all suggest a natural eye.  \",\n",
              "       \"The sets are so bad, they wouldn't look out of place on a Thunderbirds episode.  \",\n",
              "       \"Don't be afraid of subtitles........ its worth a little aversion therapy 10/10  \",\n",
              "       'I have to say that this film was excellently produced and tops the ratings as a typical sci fi film!  ',\n",
              "       'The show would begin with smart ass ed comments to each other that would be totally off the wall and uncalled for.  ',\n",
              "       'The memories are murky but I can only say that I enjoyed every single episode and product related to the show.  ',\n",
              "       'Highly entertaining at all angles.  ',\n",
              "       'This movie does an excellent job of revealing the complexity of the task and the incredible challenges facing South Africa.  ',\n",
              "       'Vivian Schilling did an excellent job with the script.  ',\n",
              "       \"And I forgot: The Casting here i superb, with Trond Fausa Aurvåg being perfect in the role as the Bothersome Man, who doesn't understand where he is, what he is doing and why.  \",\n",
              "       \"NOBODY identifies with these characters because they're all cardboard cutouts and stereotypes (or predictably reverse-stereotypes).  \",\n",
              "       \"It's as continuously beautiful to look at as a Bertolucci, but the relationships here are more convincing and the narrative more engaging than some of that master's work.  \",\n",
              "       'Her role was played well.  ',\n",
              "       '1/10 - and only because there is no setting for 0/10.  ',\n",
              "       'GO AND SEE IT!  ',\n",
              "       'This totally UNfunny movie is so over the top and pathetic and unrealistic that throughout the whole 90 minutes of utter torture I probably looked at my watch about 70000 times!  ',\n",
              "       \"If you do watch it, however, there are small consolations: The actresses playing Anne's sisters each do a wonderful job with their roles.  \",\n",
              "       'Avoid at all costs.  ', 'I liked it.  ',\n",
              "       'It really created a unique feeling though.  ',\n",
              "       'Not even good for camp value!  ',\n",
              "       'The characters are interesting and you really care for them.  ',\n",
              "       'Then I watched it again two Sundays ago (March 20th, 2005) and I began to really enjoy it and this time I taped the entire thing.  ',\n",
              "       'It handles some tough issues with dignity and grace, and, of course, has (shocking spoiler here!  ',\n",
              "       \"I don't think there are any redeeming qualities in this remake.  \",\n",
              "       'I rate this movie 9/10.  ',\n",
              "       'The \"explosion\" of the Gas tanks at the end was just as awful.  ',\n",
              "       'the cast was great.  ',\n",
              "       'But \"Tiny Toons\" kept the 90\\'s vibe and delivered one of the most popular, funny, and underrated cartoons ever created.  ',\n",
              "       'This is such a fun and funny movie.  ',\n",
              "       'first of all, there are enough racial stereotypes and racial jokes to offend everyone.  ',\n",
              "       'Raw and sublimely moving.  ',\n",
              "       'Not frightening in the least, and barely comprehensible.  ',\n",
              "       'Paolo Sorrentino has written a wonderful story about loneliness and Tony has built one of the most unforgettable characters seen in movies in recent years.  ',\n",
              "       'His acting alongside Olivia De Havilland was brilliant and the ending was fantastic!  ',\n",
              "       'It was very popular when I was in the cinema, a good house and very good reactions and plenty of laughs.  ',\n",
              "       'If you are looking for a movie with a terrific cast, some good music(including a Shirley Jones rendition of \"The Way You Look Tonight\"), and an uplifting ending, give this one a try.  ',\n",
              "       ' In fact, it\\'s hard to remember that the part of Ray Charles is being acted, and not played by the man himself.  \\t1\\nRay Charles is legendary.  \\t1\\nRay Charles\\' life provided excellent biographical material for the film, which goes well beyond being just another movie about a musician.  \\t1\\nHitchcock is a great director.  \\t1\\nIronically I mostly find his films a total waste of time to watch.  \\t0\\nSecondly, Hitchcock pretty much perfected the thriller and chase movie.  \\t1\\nIt\\'s this pandering to the audience that sabotages most of his films.  \\t0\\nHence the whole story lacks a certain energy.  \\t0\\nThe plot simply rumbles on like a machine, desperately depending on the addition of new scenes.  \\t0\\nThere are the usual Hitchcock logic flaws.  \\t0\\nMishima is extremely uninteresting.  \\t0\\nThis is a chilly, unremarkable movie about an author living/working in a chilly abstruse culture.  \\t0\\nThe flat reenactments don\\'t hold your attention because they are emotionally adrift and stagy.  \\t0\\nAnd the rest of it just sits there being awful... with soldiers singing songs about the masculinity they pledge themselves to, hairsplitting about purity, the admiration of swords, etc.  \\t0\\nHe can bore you to pieces, and kill the momentum of a movie, quicker than anyone else.  \\t0\\nSchrader has made a resume full of lousy, amateurish films.  \\t0\\nWhen I first watched this movie, in the 80s, I loved it.  \\t1\\nI was totally fascinated by the music, the dancing... everything.  \\t1\\nHowever, I recently watched the whole thing again on DVD, and I was completely struck by how extremely stupid the storyline was - how it contained holes, inconsistencies and - frankly - a whole lot of crap - and how horrid the dancing was.  \\t0\\nI mean, in a realistic world, she would NEVER have gotten into that ballet repertory... The whole thing was quite pathetic.  \\t0\\nThe character developments also lacked in depth.  \\t0\\nWoa, talk about awful.  \\t0\\nDo not waste your time.  \\t0\\nIt was just too horrible.  \\t0\\nThe worst, sappiest dialogue... I could go on and on.  \\t0\\nBut what really made it unwatchable was the direction.  \\t0\\nThe poor actors.  \\t0\\nYou can\\'t even tell if they have any talent because they not only have pathetic lines to speak but the director gave them no action.  \\t0\\nIf you check the director\\'s filmography on this site you will see why this film didn\\'t have a chance.  \\t0\\nThis would not even be good as a made for TV flick.  \\t0\\nIf good intentions made a film great, then this film might be one of the greatest films ever made.  \\t1\\nThe film has great actors, a master director, a significant theme--at least a would-be significant theme, undertone of fifties existential world-weariness, aerial scenes that ought to have thrilled both senses and imagination, and characters about which one might deeply care.  \\t1\\nRegrettably, the film fails.  \\t0\\nThe movie lacks visual interest, drama, expression of feeling, and celebration of the very patriotism that underlines the narrative.  \\t0\\nNo actress has been worse used that June Allison in this movie.  \\t0\\nYet, I enjoy watching it.  \\t1\\nUnfortunately, this is a bad movie that is just plain bad.  \\t0\\nBad script, bad direction and horrible acting make this one plain bad!  \\t0\\nThe dialogue sucked.  \\t0\\nThe cinematography-if it can be called that-sucked.  \\t0\\nThe soundtrack sucked.  \\t0\\nThe acting sucked.  \\t0\\nThe concert sequences just sucked.  \\t0\\nThat was nice.  \\t1\\nThat was funny.  \\t1\\nIt was so funny.  \\t1\\nOverall, this movie was cheap trash.  \\t0\\nBut this movie is not funny, considering the ridiculousness of it.  \\t0\\nI came out of it feeling angry.  \\t0\\n***SPOILERS*** Whatever else can (or can\\'t) be said about it, SURFACE is superbly crafted.  \\t1\\nThe cinematography is simply stunning (to say the least) and the fx are nothing if not state-of-the-art.  \\t1\\nConceptually, the show offers a little bit of everything- and for just about everybody (parents, kids, fantasy and/or fx fans).  \\t1\\nAnd there wasn\\'t a single sour note struck acting-wise, either; some surprisingly solid casting, here.  \\t1\\nAll things considered, a job very well done.  \\t1\\nThanks good a movie like this was done and released.  \\t1\\nOne of the best mexican movies ever!, and one of the less understood, even by mexican themselves, no matter how identified the should have felt with it.  \\t1\\nIt ranks highly as a great noir-crime-drama, incredible performances by Belmondo and Lino Ventura.  \\t1\\nThe attention given to every character, and complex psychological portrayals, detailing loyalty, treachery, love, and hope, are tremendous.  \\t1\\nIt is an excellent drama, an excellent thriller, and an excellent film.  \\t1\\nUp there with the best of Melville.  \\t1\\nEverything about this film is simply incredible.  \\t1\\nYou truly take this journey through the eyes and soul of a child.  \\t1\\nBLACK WATER is a thriller that manages to completely transcend it\\'s limitations (it\\'s an indie flick) by continually subverting expectations to emerge as an intense experience.  \\t1\\nThe performances are real and gripping, the crocdodile is extremely well done, indeed if the Black Water website is to be believed that\\'s because they used real crocs and the swamp location is fabulous.  \\t1\\nI thoroughly enjoyed it when Christopher Eccleston took control of the TARDIS and the continuation of the series.  \\t1\\nI\\'m not sure what he was trying to do with this film.  \\t0\\nIf it was to turn my good day feeling into a night of disturbing memories than I guess he succeeded.  \\t0\\nThere is a lot of beautiful places.  \\t1\\nIt was forced, like everything in this movie.  \\t0\\nAgain, lame.  \\t0\\nHere\\'s where the movie really pi**ed me off.  \\t0\\nAnd don\\'t even get me started on the jerky camerawork.  \\t0\\nWhen I saw it in the theater I thought I was going to be sick.  \\t0\\nSummary: The witticisms weren\\'t witty.  \\t0\\nThe plot - well, I said I\\'d let that one go.  \\t0\\nThe acting was bad.  \\t0\\nReally bad.  \\t0\\nEven Billy Bob couldn\\'t rise above the script, which was worse.  \\t0\\nCamerawork - again, bad.  \\t0\\nRating: 1 out of 10.  \\t0\\nAn AMAZING finale to possibly the BEST trilogy of all time!  \\t1\\nKieslowski never ceases to amaze me.  \\t1\\nHe is one of my favourite directors, and one of the most talented directors in the history of cinema.  \\t1\\nHis use of the colours of the French flag in the three films was nothing short of incredible, every shot, every scene was like a work of art.  \\t1\\nThree of the most visually appealing movies i\\'ve ever seen.  \\t1\\nAnd his subtle connections between the three films are awesome.  \\t1\\nI have to mention this and it is a huge SPOILER, i loved the ending, how all the characters of the three films were the remaining survivors of the ferry disaster, with Valentine and the young judge together, and the old man watching it on her TV, solidifying his happiness over the suffering which he dealt with for those many years.  \\t1\\nI couldn\\'t think of a better way to end the film, but a smile on my face, great way to wrap up an amazing film and trilogy!  \\t1\\nI recommend this for EVERYONE who loves film, movies, anything...A Work of Art!  \\t1\\n10 out of 10 for both the movie and trilogy.  \\t1\\nI literally vomited while watching this film.  \\t0\\nI think i was one of the people who found this another one of roth\\'s pearls.  \\t1\\nhis performance, as awarded, was stunning.  \\t1\\nthe story which was told so eloquently by Francis ford Coppola 25 years earlier, really unfolds gradually and leaves room for the characters to develop.  \\t1\\nIn a most wonderful location lies a story of contrast.  \\t1\\nAll in all a beautiful directed film from Nicola\\'s roeg wih a sublime cast.  \\t1\\nI\\'m translating movies for a living and this is the first movie in my 5-year working experience that I found offensive to my intelligence.  \\t0\\nBut when someone strives for greatness and poetry, but delivers a muddled (and often ridiculous) story, a bunch of disparate scenes, pretentious dialogue... Then you get the worst kind of a movie that some other reviewer very accurately defined as pretentious crap\".  ',\n",
              "       \"That's how I'd describe this painfully dreary time-waster of a film.  \",\n",
              "       'The acting helps the writing along very well (maybe the idiot-savant sister could have been played better), and it is a real joy to watch.  ',\n",
              "       'add betty white and jean smart and you have a great cast - everyone played their parts really well.  ',\n",
              "       'The least said about the acting the better.  ',\n",
              "       'Your brain will attempt to shut-down as part of a primal impulse of self-preservation.  '],\n",
              "      dtype=object)"
            ]
          },
          "metadata": {
            "tags": []
          },
          "execution_count": 960
        }
      ]
    },
    {
      "cell_type": "markdown",
      "metadata": {
        "id": "hhnHgXgQWEbs"
      },
      "source": [
        "**b>Build a vocabulary as list. **</br>\n",
        "[‘the’ ‘I’ ‘happy’ … ] </br>\n",
        "You may omit rare words for example if the occurrence is less than five times\n",
        "A reverse index as the key value might be handy</br>\n",
        "{“the”: 0, “I”:1, “happy”:2 , … }\n"
      ]
    },
    {
      "cell_type": "code",
      "metadata": {
        "id": "B3BwFQbHO-pj"
      },
      "source": [
        "#vocabulary list\n",
        "a = {}\n",
        "vocab_list=[]\n",
        "def build_vocab_list(imdb_data):\n",
        "    a = counting_number_of_unique_words(imdb_data)\n",
        "    for i in a.keys():\n",
        "        vocab_list.append(i)\n",
        "    return vocab_list"
      ],
      "execution_count": 961,
      "outputs": []
    },
    {
      "cell_type": "code",
      "metadata": {
        "id": "oF0vJFbSPB1a"
      },
      "source": [
        "#counting unique number of words in dataset so we can compare after removing less occurring words \n",
        "words_count = {}\n",
        "def counting_number_of_unique_words(imdb_data):\n",
        "    for line in imdb_data:\n",
        "        for word in line.split():\n",
        "            if word in words_count:\n",
        "                words_count[word] = words_count[word] + 1\n",
        "            else:\n",
        "                words_count[word] = 1\n",
        "    return words_count\n"
      ],
      "execution_count": 962,
      "outputs": []
    },
    {
      "cell_type": "code",
      "metadata": {
        "colab": {
          "base_uri": "https://localhost:8080/"
        },
        "id": "P4tig_dxPIMP",
        "outputId": "e3a35ba3-577b-4912-d0a0-bd1858183e92"
      },
      "source": [
        "#before removing less occurring data \n",
        "words_count = counting_number_of_unique_words(X_train)\n",
        "print(\"Total unique words in the given dataset before removing less occurring words: \",len(words_count))\n"
      ],
      "execution_count": 963,
      "outputs": [
        {
          "output_type": "stream",
          "text": [
            "Total unique words in the given dataset before removing less occurring words:  3066\n"
          ],
          "name": "stdout"
        }
      ]
    },
    {
      "cell_type": "code",
      "metadata": {
        "colab": {
          "base_uri": "https://localhost:8080/"
        },
        "id": "LNYq5AfQPKRj",
        "outputId": "5c4628e2-e929-42c3-861c-e2198d93762c"
      },
      "source": [
        "print(words_count) #with less occurring words/\n"
      ],
      "execution_count": 964,
      "outputs": [
        {
          "output_type": "stream",
          "text": [
            "{'My': 1, 'rating:': 1, 'just': 35, '3': 1, 'out': 22, 'of': 251, '10.': 2, 'The': 130, 'movie': 91, 'in': 117, 'situations': 1, 'the': 418, 'beginning': 1, 'and': 281, 'through': 5, 'game': 1, 'that': 94, 'is': 211, 'played': 6, 'with': 53, 'her': 14, 'by': 31, '\"acting': 1, 'coach\"': 1, 'are': 49, 'fascinating.': 1, 'I': 172, 'rather': 3, 'enjoyed': 6, 'it.': 21, \"I'll\": 3, 'put': 2, 'this': 132, 'gem': 2, 'up': 9, 'against': 1, 'any': 17, 'terms': 1, 'screenplay,': 1, 'cinematography,': 1, 'acting,': 5, 'post-production,': 1, 'editing,': 1, 'directing,': 1, 'or': 20, 'other': 9, 'aspect': 1, 'film-making.': 1, \"It's\": 21, 'one': 39, 'movies': 14, 'need': 1, 'to': 149, 'see': 25, 'whenever': 1, 'it': 79, 'comes': 1, 'on': 44, 'TV...never': 1, 'mind': 1, 'fact': 3, 'already': 1, 'have': 33, 'memorized!': 1, 'Every': 3, 'element': 2, 'story': 17, 'was': 107, 'so': 29, 'over': 7, 'top,': 1, 'excessively': 1, 'phony': 1, 'contrived': 1, 'painful': 1, 'sit': 1, 'through.': 1, 'Both': 2, 'do': 10, 'good': 31, 'jobs': 1, 'quite': 4, 'amusing.': 1, \"film's\": 2, 'dialogue': 6, 'natural,': 1, 'real': 14, 'life.': 4, 'aerial': 3, 'scenes': 10, 'were': 17, 'well-done.': 1, 'It': 36, 'sort': 3, 'pap': 1, 'screened': 1, 'afternoon': 1, 'punish': 1, 'unemployed': 1, 'for': 56, 'not': 42, 'having': 3, 'jobs.': 1, \"You'd\": 1, 'IQ': 1, 'particularly': 4, 'stupid': 4, 'mollusk': 1, 'coming.': 1, 'They': 1, 'could': 13, 'be': 34, 'used': 4, 'as': 58, 'exemplars': 1, 'set': 2, 'designer.': 1, 'How': 2, 'awful': 3, 'she': 7, 'is!': 1, 'Considering': 1, 'relations': 1, 'off': 6, 'screen': 4, 'between': 8, 'Taylor': 1, 'Stanwyck,': 1, 'surprising': 2, 'how': 19, 'little': 9, 'chemistry': 3, 'there': 18, 'two': 9, 'them.': 4, 'Still,': 1, 'SETS': 1, 'got': 6, 'a': 270, 'big': 5, '\"10\"': 1, 'my': 25, '\"oy-vey\"': 1, 'scale.': 2, 'Rating:': 2, '0/10': 1, '(Grade:': 1, 'Z)': 1, 'Note:': 1, 'Show': 2, 'Is': 2, 'So': 5, 'Bad': 2, 'That': 3, 'Even': 6, 'Mother': 1, 'Of': 4, 'Cast': 1, 'Pull': 1, 'Her': 2, 'Daughter': 1, 'Out': 1, 'Show.': 1, 'mean': 3, 'terrible': 2, 'way.': 5, 'failed': 1, 'convey': 1, 'broad': 1, 'sweep': 1, 'landscapes': 1, 'great': 22, 'part': 5, 'original.': 2, 'If': 12, 'you': 34, \"haven't\": 3, 'choked': 1, 'your': 12, 'own': 4, 'vomit': 1, 'end': 6, '(by': 1, 'all': 25, 'cheap': 4, 'drama': 4, 'worthless': 1, 'dialogue)': 1, \"you've\": 1, 'must': 5, 'bored': 3, 'yourself': 1, 'death': 4, 'waste': 9, 'time.': 10, 'However,': 3, \"didn't\": 13, 'make': 14, 'overall,': 1, 'tremendously': 2, 'boring': 6, 'movie.': 18, 'Utterly': 1, 'without': 3, 'merit': 1, 'level,': 1, 'akin': 1, 'torture.': 1, 'Bela': 1, 'Lugosi': 1, 'totally': 8, 'extraneous,': 1, 'intoning': 1, 'odd': 1, 'lines.': 1, 'course,': 2, 'acting': 22, 'blah.': 1, 'kids': 2, 'annoying.': 2, 'In': 8, 'short': 5, '-': 14, 'monumental': 1, 'time': 16, 'energy': 2, 'would': 18, 'recommend': 8, 'anyone': 11, 'EVER': 1, 'film.': 16, \"couldn't\": 5, 'take': 2, 'them': 8, 'seriously.': 1, 'This': 46, 'Peter': 2, 'Watkins': 1, 'most': 17, 'accessible': 1, 'films.': 5, \"won't\": 5, 'say': 7, 'more': 17, \"don't\": 12, 'like': 32, 'spoilers,': 1, 'want': 2, 'one,': 1, 'but': 35, 'believe': 6, 'film': 63, 'worth': 7, 'often': 2, 'funny': 4, 'occasionally': 3, 'touching': 2, 'characters': 21, 'evaluate': 1, 'their': 6, 'lives': 1, 'where': 5, 'they': 19, 'going.': 1, 'Director': 2, 'Paul': 1, 'Matthews,': 1, 'who': 20, 'also': 8, 'wrote/directed': 1, 'weak': 2, '1995': 1, 'monster': 1, '\"Grim\",': 1, 'clearly': 1, \"doesn't\": 10, 'know': 6, 'pace': 1, 'his': 18, 'Lifetime': 1, 'does': 4, 'air': 1, 'enough,': 1, 'if': 15, 'knows': 1, 'what': 13, 'store': 1, 'sells': 1, 'let': 3, 'me': 11, 'because': 19, 'must-have.': 1, 'plot': 13, 'hang': 1, 'together': 2, 'at': 28, 'all,': 2, 'absolutely': 6, 'appalling.': 2, 'adorable': 1, 'seeing': 4, 'Mickey': 1, 'playing': 4, '\"Turkey': 1, 'Straw\"': 1, 'highly': 6, 'imaginative': 1, '(if': 1, 'cruel)': 1, 'will': 13, 'drive': 2, 'barking': 1, 'mad!': 1, 'Wasted': 1, 'hours.': 1, 'success': 1, 'depends': 1, 'casting': 3, 'Sydney': 1, 'Greenstreet': 1, 'Alexander': 1, 'Yardley': 1, 'character.': 3, 'THERE': 1, 'IS': 2, 'NO': 2, 'PLOT': 1, 'OR': 1, 'STORYLINE!!': 1, 'possible': 2, 'get': 7, 'worse': 7, 'than': 12, 'this?': 2, 'wonderful': 12, 'inspiring': 1, 'watch,': 2, 'hope': 3, 'gets': 6, 'released': 2, 'again': 4, 'video': 1, 'DVD.': 1, 'A': 10, 'very': 33, 'indeed,': 1, 'about': 32, 'unconditional': 1, 'love.': 1, 'VERY': 1, 'funny!': 1, 'secondary': 1, 'line': 4, 'incomprehensible': 1, 'its': 13, 'relation': 1, 'primary': 1, 'mystifying.': 1, 'new': 2, \"weren't\": 2, 'memorable,': 2, 'found': 4, 'myself': 3, 'forgetting': 1, 'who.': 1, 'every': 9, 'should': 9, 'think': 12, 'few': 3, 'people': 9, 'outside': 1, 'South': 2, 'Africa': 1, 'understand': 7, 'past': 1, 'being': 9, 'attempted': 1, 'Truth': 1, 'Reconciliation': 1, 'process.': 1, 'Avoid,': 1, 'avoid,': 1, 'avoid!': 1, 'shame': 1, 'actors': 6, 'Thomerson': 1, 'James': 1, 'living': 2, 'mess': 3, 'this.': 3, 'Armand': 1, 'Assante': 1, '&': 4, 'cable': 1, \"company's\": 1, 'summary': 1, 'sounded': 1, 'interesting,': 3, 'watched': 6, 'it,': 10, 'twice': 1, 'already,': 1, 'probably': 7, 'again.': 1, 'But': 15, 'premise': 2, 'ridiculous:': 1, 'President': 1, 'U.S.': 1, 'There': 7, 'brilliant': 4, 'twist': 1, 'ending.': 1, 'Songs': 1, 'Were': 2, 'Best': 2, 'And': 9, 'Muppets': 1, 'Hilarious.': 1, 'You': 9, 'wont': 1, 'regret': 1, 'it!': 5, 'certainly': 5, 'distinction': 1, 'nonsense': 2, 'interest': 2, 'slightest': 1, 'way': 11, 'uniqueness': 1, \"I'm\": 4, 'terribly': 2, 'disappointed': 1, 'receive': 1, 'many': 8, 'awards': 1, 'accolades,': 1, 'especially': 1, 'when': 15, 'far': 3, 'deserving': 2, 'works': 4, 'there.': 2, 'Definitely': 3, 'checking': 2, 'out.': 2, 'truly,': 1, 'truly': 6, 'bad': 22, 'thing': 8, 'tickets': 1, 'only': 15, 'cost': 1, 'five': 1, 'dollars': 1, 'mad': 1, \"I'd\": 5, 'paid': 1, '$7.50': 1, 'crap.': 1, 'whole': 8, 'cast': 8, 'scale': 1, 'balanced': 1, 'perfectly': 2, 'overacting': 2, 'underacting.': 1, 'felt': 5, 'though': 6, 'going': 5, 'Ireland': 1, 'did': 6, 'nothing': 5, 'whatsoever.': 1, 'leave': 2, 'shelf.': 1, 'good.': 3, 'Yes,': 1, \"it's\": 18, 'bad.': 10, 'Full': 1, 'unconvincing': 1, 'cardboard': 2, 'blandly': 1, 'written': 3, 'Edward': 1, 'Chodorov,': 1, 'produced,': 1, 'surprisingly': 3, 'directed': 2, 'Jean': 1, 'Negulesco': 1, 'from': 18, 'whom': 1, 'expect': 3, 'deal': 1, 'more.': 2, \"I've\": 3, 'ever': 17, 'gone': 1, 'disliked': 2, 'much.': 2, 'seen': 8, 'movie,': 4, 'definitely': 4, 'he': 21, 'opened': 2, 'mouth': 1, 'hear,': 1, '\"you': 1, 'kids...\"': 1, 'Pulling': 1, 'plug': 1, 'mercy': 2, 'killing': 1, 'horrible': 3, 'show.': 3, 'convention': 1, 'never': 10, 'worked': 1, 'well': 11, 'past,': 1, 'work': 8, 'here.': 2, 'cinematography': 3, 'makes': 5, 'Monica': 1, 'Bellucci': 1, 'look': 8, 'beautiful.': 2, 'same': 3, 'pretty': 10, 'much': 7, 'horror.': 1, 'Foreigner': 1, 'second': 3, 'Excellently': 1, 'produced': 2, \"Sci-fi's\": 1, 'best': 10, 'producers': 1, 'Scot': 1, 'Vandiver': 1, '!': 1, 'Regardless,': 1, 'fails': 2, 'levels.': 1, 'fish': 1, 'badly': 1, 'made': 15, 'some': 14, 'underwater': 1, 'shots': 2, 'repeated': 1, 'thousand': 1, 'times': 2, 'She': 1, 'carries': 1, 'well.': 5, 'cannot': 1, 'agreed': 1, '\"film\".': 1, 'These': 1, 'central': 2, 'themes': 2, 'handled': 1, 'ineptly,': 1, 'stereotypically': 1, 'no': 14, 'depth': 2, 'imagination.': 1, 'Lame': 1, 'describe': 2, 'really': 26, 'loved': 6, 'poler': 1, 'bear': 2, 'kinda': 2, 'cute.But': 1, 'has': 17, 'question': 2, 'Fort': 1, 'Steele,': 1, 'ask': 1, 'away:)': 1, 'screenwriter': 3, 'job': 6, 'tying': 1, 'loose': 1, 'ends.': 1, 'give': 6, '10': 9, '10!': 1, 'completely': 4, 'perfect': 2, \"'Titta\": 1, 'Di': 1, \"Girolamo'\": 1, 'stay': 1, 'long': 3, 'after': 4, 'vision': 1, 'doubt': 1, 'trash.': 2, 'rest': 4, 'play': 5, 'seemed': 1, 'slow': 2, 'first.': 1, 'fresh,': 1, 'subtle,': 1, 'sublime': 2, 'effect.': 1, 'About': 2, 'ten': 2, 'minutes': 5, 'into': 11, 'started': 4, 'thoughts.': 1, 'NOTHING': 1, 'believable': 3, 'all.': 3, 'script': 9, 'bad,': 3, '\\x96': 2, 'contains': 2, 'both': 8, 'cheesiness': 1, 'unethical': 1, 'joke': 1, 'normally': 1, 'rated': 1, 'R': 1, 'NC-17': 1, 'PS': 1, 'scene': 6, 'cool': 4, 'character': 12, 'finds': 1, 'room': 2, 'blown': 1, 'up.': 2, 'pathetic': 4, 'attempts': 2, 'depth,': 1, 'plot.': 2, 'Not': 8, 'easy': 1, 'watch.': 6, 'poignant': 1, 'times.': 1, 'condescends,': 1, 'genuine': 1, 'hearts': 1, 'problems.': 1, 'IMDB': 1, 'ratings': 2, 'go': 5, 'low': 1, '1': 84, 'awful,': 2, 'negative': 1, 'numbers': 1, 'cases': 1, 'such': 8, 'these.': 1, 'highlights': 1, 'fundamental': 1, 'flaws': 1, 'legal': 1, 'process,': 1, 'discovering': 2, 'guilt': 1, 'innocence,': 1, 'rather,': 1, 'presents': 3, 'better': 4, 'court.': 1, 'nothing,': 1, 'pretext': 1, 'show': 7, 'ridiculous': 1, 'action': 5, 'scenes.': 3, 'lines,': 1, 'cuts,': 1, 'audio,': 1, 'everything': 3, 'wrong.': 3, 'women': 1, 'finally': 1, 'up,': 2, 'sign': 1, 'improvement;': 1, 'expected': 1, 'things': 5, 'happen': 2, 'over,': 1, 'might': 3, 'asleep.': 1, 'idyllic': 1, 'yet': 2, 'serious': 3, 'portrayal': 3, 'ups': 2, 'downs': 1, 'lives.': 1, 'Overall': 1, 'rate': 3, '1-10': 1, 'Horrible!': 1, 'remember': 2, 'senses': 2, 'assaulted': 1, 'strident': 1, 'cords': 1, 'music': 5, 'blare': 1, 'warning,': 1, 'even': 16, 'less': 3, 'meaning.': 1, 'lacks': 6, 'art,': 2, 'charm,': 1, 'meaning...': 1, 'emptiness,': 1, 'guess': 3, 'empty.': 1, 'Omit': 1, 'watching': 12, 'witty': 1, 'delightful': 1, 'adaptation': 1, 'Dr': 1, 'Seuss': 1, 'book,': 2, 'brilliantly': 1, 'animated': 1, \"UPA's\": 1, 'finest': 1, 'thoroughly': 3, 'Academy': 1, 'Award.': 1, 'contained': 2, 'an': 28, 'all-star': 1, 'cast,': 3, 'eyes': 4, 'before.': 1, 'incredible': 4, 'soundtrack': 4, 'captures': 1, 'essence': 1, 'art': 5, 'style': 2, 'appearance': 1, 'crayon/pencil': 1, 'drawings': 1, 'wonderfully': 2, 'colorful': 1, 'fanciful.': 1, 'places.': 2, 'row': 1, 'entirely': 1, 'unmoving.': 1, 'directing': 5, 'seems': 2, 'too': 7, 'pretentious.': 1, 'An': 5, 'instant': 1, 'classic,': 2, 'catchy': 1, 'song': 3, 'during': 3, 'ending': 5, 'credits.': 1, 'boring.': 1, 'cult': 4, 'classic': 1, 'viewing': 1, 'sharing': 1, 'others.': 1, 'uneasy': 1, 'was,': 1, 'scared': 1, 'Also,': 1, 'treat': 1, 'Anthony': 1, 'Quinn': 1, 'Crazy': 1, 'Horse.': 1, 'hour': 5, 'half': 5, 'wish': 2, 'bring': 1, 'back.': 1, 'recommended.': 2, 'team': 1, 'behind': 1, 'movies,': 2, 'continue': 1, 'own,': 1, 'weird': 1, 'style.': 1, 'For': 2, 'first': 8, 'timers': 1, 'making,': 1, 'excellent': 8, 'job!!': 1, 'conclusion,': 1, 'bother': 2, 'volcano': 1, 'Los': 1, 'Angeles': 1, 'nonsense.': 1, 'Emily': 1, \"Watson's\": 1, 'strong,': 1, 'quick': 1, 'glance': 1, 'everything.': 2, 'lot': 5, 'mistakes.': 1, 'fact,': 2, 'stinker': 1, 'smells': 1, 'direct-to-video': 1, 'release.': 1, 'allowing': 1, 'poor': 3, 'production': 3, 'values': 1, '(1971)': 1, 'format': 1, '(some': 1, 'kind': 5, 'mini-series),': 1, 'baaaaaad.': 1, \"can't\": 6, 'relate': 1, 'them,': 1, 'hell': 2, 'barely': 4, 'can': 14, 'everyone': 5, 'else': 3, 'involved': 3, 'share': 3, \"Crowe's\": 1, 'level': 2, 'dedication': 2, 'quality,': 1, 'did,': 1, \"we'd\": 1, 'our': 3, 'hands': 2, 'sub-par': 1, 'mess.': 3, '(and': 3, 'use': 4, 'word': 2, 'loosely)': 1, 'insult': 3, 'movie-going': 1, 'public.': 1, \"Taylor's\": 1, \"Stanwyck's\": 1, 'singing.': 1, 'lighting': 1, 'awful.': 4, 'single': 5, 'hilarious': 3, 'deserved': 2, 'called': 3, 'lead.': 1, 'DELETE': 1, 'mind!': 1, 'Instead,': 1, 'we': 5, 'bore': 2, 'fest': 1, 'whiny,': 1, 'spoiled': 1, 'brat': 1, 'babysitting.': 1, 'Mark': 1, 'words,': 1, 'those': 6, 'films': 9, 'Evil': 1, 'Dead': 1, '2': 2, 'Phantasm': 1, 'still': 6, 'falling': 1, 'love': 8, '20,': 1, '30,': 1, '40': 1, 'years': 6, 'down': 2, 'line.': 1, 'riot': 1, 'Hugo': 1, 'Weaving': 1, 'sex-obsessed': 1, 'gay': 1, 'estate': 1, 'salesman': 1, 'uses': 2, \"clients'\": 1, 'houses': 1, 'trysts': 1, 'flaming': 1, 'Darren': 1, '(Tom': 1, 'Hollander).': 1, 'squibs': 1, 'dialogue,': 1, 'music,': 3, 'shot': 3, 'elaborately': 1, 'aesthetically': 1, 'sculpture.': 1, 'CG': 1, 'opening': 2, 'sequence': 2, 'space': 2, 'looked': 3, 'been': 7, 'created': 2, 'Microsoft': 1, 'Slideshow': 1, \"God's\": 1, 'sake!': 1, 'Tom': 2, 'Wilkinson': 1, 'broke': 1, 'heart': 2, 'end...': 1, \"else's\": 1, 'judging': 1, 'amount': 3, 'fumbling': 1, 'hankies': 1, 'faces': 1, 'among': 1, 'males': 1, 'females': 1, 'alike.': 1, 'scared,': 1, 'horrified,': 1, 'sympathetic': 1, 'towards': 2, 'characters;': 1, 'simply': 7, 'dislike': 1, 'director.': 2, 'understated': 1, 'leaves': 2, 'lasting': 1, 'impression.': 1, 'movie-making.': 1, 'masterful': 1, 'piece': 8, 'film-making,': 1, 'simmering': 1, 'boiling': 1, 'warts': 1, 'study': 1, \"poet's\": 1, 'bohemian,': 1, 'self-indulgent': 2, 'wartime': 1, 'span': 1, 'bombardments': 1, 'London': 1, 'outward': 1, 'tranquillity': 1, 'Welsh': 1, 'coastal': 1, 'retreat': 1, 'borderlines': 1, 'friendship,': 1, 'lust': 1, 'love,': 2, 'experience': 3, 'versus': 2, 'practical': 1, 'concerns,': 1, 'jealousy,': 1, 'rivalry,': 1, 'cowardice': 1, 'egotism': 1, 'heroism': 1, 'self-sacrifice': 1, 'so,': 1, 'SO': 1, 'perfect...': 1, \"you'll\": 1, 'shed': 1, 'tear.': 1, 'am': 5, 'thrilled': 2, 'forget': 2, 'now.': 1, 'cult...': 1, 'CLASSIC.': 1, 'Which': 2, 'man': 5, 'underneath': 1, '0': 112, 'Malta': 1, 'settings': 1, 'dry': 1, 'barren': 1, 'dialogue.': 1, 'terrible.': 2, 'hockey': 1, 'terrible,': 6, 'defensemen': 1, \"they're\": 2, '5': 1, 'old,': 1, 'goalies': 1, 'diving': 1, 'feet': 1, 'wide': 1, 'net,': 1, 'etc.': 2, 'time!': 2, 'To': 3, 'call': 1, 'ridiculous!': 1, 'Started': 1, 'characters.': 1, 'particular': 1, 'relationship': 1, 'bakery': 1, 'assistant': 2, 'waitress': 1, 'superficial': 1, 'gave': 3, 'feeling': 6, \"'stagey'\": 1, 'storyline': 3, 'stage': 2, 'farce.': 1, 'By': 2, 'pyromaniac': 1, 'waylaid': 1, 'care': 4, 'happened': 2, 'next': 1, 'switched': 1, 'off.': 2, 'Glad': 1, 'pay': 1, \"Didn't\": 1, 'laugh': 2, 'smile': 2, 'once.': 1, \"wasn't\": 4, 'anything': 2, 'yawn...': 1, 'educational': 1, 'children': 1, '8': 1, 'old.': 1, 'Barney': 1, 'super': 1, 'DE': 1, 'duper.': 1, 'funny.': 4, 'Babie': 1, 'Bop': 1, 'cute.': 1, 'too.': 3, '\"Storm': 1, 'Trooper\"': 1, 'enough': 2, 'list': 1, 'movies.': 2, 'Speaking': 1, 'unbearably': 1, 'predictably': 2, 'kitchy.': 1, 'feel-good': 1, \"that's\": 6, 'came': 4, 'cinema!': 1, 'looks': 2, 'rough': 1, 'draft': 1, 'shooting': 1, 'began': 2, 'before': 1, 'finished': 1, 'completed.': 1, 'One': 5, 'disappointing': 1, 'aspects': 1, 'lack': 1, 'notable': 2, 'gore.': 1, 'now': 3, 'joins': 1, 'Revenge': 1, 'Boogeyman': 1, 'Zombiez': 1, 'hellish': 1, 'trinity': 1, 'horror': 4, 'Feelings,': 1, \"thoughts...Gabriel's\": 1, 'discomfort': 1, 'dance...all': 1, 'these': 3, 'intangibles': 1, 'leap': 1, 'life': 4, 'come': 2, 'within': 1, \"viewer's\": 1, 'grasp': 1, \"Huston's\": 2, 'portrayal.': 1, \"There's\": 1, 'moment': 1, 'plenty': 2, 'humorous': 2, 'parts.': 1, 'trying': 2, 'was.': 2, 'Simply': 1, 'entertaining,': 1, 'nonetheless.': 1, 'When': 3, 'explain': 1, 'emotions': 1, 'subjects': 1, 'better,': 1, 'Jay': 1, \"Adams'\": 1, 'unfortunate': 1, 'subject': 1, 'talk,': 1, 'Old': 1, 'Man': 1, 'Neil': 2, 'Young': 1, 'played,': 1, 'which': 14, 'evokes': 1, 'emotions.': 1, 'Pitch': 1, 'Black': 2, 'done': 3, 'offers': 2, 'delights': 1, 'surprises.': 1, 'Italian': 2, 'reviewer': 2, '\"a': 1, 'small,': 1, 'film,\"': 1, 'right.': 2, 'John': 6, 'Garfield,': 1, 'Ann': 1, 'revere,': 1, 'Lilli': 1, 'Plmer,': 1, 'William': 1, 'Conrad,': 1, 'Canada': 1, 'Lee...and': 1, 'filmed': 1, 'greatest': 3, 'cinematographers': 1, 'grace': 1, 'screen..James': 1, 'Wong': 1, 'Howe.': 1, 'Lassie': 1, '\"put': 1, 'sleep\"....': 1, 'FOREVER.': 1, 'me.': 2, 'Nevertheless': 1, 'another': 3, \"master's\": 2, 'stable.': 1, 'Much': 1, 'action,': 1, 'suspense,': 1, 'unneeded': 1, 'controversy.': 1, 'Garbo,': 1, 'showed': 1, 'right': 4, 'bat': 1, 'talents': 1, 'carry': 1, 'silent': 4, 'era': 1, '(I': 1, 'wanted': 2, 'work,': 3, 'Netflix': 1, 'seem': 2, 'stocking': 1, 'garbage': 3, 'shelves': 1, 'store,': 1, 'movie!': 3, 'Loved': 1, 'Jimmy': 2, 'Buffet': 1, 'science': 1, 'teacher.': 1, 'convoluted': 1, 'convince': 1, 'me,': 2, 'weird,': 1, 'questioning': 1, 'glance.': 1, 'trash': 2, 'beyond': 4, 'me:': 1, 'story,': 3, 'characters,': 2, 'supposedly': 2, 'special': 5, 'effects,': 4, \"etc...it's\": 1, 'ALL': 1, 'Still': 1, 'interesting': 7, 'entertaining': 3, 'follow.': 1, 'LaBute': 1, 'brutal': 1, 'violence': 1, 'seperate': 1, 'dreams': 1, 'reality,': 1, 'along': 3, 'drama,': 3, 'comedy,': 2, 'tell': 4, 'next.': 1, 'lame.': 2, 'early': 3, 'future': 1, 'goremeister': 1, 'Lucio': 1, 'Fulci': 2, 'addition': 2, 'giallo': 3, 'sub-genre.': 1, 'wild': 1, 'stuff': 1, 'recommended': 3, 'fans': 1, 'cinema.': 3, 'Yeah,': 1, 'sucked.': 5, 'All': 5, \"one's\": 1, 'intelligence': 1, 'huge': 2, 'money.': 2, 'Special': 1, 'mention': 4, 'superb': 1, 'score': 1, 'sound': 3, 'integral': 1, 'helping': 1, 'memorable': 2, 'enjoyable': 2, 'cartoon.': 1, 'Being': 1, \"90's\": 3, 'child,': 1, 'proudly': 1, 'classical': 1, 'WB': 1, 'cartoons.': 1, 'actually': 4, 'smart': 3, 'fantastic,': 1, 'stories': 2, 'seamlessly': 1, 'woven': 1, 'together,': 2, 'dogs': 1, 'splendid.............': 1, 'rent,': 1, 'view,': 1, 'see.': 1, 'premise,': 1, 'Billy': 2, 'Drago': 3, 'always': 3, 'dangerous': 1, 'nut-bag': 1, '(side': 1, 'note:': 1, 'Drago,': 1, 'Stephen': 1, 'McHattie': 1, 'Lance': 1, 'Hendrikson': 1, 'flick': 2, 'together;': 1, 'talk': 3, 'raging': 1, 'cheekbones!).': 1, 'Oh': 1, 'yeah,': 1, 'Their': 1, 'on-screen': 1, 'chemistry,': 1, 'critical': 1, 'entire': 4, 'film,': 9, 'genuine.': 1, 'Was': 1, 'Cool.': 1, 'Also': 3, \"Bailey's\": 1, 'fine': 4, 'crisp': 1, 'beautifully': 1, 'colored': 1, 'design': 1, 'costumes': 2, 'Eiko': 1, 'Ishioka': 1, 'went': 1, \"Coppola's\": 1, 'Dracula': 1, 'received': 2, 'Oscar.': 1, 'pleased': 1, 'ability': 3, 'Dwight': 1, 'Schultz.': 1, 'may': 1, 'made.': 3, 'What': 3, 'earth': 1, 'Irons': 1, 'doing': 2, 'film?': 1, 'After': 1, 'learn': 2, 'artist.': 1, 'rocked': 1, 'world': 2, 'social': 1, 'physical': 1, 'outlets.': 1, 'expecting': 1, 'Oscar': 1, 'material,': 1, 'Beware:': 1, 'trashy': 1, '-period!': 1, 'MANNA': 1, 'FROM': 1, 'HEAVEN': 1, 'terrific': 2, 'predictable': 4, 'unpredictable': 1, 'With': 2, 'impressive': 1, 'enough.': 1, 'Call': 1, 'nut,': 1, 'ever.': 2, 'Great': 2, 'Telly': 1, 'Savalas': 1, 'Boyle.': 1, '54': 1, 'sheer': 1, 'tedium,': 1, 'melodrama': 1, 'script,': 3, 'sinking': 1, 'GOOD': 1, 'LORD,': 1, 'WHAT': 1, 'WERE': 1, 'THEY': 1, 'THINKING?': 1, 'Lots': 1, 'holes': 1, 'script.': 5, 'TV': 4, 'Now': 3, 'imagine': 1, 'decisions': 1, 'atrocious.': 1, 'abysmal.': 1, 'Everything': 6, 'stinks.': 1, 'Trouble': 1, 'is,': 5, 'writing': 6, 'impossible': 1, 'establish': 1, 'watchable,': 1, 'character,': 2, 'theme': 1, 'on.': 2, 'Worse,': 1, \"there's\": 3, 'incredibly': 2, 'sub-plot': 1, 'thrown': 2, 'follows': 1, 'band': 1, 'latter-day': 1, 'Mansonites': 1, 'reporter': 1, \"who's\": 1, 'working': 2, 'anniversary': 1, 'killings.': 1, 'dumb': 2, 'pointless,': 1, 'complete': 1, 'short,': 1, 'spoil': 2, 'amazing.': 2, 'end,': 1, 'indication': 1, 'writer': 1, \"director's\": 2, 'meld': 1, 'volatile': 1, 'temperaments': 1, 'seamless': 1, 'union': 1, 'creativity,': 1, 'then': 2, 'result': 1, 'powerhouse': 1, 'achievement,': 1, 'timely': 1, 'perhaps': 1, \"culture's\": 1, 'disturbing': 2, 'fascination': 1, 'celebrity,': 1, 'distorted': 1, 'interpretations': 1, 'fame.': 1, 'easily': 1, 'forgotten.': 1, 'But,': 1, 'Kevin': 1, 'Spacey': 1, 'excellent,': 1, 'verbal': 1, 'tsunami': 1, 'Buddy': 1, 'Ackerman': 1, 'actor.': 1, 'scripting': 1, 'subtle': 4, 'comedy': 2, 'unmatched': 1, 'recent': 2, 'years.': 3, 'bit': 4, 'predictable.': 2, 'Highly': 4, 'ages,': 1, 'although': 2, 'younger': 1, 'appreciate': 2, 'references,': 1, 'galley': 1, 'particular!': 1, 'weak.': 1, 'At': 3, 'around': 5, '4': 1, 'pm': 1, 'bought': 2, '8pm': 1, '8.15pm': 1, 'fast': 3, 'forwarded': 1, 'remaining': 2, 'left': 3, 'watchable': 1, 'human': 2, 'brain...': 1, \"wasn't.\": 1, 'Either': 1, 'way,': 1, 'sucks.': 3, 'horrendously': 1, 'stupid.': 4, 'starts': 2, 'suspense': 1, 'build-up': 1, 'slightest.': 1, 'Captain': 1, 'Howdy': 1, 'says': 1, 'either': 1, 'laughable': 2, 'plain': 4, 'crap': 2, 'that?!': 1, 'Then,': 1, 'holes.': 1, 'semi': 1, 'truck': 1, 'holes!': 1, 'Linda': 1, 'Cardellini': 1, \"She's\": 1, 'poised': 1, 'Dee': 1, 'Snider': 1, 'He': 5, 'act': 1, '(one': 1, 'least': 5, 'scary': 1, 'villains': 1, 'seen),': 1, 'write': 3, '(did': 1, 'damn': 2, 'sleep?': 1, 'throughout': 4, 'thing.': 2, 'sucks,': 4, 'pacing': 1, 'FX': 1, 'suck,': 1, 'sucks...': 1, 'basically,': 1, 'tries': 1, 'sophisticated': 1, 'thriller/horror': 1, 'miserably.': 1, 'effective': 1, 'utterly': 2, 'unoriginal': 1, 'cinematic': 1, 'captured': 1, 'celluloid.': 1, 'Avoid': 3, 'costs.': 3, 'stinks,': 1, 'funny,': 3, 'stayed': 1, 'supernatural': 1, 'zombie': 1, 'Season': 1, 'Five,': 1, 'consistent': 1, 'thread': 1, 'holding': 1, 'series': 2, 'amazing': 2, 'performances': 3, 'Leni': 1, 'Parker': 1, 'Anita': 1, 'LaSelva': 1, 'Taelons': 1, 'quiet': 1, 'idealogical': 1, 'conflict.': 1, 'dislike.': 1, 'Horror': 1, 'mainly': 1, 'centers': 1, 'atmosphere.': 1, 'puppets': 2, 'cheesy': 1, ',': 1, 'Puppet': 1, 'Master': 1, \"80's\": 1, 'flicks.': 1, 'lame,': 1, 'NEVER': 2, 'explains': 1, 'sinister': 1, 'origins': 1, 'puppets.': 1, \"aren't\": 1, 'previous': 2, 'f/x': 1, 'asleep': 1, 'insomniacs.': 1, 'wonderful,': 1, 'heartwarming': 1, 'tale': 2, 'chasing': 1, 'dreams.': 1, 'Nurse': 1, 'Betty\"': 1, 'unpredictability.': 1, 'family': 3, 'had': 10, 'down,': 1, 'knew': 1, 'each': 4, 'other.': 1, 'here': 6, 'warn': 1, 'you--DO': 1, 'NOT': 1, 'RENT': 1, 'THIS': 1, 'MOVIE,': 1, 'dumbest': 1, 'seen!': 1, 'None': 1, 'engaging': 2, 'exciting.': 1, 'strong': 1, 'unpleasant.': 1, ';)': 1, 'Recommend': 1, 'confidence!': 1, 'scares': 1, 'tension': 1, 'medical': 1, 'terminology': 1, 'iffy': 1, 'insulin': 1, 'dependant': 1, 'diabetic': 1, 'myself.': 2, 'remake': 2, '\"My': 1, 'Friends': 1, 'Wedding\".': 1, 'worst': 6, 'Sandra': 2, 'Bullock': 2, 'since': 3, 'Speed': 1, 'shattered': 1, \"'film'\": 1, 'took': 2, 'hours': 1, 'fully': 1, 'recover.': 1, 'honest': 1, 'you,': 1, 'unbelievable': 2, 'foolish.': 1, 'Ticker!': 1, 'saw': 4, 'thought': 6, 'i': 5, 'wouldnt': 1, 'free.': 1, 'clear': 1, 'range': 1, 'pull': 1, 'part.': 2, 'scary.': 1, 'stupid,': 1, 'is.': 4, 'campy': 1, 'joy': 4, 'supposed': 1, 'popcorn': 1, 'intelligence,': 1, 'hackneyed': 1, 'borders': 1, 'offensive.': 1, 'accents': 1, 'abysmal!': 1, ':)': 1, 'Anyway,': 1, 'flowed': 1, 'smoothly': 1, 'male-bonding': 1, 'hoot.': 1, 'casted': 1, 'role': 3, 'ready': 1, 'stars.': 2, 'Perabo': 1, 'nice': 3, 'obviously': 1, 'comfortable': 1, 'front': 1, 'camera.': 1, 'movie--it': 1, 'free': 1, 'DVD': 1, 'player': 1, 'turned': 1, 'halfway': 1, 'embarrassed': 1, 'Howell.': 1, \"Wilkinson's\": 1, 'prepared': 1, 'ordeal': 1, 'begin,': 1, 'takes': 2, 'matter': 2, 'hand': 1, 'progresses,': 1, 'actor': 2, 'gives': 1, 'performance': 3, 'feel': 1, \"character's\": 1, 'anguish': 1, 'suffering.': 1, 'walked': 1, 'faster.': 1, 'suffered': 1, 'writing,': 2, 'needed': 1, 'suspense.': 1, 'charming': 2, 'sentiment': 1, 'heart.': 1, 'Plus,': 1, 'well-paced': 1, 'suited': 1, 'relatively': 1, 'run': 1, '10,': 1, 'lower.': 1, 'pleasant': 1, 'voyage': 1, 'self-discovery.': 1, 'Despite': 1, 'pans': 1, 'reviewers,': 1, 'liked': 4, 'Worst': 1, 'life!Oh': 1, 'gosh!': 1, 'screamy': 1, 'masculine': 1, \"You'll\": 1, 'BAD.': 1, 'long.': 1, 'ones.': 1, 'quality': 1, 'age.': 2, 'Wayne': 2, 'young': 2, 'industry.': 1, 'His': 5, 'presence': 1, 'shined': 1, 'senior': 1, 'him.': 1, 'older': 1, 'enjoy': 3, 'junk.': 1, 'director': 3, \"hadn't\": 1, 'spent': 2, 'showcasing': 1, \"isn't\": 1, 'noteworthy.': 1, 'Another': 1, 'punched': 1, 'face,': 2, 'gallon': 1, 'blood': 2, 'spew': 1, 'forth': 1, 'soon': 1, 'after.': 1, 'Jamie': 1, 'Foxx': 1, 'Ray': 4, 'Charles.': 1, 'genius.': 1, 'owns': 1, 'Spacek': 1, 'owned': 2, 'Coal': 1, \"Miner's\": 1, 'Daughter\"': 1, 'Quaid': 1, '\"Great': 1, 'Balls': 1, 'Fire.': 1, 'animation': 3, 'dominated': 1, \"Disney/Pixar's\": 1, 'CGI': 1, 'masterpieces,': 1, 'refreshing': 1, 'comforting': 1, 'Miyazaki': 1, 'relying': 1, 'traditional': 1, 'hand-drawn': 1, 'enchanting': 1, 'stories.': 1, 'either.': 1, 'theater': 3, 'wanting': 1, 'dance': 3, 'under': 1, 'Stanwyck': 1, 'Morgan': 1, 'ways,': 1, 'modern': 1, 'equivalent': 1, \"Dickens'\": 1, 'Christmas': 1, 'Carol': 1, 'sensibility.': 1, 'true': 2, 'classic.': 1, 'awesome!': 1, 'horrible,': 1, 'cause': 1, 'BAD': 1, 'Actors,': 1, 'period.': 1, 'visual': 2, 'effects': 3, 'AWFUL.': 1, 'unfolds': 2, '18th': 1, 'century': 1, 'Jutland': 1, 'period': 3, 'instruments': 1, 'touch.': 1, 'mediocre,': 1, 'miserable,': 1, 'hollow,': 1, 'garbage.': 1, 'flawed': 1, 'likes': 1, 'wholesome': 1, 'exactly': 1, 'filmmaker': 1, 'nor': 1, 'hide': 1, 'head': 1, 'sand': 2, 'whatever': 2, 'money': 1, 'Go': 1, 'watch': 3, 'find': 5, 'longer': 1, 'goes': 2, 'on,': 1, 'surprised': 1, 'convincing': 2, 'composed': 1, 'sense.': 1, 'possibly': 2, 'creative': 1, 'General': 1, \"Loewenhielm's\": 1, 'exquisite': 1, 'partaking': 1, 'Cailles': 1, 'en': 1, 'Sarcophage': 1, 'small': 2, 'sample': 1, 'savor.': 1, 'Personally,': 1, 'shows': 2, 'compromise': 1, 'self': 1, 'involving': 1, 'issue.': 1, 'slow-motion': 1, 'needlessly': 1, 'repeats': 1, 'itself': 1, 'backed': 1, 'here),': 1, 'continuity,': 1, 'reason': 2, 'whatsoever,': 1, 'vehicles': 1, 'Corn': 1, 'Flakes': 1, 'box': 1, 'directorial': 2, 'bordered': 1, 'stupidity.': 1, 'lilt': 1, 'step,': 1, 'race.': 1, 'Star': 1, 'Trek': 1, 'V': 1, 'final': 1, 'Frontier': 1, 'series.': 2, 'chosen': 1, 'tortured': 1, 'disgusting': 1, 'blatant': 1, 'American': 1, 'propaganda.': 1, 'comment': 1, '2006.': 1, 'Watching': 1, 'washing': 1, 'machine': 1, 'twirling': 1, \"wouldn't\": 2, 'hurt': 1, 'well-balanced': 1, 'Well...': 1, 'Just': 2, 'keep': 1, 'thinking': 2, 'Funny,': 1, 'clever,': 1, 'hip': 1, \"Pray's\": 1, 'Hype!': 1, 'God,': 1, '90': 2, 'back!': 1, 'football': 1, 'perplexing.': 1, 'mostly': 2, 'routine': 1, 'fact-based': 1, 'boost': 1, 'Cole.': 1, 'losing': 1, 'marbles': 1, 'proceedings': 1, 'implausible': 1, 'unconvincing.': 1, 'Almost': 1, 'return': 2, 'school,': 1, 'pile': 1, 'round.': 1, 'cutting': 1, 'edge': 2, 'Cinematography': 1, 'noteworthy': 1, 'including': 1, 'views': 1, 'Barcelona': 1, 'famed': 1, 'Gaudi': 1, 'towers.': 1, 'Elias': 1, 'Koteas,Jack': 1, 'Palance': 1, 'roles': 1, 'Angelina': 1, 'hot': 1, 'naked.Billy': 1, 'appears': 1, 'usual': 2, '+': 1, 'cameo': 1, 'Sven': 1, 'ole': 1, 'Thorsen': 1, 'helps': 2, 'decent': 2, 'budget.': 1, 'known': 1, 'Errol': 1, 'Flynn': 1, 'dads': 1, 'favourite': 2, 'actor,': 1, 'grew': 1, 'child.': 2, 'Hackneyed': 1, 'certainly,': 1, 'directing.': 1, 'Cinematography:': 1, 'realize': 1, 'until': 1, 'last': 1, 'stunning': 2, 'Later': 1, 'lost': 2, 'power': 1, 'location': 3, 'balance': 1, 'originality': 1, 'freshness': 1, 'spent,': 1, 'offer.': 1, 'irritating': 1, \"Don't\": 2, 'miss': 1, 'peculiarity': 1, 'lead': 1, \"you'd\": 1, 'top': 3, 'notch.': 1, 'original': 1, 'Body': 1, 'Soul': 1, '(1947)': 1, 'masterpiece.': 1, 'Then': 3, 'debated': 1, 'whether': 2, 'sack': 1, 'trumpeter': 1, '(who': 1, 'falsely': 1, 'accused': 1, 'murder)': 1, 'pure': 2, 'horror,': 1, 'Nine': 1, 'lovely': 1, 'End': 1, 'Days': 1, 'big-budget': 1, 'seen.': 3, 'Whatever': 2, 'prompted': 1, 'documentary': 1, 'me!': 1, 'cat': 1, 'n': 1, 'mouse': 1, 'games': 1, 'follow': 1, 'delight': 1, 'features': 1, 'outlandish': 1, 'array': 1, 'psychotic': 1, 'lovable': 1, 'nuts.': 1, 'Scream': 1, 'ranks': 2, 'point': 1, 'journey,': 1, 'journey': 2, 'touches': 1, 'member': 2, 'family.': 1, 'Editing:': 1, 'editing': 2, 'phenomenal': 1, 'opinion.': 1, 'blew.': 1, 'surely': 1, 'coherent': 1, 'Air': 1, 'Force': 1, 'obliged': 1, 'sum': 2, 'starring': 1, 'Jaclyn': 1, 'Smith,': 1, 'god': 2, 'best,': 1, '12': 1, 'ago.': 1, 'full': 2, 'dancing': 2, '(hence': 1, 'title!': 1, 'hopeless': 1, 'actress,': 1, 'repeating': 1, 'robotic': 1, 'face': 1, 'moves': 1, 'pictures.': 1, 'played.': 2, 'Stewart': 1, 'hero': 1, 'Hitchcock,': 1, 'rips': 1, 'climax': 1, 'embassy': 1, 'function,': 1, 'brooding': 1, 'menace': 1, \"Hitchcock's\": 1, 'black': 3, 'white,': 1, 'low-budget': 1, 'entertained': 1, 'inspiration': 1, 'overcome': 1, 'fear': 1, 'rejection.': 1, 'photography.': 1, 'decay,': 1, 'Shakespears': 1, 'lyrics...': 1, 'one.': 1, 'time,': 1, 'following': 1, 'bunch': 2, 'high': 1, 'schoolers': 1, 'whine': 1, 'cry': 1, 'transfers': 1, 'Ben': 1, 'Affleck': 1, 'why': 3, 'consider': 3, 'leaving': 1, 'wife-to-be': 1, 'chick': 1, 'knocked': 1, 'by.': 1, 'BORING!': 1, 'includes': 1, 'Shatner': 1, 'Nimoy': 1, 'washed': 1, 'making': 1, 'old': 2, 'life,': 1, 'tacky': 1, 'Spock': 1, 'rescue': 1, 'Kirk': 1, 'jet': 1, 'pack': 1, 'falls': 1, 'mountain.': 1, 'empty,': 1, 'hollow': 1, 'shell': 1, 'seat': 1, 'somewhat': 1, 'afraid': 2, 'car': 1, 'night.': 1, 'Damian': 1, 'talented': 2, 'versatile': 1, 'ways': 1, 'portraying': 1, 'different': 1, 'Characters': 1, 'screen.': 1, 'fleshed': 1, 'well,': 2, 'Grimes': 1, 'Blake,': 1, 'deliver': 1, 'sharply': 1, 'scripted': 1, 'lines': 2, 'deadpan': 1, 'tongue': 1, 'cheek': 1, 'realistic.': 1, 'Very': 1, 'relaxing': 1, 'late': 1, 'night': 3, 'viewing.': 1, 'Nothing': 1, 'magnificent': 1, 'photography/cinematography': 1, 'acting--even': 1, 'professionals': 1, 'Debbie': 1, 'Rochon--was': 1, '(perhaps': 1, 'contributory': 1, 'former),': 1, 'dialog': 1, 'chimp-like,': 1, 'camera': 2, 'tolerable.': 1, 'renowned': 1, 'Frances': 1, 'Marion': 1, \"hasn't\": 1, 'missed': 1, 'step': 1, 'sound.': 1, 'precisely': 1, 'giving': 1, 'review!': 1, 'walk': 1, 'theatre': 1, 'relief!': 1, 'putting': 1, 'race': 1, 'card': 1, 'aside,': 1, 'lets': 1, 'major': 1, 'flaw': 1, 'film:': 1, 'destroy': 1, \"latifa's\": 1, 'Kris': 1, 'Kristoffersen': 1, 'difference.': 1, 'Give': 1, 'look.': 1, 'review': 1, 'overdue,': 1, 'Tale': 1, 'Two': 1, 'Sisters': 1, 'Okay,': 1, 'fair': 1, 'critic,': 1, 'credit': 2, \"credit's\": 1, 'due--the': 1, 'creature': 1, 'cool.': 1, 'rare': 1, 'film-maker': 1, 'worthy': 1, 'moral': 1, 'fall': 1, 'trap': 1, 'overly': 2, 'syrupy': 1, 'indulgent.': 1, 'unrecommended.': 1, '1986': 1, 'version,': 1, 'watchable.': 1, '\"right': 1, 'case\"': 1, 'delivers': 2, 'almost': 2, 'face.': 1, 'Aailiyah': 1, 'Akasha,': 1, 'places': 1, 'compelling': 1, '(her': 1, 'entrance': 1, 'mini': 1, 'scene).': 1, 'deeply': 2, 'impressed': 1, 'awful!': 1, 'agree': 1, 'Jessica,': 1, 'girlfriend': 1, 'idea,': 1, 'hated': 1, 'Robert': 1, 'Ryans': 1, 'portrayed': 1, 'someone': 2, 'father,': 1, 'schizophrenic': 1, 'life,(my': 1, 'father)': 1, 'murdered': 1, 'affected': 1, 'war': 1, 'him': 1, 'worse.': 3, 'sets': 2, '(especially': 1, 'designed': 1, 'camera)': 1, 'amazing....stylized,': 1, 'beautiful': 4, 'effective.': 1, 'powerful': 1, 'explorations': 1, 'nature': 1, 'art.': 2, 'ceases': 2, 'keeps': 1, 'alert,': 1, 'try': 1, 'attempt': 2, 'decipher': 1, 'meanings.': 1, 'comedy.': 1, 'acted': 1, 'Movie.': 1, 'redeemed': 1, 'MST3K': 1, 'fodder.': 1, 'Enough': 1, 'said': 4, 'remarkable': 1, 'Kathy': 1, 'Bates': 1, 'desperation': 1, 'escapism;': 1, 'variation': 1, '\"At': 1, 'Play': 1, 'Fields': 1, 'Lord\".': 1, 'Helen': 1, 'Baxendale': 1, 'credible': 1, 'lady': 1, 'Macbeth': 1, 'cheerfull': 1, 'sometimes': 2, 'naughty': 1, 'girl,': 1, 'deadly': 1, 'taste': 1, 'evil.': 1, 'Artless': 1, 'camera-work': 1, 'endlessly': 1, 'us': 1, 'ugliest': 1, 'setting': 2, 'imaginable,': 1, 'i.e.': 1, 'Trumbull': 1, 'LOVE': 1, 'LUCY).': 1, 'Punishment': 1, 'Park': 1, '1949,': 1, 'Hollywood': 1, 'generally': 1, 'collective': 1, 'heads': 1, 'concerning': 1, 'white': 3, 'issues': 2, 'example': 2, 'established': 1, 'turn': 2, 'zombie-students': 1, 'back': 1, 'humans': 1, 'removing': 1, 'necklace': 1, 'containing': 1, 'meteorite.': 1, 'wooden': 1, 'moving': 1, 'reading': 1, 'Things': 1, 'happen,': 1, 'personalities': 1, 'change,': 1, 'twists': 1, 'occur': 1, 'calls': 1, 'Lewis': 1, \"Black's\": 1, 'considerable': 1, 'talent': 2, 'wasted': 1, 'too,': 1, 'incendiary': 1, 'unrestrained,': 1, 'PG-13': 1, 'rating': 1, 'allow.': 1, 'disaster,': 2, 'seen,': 1, 'confuses': 1, 'incredibly.': 1, 'interplay': 2, 'Martin': 2, 'Emilio': 2, 'Wall': 1, 'Street': 1, 'Charlie.': 1, '),': 1, 'embarrassing': 1, 'away.': 1, 'plot,': 1, 'derivative': 1, 'killing.': 1, \"He's\": 1, 'national': 1, 'treasure.': 1, 'gripping,': 2, 'intelligent': 1, '(but': 1, 'theatrical': 1, 'stage)': 1, 'plays': 2, \"everyone's\": 1, 'terror': 1, 'lie': 1, 'escalating': 1, 'monstrous': 1, 'consequences.': 1, 'thrillers': 1, \"70's.\": 1, 'gloriously': 1, 'fun,': 1, 'paced': 1, 'fairly': 1, 'accurate': 1, 'raver.': 1, 'picked': 1, 'speed': 1, 'point.': 1, 'Unfortunately,': 2, 'virtue': 1, 'regrettable': 1, 'boring,pointless': 1, 'details': 1, 'dysfunction--he': 1, 'believable.': 1, '\"Breeders\"': 1, 'cheaply': 1, 'avoided': 1, 'Ebola': 1, 'virus.': 1, 'humor': 1, 'pitiful': 1, \"dosen't\": 1, 'basically': 1, 'involves': 1, 'Vulcan': 1, 'stealing': 1, 'Enterprise': 1, '(seriously)': 1, 'oh': 1, 'Uhura': 1, 'belly': 1, 'distract': 1, 'male': 1, 'guards.': 1, 'ended,': 1, 'despised': 1, 'Some': 1, 'applause': 1, 'given': 2, '\"prelude\"': 1, 'however.': 1, 'mind-bendingly': 1, 'created.': 2, 'usual.': 1, 'solid': 2, 'very,': 1, 'idea': 1, 'No': 2, 'whatsoever!': 1, 'Though': 1, 'Wind': 2, 'Lion': 1, 'told': 2, 'largely': 1, 'son,': 1, 'identify': 1, 'Sean': 1, \"Connery's\": 1, 'noble': 1, 'brigand,': 1, 'Candace': 1, \"Bergen's\": 1, 'feisty': 1, 'heroine,': 1, 'wily': 1, 'Hay': 1, 'Steve': 1, \"Kanaly's\": 1, 'spiffy,': 1, 'radiant,': 1, 'ruthless': 1, 'can-do': 1, 'lieutenant,': 1, \"Roosevelt's\": 1, '\"Big': 1, 'Stick\".': 1, 'Final': 1, 'Word:': 1, 'torture!!': 1, 'A+': 1, 'understand,': 1, 'idiot': 1, 'produce': 1, 'place': 2, 'several': 1, 'season.': 1, 'main': 1, 'players': 1, 'mesmerising.': 1, 'littered': 1, 'overt': 1, 'racial': 3, 'slurs': 1, 'members': 1, 'whites': 1, 'depicted': 1, 'morons': 1, 'boobs.': 1, 'Easily,': 1, 'none': 1, 'cartoon': 1, 'tender': 1, '(before': 1, 'getting': 1, 'dark': 1, 'sitcoms': 1, 'oriented': 1, 'teenagers).': 1, 'Overall,': 2, 'thought-provoking.': 1, 'television': 1, 'plus': 1, 'could.': 1, 'Brilliance': 1, 'indeed.': 1, 'Saw': 1, 'today': 1, 'effort,': 1, 'messages': 1, 'kids.': 1, 'provoking': 1, 'forces': 1, 'threshold': 1, 'loneliness.': 1, 'Here,': 1, 'Lion,': 1, 'rendering': 1, \"America's\": 1, 'Imperial': 1, 'do,': 1, 'avoid': 1, '\"Groove\"': 1, 'antithesis': 1, 'Human': 1, 'Traffic.': 1, 'Never': 1, 'heard': 1, 'except': 1, 'Cole': 1, 'decidely': 1, 'wooden,': 1, 'Universal': 1, 'B': 1, 'interested': 1, 'poetry,': 2, 'theater,': 1, 'politics,': 1, 'Japanese': 1, 'history.': 1, 'From': 1, 'Widmark': 1, 'turns': 1, 'unintentionally': 1, 'comical!': 1, \"Estevez's\": 1, 'debut,': 1, 'pacing,': 1, 'development': 1, 'clever': 1, 'surrounding': 1, 'Estevez': 1, 'suggest': 1, 'natural': 1, 'eye.': 1, 'Thunderbirds': 1, 'episode.': 1, 'subtitles........': 1, 'aversion': 1, 'therapy': 1, '10/10': 1, 'excellently': 1, 'tops': 1, 'typical': 1, 'sci': 1, 'fi': 1, 'film!': 1, 'begin': 1, 'ass': 1, 'ed': 1, 'comments': 1, 'wall': 1, 'uncalled': 1, 'for.': 1, 'memories': 2, 'murky': 1, 'episode': 1, 'product': 1, 'related': 1, 'angles.': 1, 'revealing': 1, 'complexity': 1, 'task': 1, 'challenges': 1, 'facing': 1, 'Africa.': 1, 'Vivian': 1, 'Schilling': 1, 'forgot:': 1, 'Casting': 1, 'superb,': 1, 'Trond': 1, 'Fausa': 1, 'Aurvåg': 1, 'Bothersome': 1, 'Man,': 1, 'why.': 1, 'NOBODY': 1, 'identifies': 1, 'cutouts': 1, 'stereotypes': 2, '(or': 2, 'reverse-stereotypes).': 1, 'continuously': 1, 'Bertolucci,': 1, 'relationships': 1, 'narrative': 1, 'work.': 1, '1/10': 1, '0/10.': 1, 'GO': 1, 'AND': 1, 'SEE': 1, 'IT!': 1, 'UNfunny': 1, 'unrealistic': 1, 'utter': 1, 'torture': 1, '70000': 1, 'times!': 1, 'however,': 1, 'consolations:': 1, 'actresses': 1, \"Anne's\": 1, 'sisters': 1, 'roles.': 1, 'unique': 1, 'though.': 1, 'camp': 1, 'value!': 1, 'Sundays': 1, 'ago': 1, '(March': 1, '20th,': 1, '2005)': 1, 'taped': 1, 'handles': 1, 'tough': 1, 'dignity': 1, 'grace,': 1, 'and,': 1, '(shocking': 1, 'spoiler': 1, 'here!': 1, 'redeeming': 1, 'qualities': 1, 'remake.': 1, '9/10.': 1, '\"explosion\"': 1, 'Gas': 1, 'tanks': 1, 'great.': 1, '\"Tiny': 1, 'Toons\"': 1, 'kept': 1, 'vibe': 1, 'delivered': 1, 'popular,': 1, 'underrated': 1, 'cartoons': 1, 'fun': 1, 'jokes': 1, 'offend': 1, 'everyone.': 1, 'Raw': 1, 'sublimely': 1, 'moving.': 1, 'frightening': 1, 'least,': 1, 'comprehensible.': 1, 'Paolo': 1, 'Sorrentino': 1, 'loneliness': 1, 'Tony': 1, 'built': 1, 'unforgettable': 1, 'alongside': 1, 'Olivia': 1, 'De': 1, 'Havilland': 1, 'fantastic!': 1, 'popular': 1, 'cinema,': 1, 'house': 1, 'reactions': 1, 'laughs.': 1, 'looking': 1, 'music(including': 1, 'Shirley': 1, 'Jones': 1, 'rendition': 1, '\"The': 1, 'Way': 1, 'Look': 1, 'Tonight\"),': 1, 'uplifting': 1, 'ending,': 2, 'try.': 1, 'hard': 1, 'Charles': 2, 'acted,': 1, 'himself.': 1, 'legendary.': 1, \"Charles'\": 1, 'provided': 1, 'biographical': 1, 'material': 1, 'musician.': 1, 'Hitchcock': 3, 'Ironically': 1, 'total': 1, 'Secondly,': 1, 'perfected': 1, 'thriller': 2, 'chase': 1, 'pandering': 1, 'audience': 1, 'sabotages': 1, 'Hence': 1, 'certain': 1, 'energy.': 1, 'rumbles': 1, 'machine,': 1, 'desperately': 1, 'depending': 1, 'logic': 1, 'flaws.': 1, 'Mishima': 1, 'extremely': 3, 'uninteresting.': 1, 'chilly,': 1, 'unremarkable': 1, 'author': 1, 'living/working': 1, 'chilly': 1, 'abstruse': 1, 'culture.': 1, 'flat': 1, 'reenactments': 1, 'hold': 1, 'attention': 2, 'emotionally': 1, 'adrift': 1, 'stagy.': 1, 'sits': 1, 'awful...': 1, 'soldiers': 1, 'singing': 1, 'songs': 1, 'masculinity': 1, 'pledge': 1, 'themselves': 1, 'to,': 1, 'hairsplitting': 1, 'purity,': 1, 'admiration': 1, 'swords,': 1, 'pieces,': 1, 'kill': 1, 'momentum': 1, 'quicker': 1, 'else.': 1, 'Schrader': 1, 'resume': 1, 'lousy,': 1, 'amateurish': 1, '80s,': 1, 'fascinated': 1, 'dancing...': 1, 'recently': 1, 'DVD,': 1, 'struck': 2, 'holes,': 1, 'inconsistencies': 1, 'frankly': 1, 'horrid': 1, 'mean,': 1, 'realistic': 1, 'world,': 1, 'gotten': 1, 'ballet': 1, 'repertory...': 1, 'pathetic.': 1, 'developments': 1, 'lacked': 1, 'depth.': 1, 'Woa,': 1, 'Do': 1, 'horrible.': 1, 'worst,': 1, 'sappiest': 1, 'dialogue...': 2, 'unwatchable': 1, 'direction.': 1, 'actors.': 1, 'speak': 1, 'action.': 1, 'check': 1, 'filmography': 1, 'site': 1, 'chance.': 1, 'flick.': 1, 'intentions': 1, 'great,': 1, 'actors,': 1, 'master': 1, 'director,': 1, 'significant': 2, 'theme--at': 1, 'would-be': 1, 'theme,': 1, 'undertone': 1, 'fifties': 1, 'existential': 1, 'world-weariness,': 1, 'ought': 1, 'imagination,': 1, 'care.': 1, 'Regrettably,': 1, 'fails.': 1, 'interest,': 1, 'expression': 1, 'feeling,': 1, 'celebration': 1, 'patriotism': 1, 'underlines': 1, 'narrative.': 1, 'actress': 1, 'June': 1, 'Allison': 1, 'Yet,': 1, 'direction': 1, 'bad!': 1, 'cinematography-if': 1, 'that-sucked.': 1, 'concert': 1, 'sequences': 1, 'nice.': 1, 'considering': 1, 'ridiculousness': 1, 'angry.': 1, '***SPOILERS***': 1, \"can't)\": 1, 'SURFACE': 1, 'superbly': 1, 'crafted.': 1, '(to': 1, 'least)': 1, 'fx': 2, 'state-of-the-art.': 1, 'Conceptually,': 1, 'everything-': 1, 'everybody': 1, '(parents,': 1, 'kids,': 1, 'fantasy': 1, 'and/or': 1, 'fans).': 1, 'sour': 1, 'note': 1, 'acting-wise,': 1, 'either;': 1, 'casting,': 1, 'considered,': 1, 'done.': 1, 'Thanks': 1, 'released.': 1, 'mexican': 2, 'ever!,': 1, 'understood,': 1, 'themselves,': 1, 'identified': 1, 'noir-crime-drama,': 1, 'Belmondo': 1, 'Lino': 1, 'Ventura.': 1, 'complex': 1, 'psychological': 1, 'portrayals,': 1, 'detailing': 1, 'loyalty,': 1, 'treachery,': 1, 'hope,': 1, 'tremendous.': 1, 'thriller,': 1, 'Up': 1, 'Melville.': 1, 'incredible.': 1, 'soul': 1, 'BLACK': 1, 'WATER': 1, 'manages': 1, 'transcend': 1, 'limitations': 1, \"(it's\": 1, 'indie': 1, 'flick)': 1, 'continually': 1, 'subverting': 1, 'expectations': 1, 'emerge': 1, 'intense': 1, 'experience.': 1, 'crocdodile': 1, 'done,': 1, 'indeed': 1, 'Water': 1, 'website': 1, 'believed': 1, 'crocs': 1, 'swamp': 1, 'fabulous.': 1, 'Christopher': 1, 'Eccleston': 1, 'control': 1, 'TARDIS': 1, 'continuation': 1, 'sure': 1, 'day': 1, 'succeeded.': 1, 'forced,': 1, 'Again,': 1, \"Here's\": 1, 'pi**ed': 1, 'jerky': 1, 'camerawork.': 1, 'sick.': 1, 'Summary:': 1, 'witticisms': 1, 'witty.': 1, 'go.': 1, 'Really': 1, 'Bob': 1, 'rise': 1, 'above': 1, 'Camerawork': 1, 'again,': 1, 'AMAZING': 1, 'finale': 1, 'BEST': 1, 'trilogy': 1, 'Kieslowski': 1, 'amaze': 1, 'directors,': 1, 'directors': 1, 'history': 1, 'colours': 1, 'French': 1, 'flag': 1, 'three': 3, 'incredible,': 1, 'shot,': 1, 'Three': 1, 'visually': 1, 'appealing': 1, \"i've\": 1, 'connections': 1, 'awesome.': 1, 'SPOILER,': 1, 'survivors': 1, 'ferry': 1, 'Valentine': 1, 'judge': 1, 'TV,': 1, 'solidifying': 1, 'happiness': 1, 'suffering': 1, 'dealt': 1, 'wrap': 1, 'trilogy!': 1, 'EVERYONE': 1, 'loves': 1, 'anything...A': 1, 'Work': 1, 'Art!': 1, 'trilogy.': 1, 'literally': 1, 'vomited': 1, 'while': 1, \"roth's\": 1, 'pearls.': 1, 'performance,': 1, 'awarded,': 1, 'stunning.': 1, 'eloquently': 1, 'Francis': 1, 'ford': 1, 'Coppola': 1, '25': 1, 'earlier,': 1, 'gradually': 1, 'develop.': 1, 'lies': 1, 'contrast.': 1, \"Nicola's\": 1, 'roeg': 1, 'wih': 1, 'cast.': 1, 'translating': 1, '5-year': 1, 'offensive': 1, 'intelligence.': 1, 'strives': 1, 'greatness': 1, 'muddled': 1, 'ridiculous)': 1, 'disparate': 1, 'scenes,': 1, 'pretentious': 2, 'accurately': 1, 'defined': 1, 'crap\".': 1, \"That's\": 1, 'painfully': 1, 'dreary': 1, 'time-waster': 1, '(maybe': 1, 'idiot-savant': 1, 'sister': 1, 'better),': 1, 'add': 1, 'betty': 1, 'jean': 1, 'parts': 1, 'better.': 1, 'Your': 1, 'brain': 1, 'shut-down': 1, 'primal': 1, 'impulse': 1, 'self-preservation.': 1}\n"
          ],
          "name": "stdout"
        }
      ]
    },
    {
      "cell_type": "code",
      "metadata": {
        "id": "8rfjGdYSPMfI"
      },
      "source": [
        "#cleandata\n",
        "#reomving less frequent words from dataset\n",
        "repeating_words = []\n",
        "for i in words_count.keys():\n",
        "    if (words_count[i]<5):\n",
        "          repeating_words.append(i)\n",
        "for i in repeating_words:\n",
        "    del words_count[i]\n",
        "len(words_count)\n",
        "def removing_less_occurring_words(imdb_data,words_count):\n",
        "    for i, review in enumerate(imdb_data):\n",
        "        clean = []\n",
        "        for word in review.split():\n",
        "            if word in words_count.keys():\n",
        "                clean.append(word)\n",
        "        clean = ' '.join(clean)\n",
        "        imdb_data[i] = clean\n",
        "    return imdb_data"
      ],
      "execution_count": 965,
      "outputs": []
    },
    {
      "cell_type": "code",
      "metadata": {
        "colab": {
          "base_uri": "https://localhost:8080/"
        },
        "id": "v4cGyZDnPOSN",
        "outputId": "bdcf2b43-0984-4552-9ab5-236d0ac2bd18"
      },
      "source": [
        "#after removing less occurring data from vocab_list and so from X_train\n",
        "X_train = removing_less_occurring_words(X_train,words_count)\n",
        "print(\"Total unique words in the given dataset after removing less occurring words: \",len(X_train))\n",
        "print('')\n",
        "#print(\"Length of words dictionary after removing less occurred data: \",len(words_count))"
      ],
      "execution_count": 966,
      "outputs": [
        {
          "output_type": "stream",
          "text": [
            "Total unique words in the given dataset after removing less occurring words:  448\n",
            "\n"
          ],
          "name": "stdout"
        }
      ]
    },
    {
      "cell_type": "code",
      "metadata": {
        "colab": {
          "base_uri": "https://localhost:8080/"
        },
        "id": "Xn__IXEnPXvL",
        "outputId": "dd3b463b-9ba7-4ec8-b548-ad70b8633e99"
      },
      "source": [
        "#my words dictionary after removing less occurring words\n",
        "print(words_count)\n"
      ],
      "execution_count": 967,
      "outputs": [
        {
          "output_type": "stream",
          "text": [
            "{'just': 35, 'out': 22, 'of': 251, 'The': 130, 'movie': 91, 'in': 117, 'the': 418, 'and': 281, 'through': 5, 'that': 94, 'is': 211, 'played': 6, 'with': 53, 'her': 14, 'by': 31, 'are': 49, 'I': 172, 'enjoyed': 6, 'it.': 21, 'this': 132, 'up': 9, 'any': 17, 'acting,': 5, 'or': 20, 'other': 9, \"It's\": 21, 'one': 39, 'movies': 14, 'to': 149, 'see': 25, 'it': 79, 'on': 44, 'have': 33, 'story': 17, 'was': 107, 'so': 29, 'over': 7, 'do': 10, 'good': 31, 'dialogue': 6, 'real': 14, 'scenes': 10, 'were': 17, 'It': 36, 'for': 56, 'not': 42, 'could': 13, 'be': 34, 'as': 58, 'she': 7, 'off': 6, 'between': 8, 'how': 19, 'little': 9, 'there': 18, 'two': 9, 'got': 6, 'a': 270, 'big': 5, 'my': 25, 'So': 5, 'Even': 6, 'way.': 5, 'great': 22, 'part': 5, 'If': 12, 'you': 34, 'your': 12, 'end': 6, 'all': 25, 'must': 5, 'waste': 9, 'time.': 10, \"didn't\": 13, 'make': 14, 'boring': 6, 'movie.': 18, 'totally': 8, 'acting': 22, 'In': 8, 'short': 5, '-': 14, 'time': 16, 'would': 18, 'recommend': 8, 'anyone': 11, 'film.': 16, \"couldn't\": 5, 'them': 8, 'This': 46, 'most': 17, 'films.': 5, \"won't\": 5, 'say': 7, 'more': 17, \"don't\": 12, 'like': 32, 'but': 35, 'believe': 6, 'film': 63, 'worth': 7, 'characters': 21, 'their': 6, 'where': 5, 'they': 19, 'who': 20, 'also': 8, \"doesn't\": 10, 'know': 6, 'his': 18, 'if': 15, 'what': 13, 'me': 11, 'because': 19, 'plot': 13, 'at': 28, 'absolutely': 6, 'highly': 6, 'will': 13, 'get': 7, 'worse': 7, 'than': 12, 'wonderful': 12, 'gets': 6, 'A': 10, 'very': 33, 'about': 32, 'its': 13, 'every': 9, 'should': 9, 'think': 12, 'people': 9, 'understand': 7, 'being': 9, 'actors': 6, 'watched': 6, 'it,': 10, 'probably': 7, 'But': 15, 'There': 7, 'And': 9, 'You': 9, 'it!': 5, 'certainly': 5, 'way': 11, 'many': 8, 'when': 15, 'truly': 6, 'bad': 22, 'thing': 8, 'only': 15, \"I'd\": 5, 'whole': 8, 'cast': 8, 'felt': 5, 'though': 6, 'going': 5, 'did': 6, 'nothing': 5, \"it's\": 18, 'bad.': 10, 'from': 18, 'ever': 17, 'seen': 8, 'he': 21, 'never': 10, 'well': 11, 'work': 8, 'makes': 5, 'look': 8, 'pretty': 10, 'much': 7, 'best': 10, 'made': 15, 'some': 14, 'well.': 5, 'no': 14, 'really': 26, 'loved': 6, 'has': 17, 'job': 6, 'give': 6, '10': 9, 'play': 5, 'minutes': 5, 'into': 11, 'script': 9, 'both': 8, 'scene': 6, 'character': 12, 'Not': 8, 'watch.': 6, 'go': 5, '1': 84, 'such': 8, 'show': 7, 'action': 5, 'things': 5, 'music': 5, 'even': 16, 'lacks': 6, 'watching': 12, 'an': 28, 'art': 5, 'directing': 5, 'too': 7, 'An': 5, 'ending': 5, 'hour': 5, 'half': 5, 'first': 8, 'excellent': 8, 'lot': 5, 'kind': 5, \"can't\": 6, 'can': 14, 'everyone': 5, 'single': 5, 'we': 5, 'those': 6, 'films': 9, 'still': 6, 'love': 8, 'years': 6, 'been': 7, 'simply': 7, 'piece': 8, 'am': 5, 'man': 5, '0': 112, 'terrible,': 6, 'feeling': 6, \"that's\": 6, 'One': 5, 'which': 14, 'John': 6, 'special': 5, 'interesting': 7, 'sucked.': 5, 'All': 5, 'film,': 9, 'script.': 5, 'Everything': 6, 'is,': 5, 'writing': 6, 'around': 5, 'He': 5, 'least': 5, 'had': 10, 'here': 6, 'worst': 6, 'thought': 6, 'i': 5, 'His': 5, 'find': 5}\n"
          ],
          "name": "stdout"
        }
      ]
    },
    {
      "cell_type": "code",
      "metadata": {
        "colab": {
          "base_uri": "https://localhost:8080/"
        },
        "id": "cojTbr2_PZvo",
        "outputId": "40950edb-7e02-4415-9a56-0f58f1905d5a"
      },
      "source": [
        "review_0_train = train_set[Y_train == 0]\n",
        "print(f'Total 0 (negative) review in train dataset : {len(review_0_train)}')\n",
        "\n",
        "review_1_train = train_set[Y_train == 1]\n",
        "print(f'Total 1 (positive) review in train dataset : {len(review_1_train)}')"
      ],
      "execution_count": 968,
      "outputs": [
        {
          "output_type": "stream",
          "text": [
            "Total 0 (negative) review in train dataset : 216\n",
            "Total 1 (positive) review in train dataset : 232\n"
          ],
          "name": "stdout"
        }
      ]
    },
    {
      "cell_type": "markdown",
      "metadata": {
        "id": "VoqVkvl7WSCY"
      },
      "source": [
        "c.) Find basic probability gor positive and negative."
      ]
    },
    {
      "cell_type": "code",
      "metadata": {
        "colab": {
          "base_uri": "https://localhost:8080/"
        },
        "id": "k7mPJ-N_PcN5",
        "outputId": "d53fef8f-e6cb-4392-ac74-e3746b700457"
      },
      "source": [
        "#count basic probability for positive and negative reviews\n",
        "def calculate_prior_class_prob(Y_train):\n",
        "  prior_class_prob = {}\n",
        "  for c in np.unique(Y_train):\n",
        "    count = sum(Y_train == c)\n",
        "    prior_class_prob[c] = count / Y_train.size\n",
        "  return prior_class_prob\n",
        "\n",
        "prior_class_prob = calculate_prior_class_prob(Y_train)\n",
        "print(f'prior probability of class 0 (negative) : {prior_class_prob[0]}')\n",
        "print(f'prior probability of class 1 (positive) : {prior_class_prob[1]}')"
      ],
      "execution_count": 969,
      "outputs": [
        {
          "output_type": "stream",
          "text": [
            "prior probability of class 0 (negative) : 0.48214285714285715\n",
            "prior probability of class 1 (positive) : 0.5178571428571429\n"
          ],
          "name": "stdout"
        }
      ]
    },
    {
      "cell_type": "code",
      "metadata": {
        "id": "iGfX6pQDPhZ_"
      },
      "source": [
        "#here we are making dictionary containing word and it's occurrance in data\n",
        "def total_words_in_data(imdb_data, words_count):\n",
        "    new_dict = {}\n",
        "    for word in words_count.keys():\n",
        "        count = 0\n",
        "        for review in imdb_data:\n",
        "            if word in review:\n",
        "                count = count + 1\n",
        "        new_dict[word] = count\n",
        "    return new_dict"
      ],
      "execution_count": 970,
      "outputs": []
    },
    {
      "cell_type": "code",
      "metadata": {
        "colab": {
          "base_uri": "https://localhost:8080/"
        },
        "id": "xx3SNh1ZPmMt",
        "outputId": "d28bf6e9-b1b9-469a-c0cd-dfb389c655c5"
      },
      "source": [
        "words_occ = total_words_in_data(X_train,words_count)\n",
        "print(\"Number of word the in the data : \",words_occ['the'])"
      ],
      "execution_count": 971,
      "outputs": [
        {
          "output_type": "stream",
          "text": [
            "Number of word the in the data :  218\n"
          ],
          "name": "stdout"
        }
      ]
    },
    {
      "cell_type": "markdown",
      "metadata": {
        "id": "l_KZZy_MWfrO"
      },
      "source": [
        "**-->Probability of the occurrence**</br>\n",
        "P[“the”] = num of documents containing ‘the’ / num of all documents\n"
      ]
    },
    {
      "cell_type": "code",
      "metadata": {
        "id": "cYmp7bbCPoBk"
      },
      "source": [
        "#probability of given word in dataset\n",
        "def prob_calc_of_word_in_data(imdb_data, word):\n",
        "    count = 0\n",
        "    if word not in words_occ.keys():\n",
        "        count = 0\n",
        "    else:\n",
        "        count = words_occ[word]\n",
        "    return count/len(imdb_data)"
      ],
      "execution_count": 972,
      "outputs": []
    },
    {
      "cell_type": "code",
      "metadata": {
        "colab": {
          "base_uri": "https://localhost:8080/"
        },
        "id": "H83gIHF3Pr1p",
        "outputId": "e6bb52ff-4203-42e2-b8a2-9e6cadf356fd"
      },
      "source": [
        "prob_word_in_data = prob_calc_of_word_in_data(X_train, 'the')\n",
        "print(\"Probability of word in whole document: p[the] : \",prob_word_in_data*100)"
      ],
      "execution_count": 973,
      "outputs": [
        {
          "output_type": "stream",
          "text": [
            "Probability of word in whole document: p[the] :  48.660714285714285\n"
          ],
          "name": "stdout"
        }
      ]
    },
    {
      "cell_type": "markdown",
      "metadata": {
        "id": "kZmQ2jSwWreH"
      },
      "source": [
        "**-->Conditional probability based on the sentiment</br>**\n",
        "P[“the” | Positive]  = # of positive documents containing “the”  \n"
      ]
    },
    {
      "cell_type": "code",
      "metadata": {
        "id": "pVesP5YDPvdT"
      },
      "source": [
        "def positive_words_count(imdb_data, label, words_count):\n",
        "    positive_words = {}\n",
        "    for word in words_count.keys():\n",
        "        pos_count = 0\n",
        "        for index, review in enumerate(imdb_data):\n",
        "            if word in review.split() and label[index]==1:\n",
        "                pos_count = pos_count + 1\n",
        "        positive_words[word] = pos_count\n",
        "    return positive_words\n",
        "\n",
        "def negative_words_count(imdb_data, label, words_count):\n",
        "    negative_words = {}\n",
        "    for word in words_count.keys():\n",
        "        neg_count = 0\n",
        "        for index, review in enumerate(imdb_data):\n",
        "            if word in review.split() and label[index]==0:\n",
        "                neg_count = neg_count + 1\n",
        "        negative_words[word] = neg_count\n",
        "    return negative_words\n",
        "positive_words = positive_words_count(X_train, Y_train, words_count)\n",
        "negative_words = negative_words_count(X_train, Y_train, words_count)"
      ],
      "execution_count": 974,
      "outputs": []
    },
    {
      "cell_type": "code",
      "metadata": {
        "colab": {
          "base_uri": "https://localhost:8080/"
        },
        "id": "ReAsLlyJP4KB",
        "outputId": "62bcc064-a796-4e8e-99b3-3badcb721ff5"
      },
      "source": [
        "#in how many positive documents word \"the\" comes\n",
        "positive_words['the']"
      ],
      "execution_count": 975,
      "outputs": [
        {
          "output_type": "execute_result",
          "data": {
            "text/plain": [
              "110"
            ]
          },
          "metadata": {
            "tags": []
          },
          "execution_count": 975
        }
      ]
    },
    {
      "cell_type": "code",
      "metadata": {
        "colab": {
          "base_uri": "https://localhost:8080/"
        },
        "id": "jQljM9y3P54T",
        "outputId": "2f062f6e-fe14-4161-d2e9-536e906242ea"
      },
      "source": [
        "#in how many negative documents word \"the\" comes\n",
        "negative_words['the']"
      ],
      "execution_count": 976,
      "outputs": [
        {
          "output_type": "execute_result",
          "data": {
            "text/plain": [
              "89"
            ]
          },
          "metadata": {
            "tags": []
          },
          "execution_count": 976
        }
      ]
    },
    {
      "cell_type": "code",
      "metadata": {
        "id": "IHyASy4MP7UN"
      },
      "source": [
        "def positive_doc_count(imdb_data):\n",
        "    positive_doc = 0\n",
        "    for i in range(len(imdb_data)):\n",
        "        if (imdb_data[i]==1):\n",
        "            positive_doc = positive_doc + 1\n",
        "    return positive_doc\n",
        "def negative_doc_count(imdb_data):\n",
        "    negative_doc = 0\n",
        "    for i in range(len(imdb_data)):\n",
        "        if (imdb_data[i]==0):\n",
        "            negative_doc = negative_doc + 1\n",
        "    return negative_doc\n",
        "def pos_neg_doc_count(imdb_data, attribute):\n",
        "    if attribute == \"positive\":\n",
        "        cnt = positive_doc_count(imdb_data)\n",
        "    else:\n",
        "        cnt = negative_doc_count(imdb_data)\n",
        "    return cnt\n",
        "positive_doc = pos_neg_doc_count(Y_train,attribute = \"positive\")\n",
        "negative_doc = pos_neg_doc_count(Y_train,attribute = \"negative\")"
      ],
      "execution_count": 977,
      "outputs": []
    },
    {
      "cell_type": "code",
      "metadata": {
        "colab": {
          "base_uri": "https://localhost:8080/"
        },
        "id": "BMdc2PwLQHVX",
        "outputId": "474fbbfa-5e00-4582-93ca-6e134e84e598"
      },
      "source": [
        "#number of positive documents\n",
        "print(positive_doc)\n",
        "print(negative_doc)"
      ],
      "execution_count": 978,
      "outputs": [
        {
          "output_type": "stream",
          "text": [
            "232\n",
            "216\n"
          ],
          "name": "stdout"
        }
      ]
    },
    {
      "cell_type": "code",
      "metadata": {
        "id": "AbPw0U7HQPMj"
      },
      "source": [
        "#probability of given word in positive or negative document\n",
        "def num_of_word_in_posneg(word,words_count, attribute):\n",
        "    count = 0\n",
        "    if attribute ==\"positive\":\n",
        "        if word in positive_words.keys():\n",
        "            count = positive_words[word]\n",
        "        else:\n",
        "            count = 0\n",
        "            \n",
        "    elif attribute==\"negative\":\n",
        "        if word in negative_words.keys():\n",
        "            count = negative_words[word]\n",
        "        else:\n",
        "            count = 0\n",
        "    return count"
      ],
      "execution_count": 979,
      "outputs": []
    },
    {
      "cell_type": "code",
      "metadata": {
        "colab": {
          "base_uri": "https://localhost:8080/"
        },
        "id": "btZfMXQlQSEI",
        "outputId": "1d23f969-9cb9-40e0-eb2e-68833a450563"
      },
      "source": [
        "numerator = num_of_word_in_posneg('the',words_count, attribute = \"positive\")\n",
        "p = numerator/positive_doc\n",
        "print(\"p[the|positive]: \"+str(p*100)+\" %\")"
      ],
      "execution_count": 980,
      "outputs": [
        {
          "output_type": "stream",
          "text": [
            "p[the|positive]: 47.41379310344828 %\n"
          ],
          "name": "stdout"
        }
      ]
    },
    {
      "cell_type": "code",
      "metadata": {
        "colab": {
          "base_uri": "https://localhost:8080/"
        },
        "id": "k8u0ujM2W3G3",
        "outputId": "ff11cb57-7b8a-43f4-9783-ab0a74016bf9"
      },
      "source": [
        "numerator = num_of_word_in_posneg('the',words_count, attribute = \"negative\")\n",
        "p = numerator/positive_doc\n",
        "print(\"p[the|negative]: \"+str(p*100)+\" %\")"
      ],
      "execution_count": 981,
      "outputs": [
        {
          "output_type": "stream",
          "text": [
            "p[the|negative]: 38.362068965517246 %\n"
          ],
          "name": "stdout"
        }
      ]
    },
    {
      "cell_type": "code",
      "metadata": {
        "colab": {
          "base_uri": "https://localhost:8080/"
        },
        "id": "txMaBWo6QTqe",
        "outputId": "e1ef4209-8a48-42f0-cce1-8b37e862a8ee"
      },
      "source": [
        "#probability for p[positive|the] without NAIVE BAYES\n",
        "prob = (p*(positive_doc/len(X_train)))/prob_word_in_data\n",
        "print(\"Probability of given word in data\",prob*100)"
      ],
      "execution_count": 982,
      "outputs": [
        {
          "output_type": "stream",
          "text": [
            "Probability of given word in data 40.8256880733945\n"
          ],
          "name": "stdout"
        }
      ]
    },
    {
      "cell_type": "markdown",
      "metadata": {
        "id": "R02tkiO2XCSN"
      },
      "source": [
        "**D) Calculate accuracy using dev dataset **\n"
      ]
    },
    {
      "cell_type": "code",
      "metadata": {
        "id": "Vwch3wz1QVMt"
      },
      "source": [
        "def NaiveBayes(imdb_data, label, word,words_count, attribute):\n",
        "    numerator = num_of_word_in_posneg(word, words_count,attribute)\n",
        "    denominator = prob_calc_of_word_in_data(imdb_data, word)\n",
        "    posnegdoc = pos_neg_doc_count(label,attribute)\n",
        "    if denominator == 0:\n",
        "        denominator = 0.1\n",
        "    else:\n",
        "        denominator = denominator\n",
        "    result = (numerator/posnegdoc)*(posnegdoc/len(imdb_data))/denominator\n",
        "    return result"
      ],
      "execution_count": 983,
      "outputs": []
    },
    {
      "cell_type": "code",
      "metadata": {
        "id": "QeyQliKeQYQv"
      },
      "source": [
        "def NaiveBayes_for_data(imdb_data,label,words_count,data1):\n",
        "    positive_pred = 1\n",
        "    negative_pred = 1\n",
        "    y_pred = []\n",
        "    for index,review in enumerate(data1):\n",
        "        for word in review.split(\" \"):\n",
        "            a = NaiveBayes(imdb_data, label, word,words_count, attribute = \"negative\")\n",
        "            if a == 0:\n",
        "                a = 0.1\n",
        "            else:\n",
        "                a = a\n",
        "            negative_pred = negative_pred * a\n",
        "            #print(\"n\",negative_pred)\n",
        "            b = NaiveBayes(imdb_data, label, word,words_count, attribute = \"positive\")\n",
        "            if b == 0:\n",
        "                b = 0.1\n",
        "            else:\n",
        "                b = b\n",
        "            positive_pred = positive_pred * b\n",
        "            #print(\"p\",positive_pred)\n",
        "        if positive_pred > negative_pred:\n",
        "            y_pred.append(1)\n",
        "        else:\n",
        "            y_pred.append(0)\n",
        "    return y_pred"
      ],
      "execution_count": 984,
      "outputs": []
    },
    {
      "cell_type": "code",
      "metadata": {
        "id": "QwocyY-qQq9h"
      },
      "source": [
        "y_pred = NaiveBayes_for_data(X_train,Y_train,words_count,X_development)"
      ],
      "execution_count": 985,
      "outputs": []
    },
    {
      "cell_type": "code",
      "metadata": {
        "id": "EIRllDdOQuoa"
      },
      "source": [
        "def accuracy(label, prediction):\n",
        "    pred = 0\n",
        "    for i in range(len(label)):\n",
        "        if(label[i]==prediction[i]):\n",
        "            pred = pred + 1\n",
        "        acc = float(pred/len(label))\n",
        "    return acc"
      ],
      "execution_count": 986,
      "outputs": []
    },
    {
      "cell_type": "markdown",
      "metadata": {
        "id": "kAAsh88QXWcN"
      },
      "source": [
        " **E)Do following experiments\n",
        "Compare the effect of Smoothing**\n",
        "\n"
      ]
    },
    {
      "cell_type": "code",
      "metadata": {
        "colab": {
          "base_uri": "https://localhost:8080/"
        },
        "id": "QgQw_J7uQwHb",
        "outputId": "4769504d-2d43-42e8-df9b-866806db8857"
      },
      "source": [
        "#Accuracy without smoothing\n",
        "Accuracy = accuracy(Y_development,y_pred)\n",
        "print(\"Accuracy without smoothing the data:  \"+str(Accuracy*100)+\" %\")"
      ],
      "execution_count": 987,
      "outputs": [
        {
          "output_type": "stream",
          "text": [
            "Accuracy without smoothing the data:  50.33333333333333 %\n"
          ],
          "name": "stdout"
        }
      ]
    },
    {
      "cell_type": "code",
      "metadata": {
        "id": "4erHVOKlQxue"
      },
      "source": [
        "#smoothing the data\n",
        "def NaiveBayesSmooth(imdb_data, label, word,words_count, attribute):\n",
        "    numerator = num_of_word_in_posneg(word, words_count, attribute)\n",
        "    denominator = prob_calc_of_word_in_data(imdb_data, word)\n",
        "    posnegdoc = pos_neg_doc_count(label,attribute)\n",
        "    if denominator == 0:\n",
        "        denominator = 0.1\n",
        "    else:\n",
        "        denominator = denominator\n",
        "    result = (((numerator/posnegdoc)*(posnegdoc/len(imdb_data)))+1)/(denominator+2)\n",
        "    return result\n",
        "def NaiveBayes_for_Smoothdata(imdb_data,label,words_count,data1):\n",
        "    positive_pred = 1\n",
        "    negative_pred = 1\n",
        "    y_pred = []\n",
        "    for index,review in enumerate(data1):\n",
        "        for word in review.split(\" \"):\n",
        "            a = NaiveBayesSmooth(imdb_data, label, word,words_count, attribute = \"negative\")\n",
        "            if a == 0:\n",
        "                a = 0.1\n",
        "            else:\n",
        "                a = a\n",
        "            negative_pred = negative_pred * a\n",
        "            #print(\"n\",negative_pred)\n",
        "            b = NaiveBayesSmooth(imdb_data, label, word,words_count, attribute = \"positive\")\n",
        "            if b == 0:\n",
        "                b = 0.1\n",
        "            else:\n",
        "                b = b\n",
        "            positive_pred = positive_pred * b\n",
        "            #print(\"p\",positive_pred)\n",
        "        if positive_pred > negative_pred:\n",
        "            y_pred.append(1)\n",
        "        else:\n",
        "            y_pred.append(0)\n",
        "    return y_pred"
      ],
      "execution_count": 988,
      "outputs": []
    },
    {
      "cell_type": "code",
      "metadata": {
        "id": "lifa3beCQ3Y2"
      },
      "source": [
        "#predicted values for given data \n",
        "y_pred = NaiveBayes_for_Smoothdata(X_train,Y_train,words_count,X_development)"
      ],
      "execution_count": 989,
      "outputs": []
    },
    {
      "cell_type": "code",
      "metadata": {
        "colab": {
          "base_uri": "https://localhost:8080/"
        },
        "id": "tu_APeoLQ5C8",
        "outputId": "b8dfde62-1fcd-4f89-fec7-bf39a7301f28"
      },
      "source": [
        "#accuracy after smoothing the data\n",
        "Accuracy = accuracy(Y_development,y_pred)\n",
        "print(\"Accuracy after smoothing the data:  \"+str(Accuracy*100)+\" %\")"
      ],
      "execution_count": 990,
      "outputs": [
        {
          "output_type": "stream",
          "text": [
            "Accuracy after smoothing the data:  50.66666666666667 %\n"
          ],
          "name": "stdout"
        }
      ]
    },
    {
      "cell_type": "markdown",
      "metadata": {
        "id": "4t_gJZqdXoFr"
      },
      "source": [
        "**-->Derive Top 10 words that predicts positive and negative class\n",
        "P[Positive| word]**"
      ]
    },
    {
      "cell_type": "code",
      "metadata": {
        "id": "c3OCmVqZQ6VH"
      },
      "source": [
        "import operator,itertools\n",
        "top_positive={}\n",
        "for word in words_count.keys():\n",
        "    acc = NaiveBayes(X_train, Y_train, word,words_count, attribute=\"positive\")\n",
        "    top_positive[word] = acc\n",
        "top_reversed = dict(sorted(top_positive.items(),key=operator.itemgetter(1),reverse=True))\n",
        "top_10_positive = dict(itertools.islice(top_reversed.items(), 10))"
      ],
      "execution_count": 991,
      "outputs": []
    },
    {
      "cell_type": "code",
      "metadata": {
        "colab": {
          "base_uri": "https://localhost:8080/"
        },
        "id": "RZm1wm7RRID3",
        "outputId": "2ed352e1-cfa0-420d-bed1-f43a7fe6674a"
      },
      "source": [
        "#top10 positive \n",
        "print(\"Top 10 words that predict positive class\\n\",top_10_positive.keys())"
      ],
      "execution_count": 992,
      "outputs": [
        {
          "output_type": "stream",
          "text": [
            "Top 10 words that predict positive class\n",
            " dict_keys(['their', 'it!', 'well.', 'John', 'interesting', 'wonderful', 'people', 'worth', 'played', 'job'])\n"
          ],
          "name": "stdout"
        }
      ]
    },
    {
      "cell_type": "code",
      "metadata": {
        "id": "AWQwdDSNRJ-D"
      },
      "source": [
        "top_negative={}\n",
        "for word in words_count.keys():\n",
        "    acc = NaiveBayes(X_train, Y_train, word,words_count, attribute=\"negative\")\n",
        "    top_negative[word] = acc\n",
        "top_reversed = dict(sorted(top_positive.items(),key=operator.itemgetter(1),reverse=False))\n",
        "top_10_negative = dict(itertools.islice(top_reversed.items(), 10))"
      ],
      "execution_count": 993,
      "outputs": []
    },
    {
      "cell_type": "code",
      "metadata": {
        "id": "IusrQ7oFRLiO"
      },
      "source": [
        "top_negative={}\n",
        "for word in words_count.keys():\n",
        "    acc = NaiveBayes(X_train, Y_train, word,words_count, attribute=\"negative\")\n",
        "    top_negative[word] = acc\n",
        "top_reversed = dict(sorted(top_positive.items(),key=operator.itemgetter(1),reverse=False))\n",
        "top_10_negative = dict(itertools.islice(top_reversed.items(), 10))"
      ],
      "execution_count": 994,
      "outputs": []
    },
    {
      "cell_type": "markdown",
      "metadata": {
        "id": "7V_qEgFVYJLd"
      },
      "source": [
        "**F)Using the test dataset\n",
        "Use the optimal hyperparameters you found in the step e, and use it to calculate the final accuracy.**"
      ]
    },
    {
      "cell_type": "code",
      "metadata": {
        "colab": {
          "base_uri": "https://localhost:8080/"
        },
        "id": "C79Ht5CERM9T",
        "outputId": "7c8206e6-76d3-466c-9919-abf3e46f02df"
      },
      "source": [
        "shuffle = imdb_data.sample(frac=1).to_numpy()\n",
        "#shuffling data using sample method to get random values in train and development set each time \n",
        "size = int(0.40*len(imdb_data))\n",
        "#i have taken 40% of data as testing.\n",
        "test_set = shuffle[:size]\n",
        "\n",
        "print(\"Size of test set: \",len(test_set))\n",
        "print(\"Shape of test set:\",{test_set.shape})\n",
        "\n"
      ],
      "execution_count": 995,
      "outputs": [
        {
          "output_type": "stream",
          "text": [
            "Size of test set:  299\n",
            "Shape of test set: {(299, 2)}\n"
          ],
          "name": "stdout"
        }
      ]
    },
    {
      "cell_type": "code",
      "metadata": {
        "id": "8T-3G_gkRPax"
      },
      "source": [
        "X_test = test_set[:,0] #reviews in X_train\n",
        "Y_test = test_set[:,-1]"
      ],
      "execution_count": 996,
      "outputs": []
    },
    {
      "cell_type": "code",
      "metadata": {
        "id": "HlUcdtUORWdZ"
      },
      "source": [
        "y_pred = NaiveBayes_for_data(X_train,Y_train,words_count,X_test)"
      ],
      "execution_count": 997,
      "outputs": []
    },
    {
      "cell_type": "code",
      "metadata": {
        "colab": {
          "base_uri": "https://localhost:8080/"
        },
        "id": "qoIdNhk9RYH1",
        "outputId": "2f8c92e8-6c4d-41d5-feb6-bfc1af225e3b"
      },
      "source": [
        "#accuracy without smoothing the test data\n",
        "Accuracy = accuracy(Y_test,y_pred)\n",
        "print(\"Accuracy without smoothing the TEST data:  \"+str(Accuracy*100)+\" %\")"
      ],
      "execution_count": 998,
      "outputs": [
        {
          "output_type": "stream",
          "text": [
            "Accuracy without smoothing the TEST data:  47.82608695652174 %\n"
          ],
          "name": "stdout"
        }
      ]
    },
    {
      "cell_type": "code",
      "metadata": {
        "id": "crV1IsV4RaBO"
      },
      "source": [
        "y_pred = NaiveBayes_for_Smoothdata(X_train,Y_train,words_count,X_test)"
      ],
      "execution_count": 999,
      "outputs": []
    },
    {
      "cell_type": "code",
      "metadata": {
        "colab": {
          "base_uri": "https://localhost:8080/"
        },
        "id": "NPbqY6teRbqZ",
        "outputId": "8a7c5071-5ef4-4e25-ad97-fedd3e2ce40b"
      },
      "source": [
        "#accuracy after smoothing the test data\n",
        "Accuracy = accuracy(Y_test,y_pred)\n",
        "print(\"Accuracy after smoothing the TEST data:  \"+str(Accuracy*100)+\" %\")"
      ],
      "execution_count": 1000,
      "outputs": [
        {
          "output_type": "stream",
          "text": [
            "Accuracy after smoothing the TEST data:  53.84615384615385 %\n"
          ],
          "name": "stdout"
        }
      ]
    },
    {
      "cell_type": "code",
      "metadata": {
        "id": "Jq8DNuo4RnRP"
      },
      "source": [
        ""
      ],
      "execution_count": 1000,
      "outputs": []
    }
  ]
}